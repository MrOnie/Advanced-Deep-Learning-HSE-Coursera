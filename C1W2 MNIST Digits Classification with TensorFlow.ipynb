{
  "nbformat": 4,
  "nbformat_minor": 0,
  "metadata": {
    "kernelspec": {
      "display_name": "Python 3",
      "language": "python",
      "name": "python3"
    },
    "language_info": {
      "codemirror_mode": {
        "name": "ipython",
        "version": 3
      },
      "file_extension": ".py",
      "mimetype": "text/x-python",
      "name": "python",
      "nbconvert_exporter": "python",
      "pygments_lexer": "ipython3",
      "version": "3.6.5"
    },
    "colab": {
      "name": "C1W2 digits_classification.ipynb",
      "provenance": [],
      "collapsed_sections": [],
      "include_colab_link": true
    }
  },
  "cells": [
    {
      "cell_type": "markdown",
      "metadata": {
        "id": "view-in-github",
        "colab_type": "text"
      },
      "source": [
        "<a href=\"https://colab.research.google.com/github/MrOnie/Advanced-Deep-Learning-HSE-Coursera/blob/main/C1W2%20MNIST%20Digits%20Classification%20with%20TensorFlow.ipynb\" target=\"_parent\"><img src=\"https://colab.research.google.com/assets/colab-badge.svg\" alt=\"Open In Colab\"/></a>"
      ]
    },
    {
      "cell_type": "markdown",
      "metadata": {
        "id": "xIN-O69WIQdw"
      },
      "source": [
        "# MNIST digits classification with TensorFlow"
      ]
    },
    {
      "cell_type": "markdown",
      "metadata": {
        "id": "YsfGziXcIQdx"
      },
      "source": [
        "<img src=\"https://github.com/hse-aml/intro-to-dl/blob/master/week2/v2/images/mnist_sample.png?raw=1\" style=\"width:30%\">"
      ]
    },
    {
      "cell_type": "code",
      "metadata": {
        "id": "6wIUiVGeIfc3",
        "colab": {
          "base_uri": "https://localhost:8080/"
        },
        "outputId": "dd434c4a-9353-4312-e5ff-e7407a883acc"
      },
      "source": [
        "! shred -u setup_google_colab.py\n",
        "! wget https://raw.githubusercontent.com/hse-aml/intro-to-dl/master/setup_google_colab.py -O setup_google_colab.py\n",
        "import setup_google_colab\n",
        "# please, uncomment the week you're working on\n",
        "setup_google_colab.setup_week2()"
      ],
      "execution_count": 1,
      "outputs": [
        {
          "output_type": "stream",
          "text": [
            "shred: setup_google_colab.py: failed to open for writing: No such file or directory\n",
            "--2021-08-18 04:18:51--  https://raw.githubusercontent.com/hse-aml/intro-to-dl/master/setup_google_colab.py\n",
            "Resolving raw.githubusercontent.com (raw.githubusercontent.com)... 185.199.111.133, 185.199.110.133, 185.199.109.133, ...\n",
            "Connecting to raw.githubusercontent.com (raw.githubusercontent.com)|185.199.111.133|:443... connected.\n",
            "HTTP request sent, awaiting response... 200 OK\n",
            "Length: 3636 (3.6K) [text/plain]\n",
            "Saving to: ‘setup_google_colab.py’\n",
            "\n",
            "setup_google_colab. 100%[===================>]   3.55K  --.-KB/s    in 0s      \n",
            "\n",
            "2021-08-18 04:18:51 (37.8 MB/s) - ‘setup_google_colab.py’ saved [3636/3636]\n",
            "\n",
            "**************************************************\n",
            "inception_v3_weights_tf_dim_ordering_tf_kernels_notop.h5\n",
            "**************************************************\n",
            "cifar-10-batches-py.tar.gz\n",
            "**************************************************\n",
            "mnist.npz\n"
          ],
          "name": "stdout"
        }
      ]
    },
    {
      "cell_type": "code",
      "metadata": {
        "id": "aUzqi_AMIQdr",
        "colab": {
          "base_uri": "https://localhost:8080/"
        },
        "outputId": "01a6440e-9d40-469e-e8f9-45d7431e8b6b"
      },
      "source": [
        "# set tf 1.x for colab\n",
        "%tensorflow_version 1.x"
      ],
      "execution_count": 2,
      "outputs": [
        {
          "output_type": "stream",
          "text": [
            "TensorFlow 1.x selected.\n"
          ],
          "name": "stdout"
        }
      ]
    },
    {
      "cell_type": "code",
      "metadata": {
        "id": "AabvvfWZIQdy",
        "colab": {
          "base_uri": "https://localhost:8080/"
        },
        "outputId": "a8cdd474-1faa-4ee5-9ef0-a9413a595c11"
      },
      "source": [
        "import numpy as np\n",
        "from sklearn.metrics import accuracy_score\n",
        "from matplotlib import pyplot as plt\n",
        "%matplotlib inline\n",
        "import tensorflow as tf\n",
        "print(\"We're using TF\", tf.__version__)\n",
        "\n",
        "import sys\n",
        "sys.path.append(\"../..\")\n",
        "import grading\n",
        "\n",
        "import matplotlib_utils\n",
        "from importlib import reload\n",
        "reload(matplotlib_utils)\n",
        "\n",
        "import grading_utils\n",
        "reload(grading_utils)\n",
        "\n",
        "import keras_utils\n",
        "from keras_utils import reset_tf_session"
      ],
      "execution_count": 3,
      "outputs": [
        {
          "output_type": "stream",
          "text": [
            "We're using TF 1.15.2\n"
          ],
          "name": "stdout"
        },
        {
          "output_type": "stream",
          "text": [
            "Using TensorFlow backend.\n"
          ],
          "name": "stderr"
        }
      ]
    },
    {
      "cell_type": "markdown",
      "metadata": {
        "id": "1WbK-K2QIQdz"
      },
      "source": [
        "# Fill in your Coursera token and email\n",
        "To successfully submit your answers to our grader, please fill in your Coursera submission token and email"
      ]
    },
    {
      "cell_type": "code",
      "metadata": {
        "id": "MtW-zsABIQd0"
      },
      "source": [
        "grader = grading.Grader(assignment_key=\"XtD7ho3TEeiHQBLWejjYAA\", \n",
        "                        all_parts=[\"9XaAS\", \"vmogZ\", \"RMv95\", \"i8bgs\", \"rE763\"])"
      ],
      "execution_count": 23,
      "outputs": []
    },
    {
      "cell_type": "code",
      "metadata": {
        "id": "6jXSzIReIQd1"
      },
      "source": [
        "# token expires every 30 min\n",
        "COURSERA_TOKEN = 'roniemartinez_13@hotmail.com'\n",
        "COURSERA_EMAIL = 'YzDUi6R8P7IPljOj'"
      ],
      "execution_count": 26,
      "outputs": []
    },
    {
      "cell_type": "markdown",
      "metadata": {
        "id": "oDNJg9dMIQd4"
      },
      "source": [
        "# Look at the data\n",
        "\n",
        "In this task we have 50000 28x28 images of digits from 0 to 9.\n",
        "We will train a classifier on this data."
      ]
    },
    {
      "cell_type": "code",
      "metadata": {
        "id": "PhbZO6x5IQd6",
        "colab": {
          "base_uri": "https://localhost:8080/"
        },
        "outputId": "fcdccef1-976b-4a7d-a3cb-b082907bd0ec"
      },
      "source": [
        "import preprocessed_mnist\n",
        "X_train, y_train, X_val, y_val, X_test, y_test = preprocessed_mnist.load_dataset()"
      ],
      "execution_count": 6,
      "outputs": [
        {
          "output_type": "stream",
          "text": [
            "Downloading data from https://s3.amazonaws.com/img-datasets/mnist.npz\n",
            "11493376/11490434 [==============================] - 0s 0us/step\n"
          ],
          "name": "stdout"
        }
      ]
    },
    {
      "cell_type": "code",
      "metadata": {
        "id": "0l036RnpIQd8",
        "colab": {
          "base_uri": "https://localhost:8080/",
          "height": 683
        },
        "outputId": "2d0895ae-55ea-4eca-d74d-2a128f56a9d3"
      },
      "source": [
        "# X contains rgb values divided by 255\n",
        "print(\"X_train [shape %s] sample patch:\\n\" % (str(X_train.shape)), X_train[1, 15:20, 5:10])\n",
        "print(\"A closeup of a sample patch:\")\n",
        "plt.imshow(X_train[1, 15:20, 5:10], cmap=\"Greys\")\n",
        "plt.show()\n",
        "print(\"And the whole sample:\")\n",
        "plt.imshow(X_train[1], cmap=\"Greys\")\n",
        "plt.show()\n",
        "print(\"y_train [shape %s] 10 samples:\\n\" % (str(y_train.shape)), y_train[:10])"
      ],
      "execution_count": 7,
      "outputs": [
        {
          "output_type": "stream",
          "text": [
            "X_train [shape (50000, 28, 28)] sample patch:\n",
            " [[0.         0.29803922 0.96470588 0.98823529 0.43921569]\n",
            " [0.         0.33333333 0.98823529 0.90196078 0.09803922]\n",
            " [0.         0.33333333 0.98823529 0.8745098  0.        ]\n",
            " [0.         0.33333333 0.98823529 0.56862745 0.        ]\n",
            " [0.         0.3372549  0.99215686 0.88235294 0.        ]]\n",
            "A closeup of a sample patch:\n"
          ],
          "name": "stdout"
        },
        {
          "output_type": "display_data",
          "data": {
            "image/png": "[encoded data removed]",
            "text/plain": [
              "<Figure size 432x288 with 1 Axes>"
            ]
          },
          "metadata": {
            "tags": [],
            "needs_background": "light"
          }
        },
        {
          "output_type": "stream",
          "text": [
            "And the whole sample:\n"
          ],
          "name": "stdout"
        },
        {
          "output_type": "display_data",
          "data": {
            "image/png": "[encoded data removed]",
            "text/plain": [
              "<Figure size 432x288 with 1 Axes>"
            ]
          },
          "metadata": {
            "tags": [],
            "needs_background": "light"
          }
        },
        {
          "output_type": "stream",
          "text": [
            "y_train [shape (50000,)] 10 samples:\n",
            " [5 0 4 1 9 2 1 3 1 4]\n"
          ],
          "name": "stdout"
        }
      ]
    },
    {
      "cell_type": "markdown",
      "metadata": {
        "id": "j2nUlfpOIQd9"
      },
      "source": [
        "# Linear model\n",
        "\n",
        "Your task is to train a linear classifier $\\vec{x} \\rightarrow y$ with SGD using TensorFlow.\n",
        "\n",
        "You will need to calculate a logit (a linear transformation) $z_k$ for each class: \n",
        "$$z_k = \\vec{x} \\cdot \\vec{w_k} + b_k \\quad k = 0..9$$\n",
        "\n",
        "And transform logits $z_k$ to valid probabilities $p_k$ with softmax: \n",
        "$$p_k = \\frac{e^{z_k}}{\\sum_{i=0}^{9}{e^{z_i}}} \\quad k = 0..9$$\n",
        "\n",
        "We will use a cross-entropy loss to train our multi-class classifier:\n",
        "$$\\text{cross-entropy}(y, p) = -\\sum_{k=0}^{9}{\\log(p_k)[y = k]}$$ \n",
        "\n",
        "where \n",
        "$$\n",
        "[x]=\\begin{cases}\n",
        "       1, \\quad \\text{if $x$ is true} \\\\\n",
        "       0, \\quad \\text{otherwise}\n",
        "    \\end{cases}\n",
        "$$\n",
        "\n",
        "Cross-entropy minimization pushes $p_k$ close to 1 when $y = k$, which is what we want.\n",
        "\n",
        "Here's the plan:\n",
        "* Flatten the images (28x28 -> 784) with `X_train.reshape((X_train.shape[0], -1))` to simplify our linear model implementation\n",
        "* Use a matrix placeholder for flattened `X_train`\n",
        "* Convert `y_train` to one-hot encoded vectors that are needed for cross-entropy\n",
        "* Use a shared variable `W` for all weights (a column $\\vec{w_k}$ per class) and `b` for all biases.\n",
        "* Aim for ~0.93 validation accuracy"
      ]
    },
    {
      "cell_type": "code",
      "metadata": {
        "id": "4hYDfKJYIQd9",
        "colab": {
          "base_uri": "https://localhost:8080/"
        },
        "outputId": "b6c0e609-71f8-4db3-ab9c-5100384772dd"
      },
      "source": [
        "X_train_flat = X_train.reshape((X_train.shape[0], -1))\n",
        "print(X_train_flat.shape)\n",
        "\n",
        "X_val_flat = X_val.reshape((X_val.shape[0], -1))\n",
        "print(X_val_flat.shape)"
      ],
      "execution_count": 8,
      "outputs": [
        {
          "output_type": "stream",
          "text": [
            "(50000, 784)\n",
            "(10000, 784)\n"
          ],
          "name": "stdout"
        }
      ]
    },
    {
      "cell_type": "code",
      "metadata": {
        "id": "RKMwlmLeIQd-",
        "colab": {
          "base_uri": "https://localhost:8080/"
        },
        "outputId": "5b2ba1e2-65fd-4331-c103-fd76718ef13a"
      },
      "source": [
        "import keras\n",
        "\n",
        "y_train_oh = keras.utils.to_categorical(y_train, 10)\n",
        "y_val_oh = keras.utils.to_categorical(y_val, 10)\n",
        "\n",
        "print(y_train_oh.shape)\n",
        "print(y_train_oh[:3], y_train[:3])"
      ],
      "execution_count": 9,
      "outputs": [
        {
          "output_type": "stream",
          "text": [
            "(50000, 10)\n",
            "[[0. 0. 0. 0. 0. 1. 0. 0. 0. 0.]\n",
            " [1. 0. 0. 0. 0. 0. 0. 0. 0. 0.]\n",
            " [0. 0. 0. 0. 1. 0. 0. 0. 0. 0.]] [5 0 4]\n"
          ],
          "name": "stdout"
        }
      ]
    },
    {
      "cell_type": "code",
      "metadata": {
        "id": "CBpicGVEIQd-",
        "colab": {
          "base_uri": "https://localhost:8080/"
        },
        "outputId": "6f81fff3-f383-4d24-d890-a89b023fea7f"
      },
      "source": [
        "# run this again if you remake your graph\n",
        "s = reset_tf_session()"
      ],
      "execution_count": 10,
      "outputs": [
        {
          "output_type": "stream",
          "text": [
            "WARNING:tensorflow:From /content/keras_utils.py:68: The name tf.get_default_session is deprecated. Please use tf.compat.v1.get_default_session instead.\n",
            "\n",
            "WARNING:tensorflow:From /content/keras_utils.py:75: The name tf.ConfigProto is deprecated. Please use tf.compat.v1.ConfigProto instead.\n",
            "\n",
            "WARNING:tensorflow:From /content/keras_utils.py:77: The name tf.InteractiveSession is deprecated. Please use tf.compat.v1.InteractiveSession instead.\n",
            "\n"
          ],
          "name": "stdout"
        }
      ]
    },
    {
      "cell_type": "code",
      "metadata": {
        "id": "LdvMQSdfIQd_",
        "colab": {
          "base_uri": "https://localhost:8080/"
        },
        "outputId": "2224800f-905f-4367-e007-a44cb2aa970b"
      },
      "source": [
        "# Model parameters: W and b\n",
        "### YOUR CODE HERE ### tf.get_variable(...) with shape[0] = 784\n",
        "W = tf.get_variable(\"W\", shape=(784, 10), dtype=tf.float32, initializer=tf.contrib.layers.xavier_initializer())\n",
        "#W = tf.get_variable('float32', shape= (784, 10), initializer=tf.contrib.layers.xavier_initializer())\n",
        "### YOUR CODE HERE ### tf.get_variable(...)\n",
        "b = tf.get_variable(\"b\", shape=(10,), dtype=tf.float32)\n",
        "#b = tf.get_variable('float32', shape = (10, ), initializer=tf.contrib.layers.xavier_initializer())"
      ],
      "execution_count": 11,
      "outputs": [
        {
          "output_type": "stream",
          "text": [
            "WARNING:tensorflow:\n",
            "The TensorFlow contrib module will not be included in TensorFlow 2.0.\n",
            "For more information, please see:\n",
            "  * https://github.com/tensorflow/community/blob/master/rfcs/20180907-contrib-sunset.md\n",
            "  * https://github.com/tensorflow/addons\n",
            "  * https://github.com/tensorflow/io (for I/O related ops)\n",
            "If you depend on functionality not listed there, please file an issue.\n",
            "\n"
          ],
          "name": "stdout"
        }
      ]
    },
    {
      "cell_type": "code",
      "metadata": {
        "colab": {
          "base_uri": "https://localhost:8080/"
        },
        "id": "uEm3vPoob6mT",
        "outputId": "f91fa8c6-d103-4469-bece-55b94c70a49f"
      },
      "source": [
        "print(W, b)"
      ],
      "execution_count": 12,
      "outputs": [
        {
          "output_type": "stream",
          "text": [
            "<tf.Variable 'W:0' shape=(784, 10) dtype=float32_ref> <tf.Variable 'b:0' shape=(10,) dtype=float32_ref>\n"
          ],
          "name": "stdout"
        }
      ]
    },
    {
      "cell_type": "code",
      "metadata": {
        "id": "4MAs7DFtIQd_"
      },
      "source": [
        "# Placeholders for the input data\n",
        "### YOUR CODE HERE ### tf.placeholder(...) for flat X with shape[0] = None for any batch size\n",
        "#input_X = tf.placeholder(tf.float32, shape=(None, 784))\n",
        "input_X = tf.placeholder('float32', shape = (None, 784))\n",
        "### YOUR CODE HERE ### tf.placeholder(...) for one-hot encoded true labels\n",
        "#input_y = tf.placeholder(tf.float32, shape=(None, 10))\n",
        "input_y = tf.placeholder('float32', shape = (None, 10))"
      ],
      "execution_count": 13,
      "outputs": []
    },
    {
      "cell_type": "code",
      "metadata": {
        "colab": {
          "base_uri": "https://localhost:8080/"
        },
        "id": "TsREHK9RboDY",
        "outputId": "d32d7e8f-a787-4458-a7ff-bc9d5ab19b2d"
      },
      "source": [
        "print(input_X, input_y)"
      ],
      "execution_count": 14,
      "outputs": [
        {
          "output_type": "stream",
          "text": [
            "Tensor(\"Placeholder:0\", shape=(?, 784), dtype=float32) Tensor(\"Placeholder_1:0\", shape=(?, 10), dtype=float32)\n"
          ],
          "name": "stdout"
        }
      ]
    },
    {
      "cell_type": "code",
      "metadata": {
        "id": "P3ldM3p1IQd_",
        "colab": {
          "base_uri": "https://localhost:8080/"
        },
        "outputId": "9294b848-23da-41f2-e2c1-3cf391ff5ea7"
      },
      "source": [
        "# Compute predictions\n",
        "### YOUR CODE HERE ### logits for input_X, resulting shape should be [input_X.shape[0], 10]\n",
        "logits = input_X @ W + b\n",
        "### YOUR CODE HERE ### apply tf.nn.softmax to logits\n",
        "probas = tf.nn.softmax(logits)\n",
        "### YOUR CODE HERE ### apply tf.argmax to find a class index with highest probability\n",
        "classes = tf.argmax(probas, 1)\n",
        "\n",
        "# Loss should be a scalar number: average loss over all the objects with tf.reduce_mean().\n",
        "# Use tf.nn.softmax_cross_entropy_with_logits on top of one-hot encoded input_y and logits.\n",
        "# It is identical to calculating cross-entropy on top of probas, but is more numerically friendly (read the docs).\n",
        "### YOUR CODE HERE ### cross-entropy loss\n",
        "loss = tf.reduce_mean(tf.nn.softmax_cross_entropy_with_logits(labels = input_y, logits = logits))\n",
        "\n",
        "# Use a default tf.train.AdamOptimizer to get an SGD step\n",
        "### YOUR CODE HERE ### optimizer step that minimizes the loss\n",
        "step = tf.train.AdamOptimizer().minimize(loss)"
      ],
      "execution_count": 15,
      "outputs": [
        {
          "output_type": "stream",
          "text": [
            "WARNING:tensorflow:From <ipython-input-15-357bec976c55>:13: softmax_cross_entropy_with_logits (from tensorflow.python.ops.nn_ops) is deprecated and will be removed in a future version.\n",
            "Instructions for updating:\n",
            "\n",
            "Future major versions of TensorFlow will allow gradients to flow\n",
            "into the labels input on backprop by default.\n",
            "\n",
            "See `tf.nn.softmax_cross_entropy_with_logits_v2`.\n",
            "\n"
          ],
          "name": "stdout"
        }
      ]
    },
    {
      "cell_type": "code",
      "metadata": {
        "scrolled": false,
        "id": "vw9Sv0byIQeA",
        "colab": {
          "base_uri": "https://localhost:8080/",
          "height": 309
        },
        "outputId": "56112ba3-bc4d-498e-81cc-0bbbd01f8f13"
      },
      "source": [
        "s.run(tf.global_variables_initializer())\n",
        "\n",
        "BATCH_SIZE = 512\n",
        "EPOCHS = 40\n",
        "\n",
        "# for logging the progress right here in Jupyter (for those who don't have TensorBoard)\n",
        "simpleTrainingCurves = matplotlib_utils.SimpleTrainingCurves(\"cross-entropy\", \"accuracy\")\n",
        "\n",
        "for epoch in range(EPOCHS):  # we finish an epoch when we've looked at all training samples\n",
        "    \n",
        "    batch_losses = []\n",
        "    for batch_start in range(0, X_train_flat.shape[0], BATCH_SIZE):  # data is already shuffled\n",
        "        _, batch_loss = s.run([step, loss], {input_X: X_train_flat[batch_start:batch_start+BATCH_SIZE], \n",
        "                                             input_y: y_train_oh[batch_start:batch_start+BATCH_SIZE]})\n",
        "        # collect batch losses, this is almost free as we need a forward pass for backprop anyway\n",
        "        batch_losses.append(batch_loss)\n",
        "\n",
        "    train_loss = np.mean(batch_losses)\n",
        "    val_loss = s.run(loss, {input_X: X_val_flat, input_y: y_val_oh})  # this part is usually small\n",
        "    train_accuracy = accuracy_score(y_train, s.run(classes, {input_X: X_train_flat}))  # this is slow and usually skipped\n",
        "    valid_accuracy = accuracy_score(y_val, s.run(classes, {input_X: X_val_flat}))  \n",
        "    simpleTrainingCurves.add(train_loss, val_loss, train_accuracy, valid_accuracy)"
      ],
      "execution_count": 16,
      "outputs": [
        {
          "output_type": "display_data",
          "data": {
            "text/html": [
              "<img src=\"data:image/jpeg;base64,/9j/4AAQSkZJRgABAQEASABIAAD/2wBDAAIBAQEBAQIBAQECAgICAgQDAgICAgUEBAMEBgUGBgYFBgYGBwkIBgcJBwYGCAsICQoKCgoKBggLDAsKDAkKCgr/2wBDAQICAgICAgUDAwUKBwYHCgoKCgoKCgoKCgoKCgoKCgoKCgoKCgoKCgoKCgoKCgoKCgoKCgoKCgoKCgoKCgoKCgr/wAARCAEgA2ADASIAAhEBAxEB/8QAHwAAAQUBAQEBAQEAAAAAAAAAAAECAwQFBgcICQoL/8QAtRAAAgEDAwIEAwUFBAQAAAF9AQIDAAQRBRIhMUEGE1FhByJxFDKBkaEII0KxwRVS0fAkM2JyggkKFhcYGRolJicoKSo0NTY3ODk6Q0RFRkdISUpTVFVWV1hZWmNkZWZnaGlqc3R1dnd4eXqDhIWGh4iJipKTlJWWl5iZmqKjpKWmp6ipqrKztLW2t7i5usLDxMXGx8jJytLT1NXW19jZ2uHi4%2BTl5ufo6erx8vP09fb3%2BPn6/8QAHwEAAwEBAQEBAQEBAQAAAAAAAAECAwQFBgcICQoL/8QAtREAAgECBAQDBAcFBAQAAQJ3AAECAxEEBSExBhJBUQdhcRMiMoEIFEKRobHBCSMzUvAVYnLRChYkNOEl8RcYGRomJygpKjU2Nzg5OkNERUZHSElKU1RVVldYWVpjZGVmZ2hpanN0dXZ3eHl6goOEhYaHiImKkpOUlZaXmJmaoqOkpaanqKmqsrO0tba3uLm6wsPExcbHyMnK0tPU1dbX2Nna4uPk5ebn6Onq8vP09fb3%2BPn6/9oADAMBAAIRAxEAPwD9/KKKKACiiigAooooAKKKKACiiigAooooAKKKKACiiigAooooAKKKKACiiigAooooAKKKKACiiigAooooAKKKKACiiigAooooAKKKKACiiigAooooAKKKKACiiigAooooAKKKKACiiigAooooAKKKKACiiigAooooAKKKKACiiigAooooAKKKKACiiigAooooAKKKKACiiigAooooAKKKKACiiigAooooAKKKKACiiigAooooAKKKKACiiigAooooAKKKKACiiigAooooAKKKKACiiigAooooAKKKKACiiigAooooAKKKKACiiigAooooAKKKKACiiigAooooAKKKKACiiigAooooAKKKKACuN%2BOP7QHwm/Zx8JW/jT4veJ5dPtL7U4dN0u2stLub%2B91K9lDGO1tLO0jluLudlR2EUMbvtR2xhWI7KvFv2u/gP8VPiX4h%2BGfxl%2BBd14fl8X/CrxjPrWmaJ4tu57bTdYhudLvdMubaW4ghmktH8q9aSOdYZtrR7TGyu2ACjpH/AAUr/Y71rxm3w8tvHviCDW7fSodU1bTtR%2BHOvWkmi2EhuAt3qXn2SDTIAbWcNLdmFEKYYqWUGbwn/wAFH/2NfGfg/wAQ%2BOtM%2BLFza6f4Y0e11fVBrnhPVdMuJNPuXMdreWtvd2sU19bzyAxwy2ySpM5CRlmIB86vP2GPjP8AHW0/aRP7Qt74V8My/tB/CPTvBskfgrWLrUzo7RWusWsr%2BbcWtqZ1VNRiZDsXeyygogxuy9Y/Y2/at%2BM%2Btaz8UP2lPh38G9X1e0%2BE6eBtB8E6d4n1QaRrSy6jaXt5fXd2bBJ9PYmyg%2BzxQw3BtnDP50hIwAeyX/7fP7N2k%2BAbH4h6tdeOLSHVPED6Jpeh3Xwj8SR67e3yW5uXjh0dtPGoShYAZTIluUCKzFsA49P8JeOfDfjbwTY/EPRbi5i0rULBbyCTVNPnsZY4iu7MsFykcsDAfeSRVZSCGAIIr41tv2Gf2tJfgpJ4W8feGPCnjS%2Bh%2BIcut%2BC9B1n9ofxXb3fgOxOmxWoi0/xbHp7atcSGUXcreZDGBHeGENsjGfUvB/7Bmq%2BKfgJo3hb9pz46%2BOPEfj5PhtdeFtf8Q6T8Q9at9Muhc2tzbyTPpa3SWN5MiXTBbq4tmmdoopWKuibADc8Mf8FJP2MvF/h7xJ4s0b4tXK6Z4W8GXni6/vr7wlqtpFe6BaruuNU09p7VBqtogK5nsvPQmSMAkyIG4n40f8FdP2YfAf7M/wATf2gfhW%2Bs%2BM7v4b%2BDYfEjeGW8L6xps2r2Nw7R2t3avNYFrixlkRh9vgjmtkVWdnCqSPHfC/8AwSh%2BNC/BPxf8LPFnh3w9J4h/4UL4j8A%2BC/Hmo/tD%2BNvECSXGpWEdp5h0jVUkttGtpDDE8scEl0yeVGqFggz6P%2B1L/wAE5vih%2B0BYeKtE0Pxj4d0q2179le%2B%2BGlrLM87GDVpLiOWGdo1iANqNhBIbzBnhO9AHqkv/AAUU/ZZt/E3hrwJeav41tvEni7TpdQ0HwpefCTxLDq8tnFd/Y5LmSwk08XNvCkxG6SaNEVGWUkRsrmXwN/wUT/Y7%2BJGqarpXhD4tyXB0rQ9Q1lbufw1qVvaapp1iwS8u9NuZrdYdVhhYqHeyedVLqCfmGcXwR8APjz4x/apsf2oPjn4f8HeH5JPg5f8Ag/VNE8J%2BK7vVTBcy6tHcpJDcz6fZl4mgiUsTGjJIdoV1USHwGb9hz9pf4bfs8%2BF/Cnxo1rwIPCP7N3wP8SaB4L1PwrfXcmpeKd2hHTLe4vbeW2ii04JZozSQxS3QknZXDxqgQgH0D4U/4Kl/sL%2BNPBus/ELQ/jLdrouheDj4tutRv/BmsWcdzoIKB9Vs/PtEN/ZxmRBJPbCWOLcPMZc167a/GD4c3vxcuPgVZ%2BIxN4qtPDUGv3emRWsrCHTp55beGd5QnlL5ksE6ohfe3kyEKQjEfFX7I/7P3xC8WfBL4Q/Hb9t/Uvhlovww%2BG/7L9z4fgk07W5wmr6bqmnaWby%2B1X7VBDDpkEVppyq0CS3CZleRplWNVrsP%2BCK3wr8d6P8As76n8evit4tbxFrHjW%2Bg03w54hlgaOS%2B8I6JF/ZWiXBD8/6VDDNqhPd9WcgKCFAB9lUUUUAFFFFABRRRQAUUUUAFFFFABRRRQAUUUUAFFFFABRRRQAUUUUAFFFFABRRRQAUUUUAFFFFABRRRQAUUUUAFFFFABRRRQAV4jpH/AAUY/Y91K716z1P4pXnh5vDnhy58QahJ418I6roMc2k27pHPf2smpWsC31ujyRK0tsZUBljGcuufab2K5ms5YbO6EEzxMsUxj3%2BWxHDbT1wecd6/MTV/%2BCOX7cvxf1bwvrnxu%2BOOhvrfhrwfqFnqHijUPit4m8TjxDrf2zSr611E6XfRQ2Wk20lzpi%2BfYWQCiOTassgVAoB9sv8At/8A7MNr8NG%2BLGseIPFWlaW2uQaNY2eufDLX7DVNTv5kMkMFlptxYpe37SIGdfs8MgZUdgSEYjovAf7VnwP%2BI%2Bv2XhPw54h1SHV7/wAKT%2BJIdI1rwrqWmXaabDd/ZJZZYby3ikgdZ/kMMirL32bea8m%2BJ3wc/bd%2BMTfD342654N%2BFWh/EP4UeOptY8P%2BGbXxxqV/ouuWdxpN3plzHcXz6VDNYzFL2SSN0tbgRmIKfMEjYq/En4Dftwa/8ZfDv7TXgfRvhXaeLL74Yar4L8Y6FqXivUpLDSFuL%2BG6tb%2ByuE04SagYhG6yW8sVoJS4xLFjkA7jSf8Ago3%2ByB4j17wL4W8K/EbVdZ1P4k%2BDdK8W%2BDdO0TwPrN7PeaHqL7LXUZEgtGa1t92PMknEa24ZTN5QYE7Hw1/bc/Zu%2BK/xGufhP4Z8X6tZ6/b6Xc6nDZeJ/BmraIt/Y28iRz3dlLqNrBHfwRvLEHltmkRfMQkgMpPlH7Cn7CXxY/Zh1/4caz488QeGrs%2BDv2UvCPwxv30i5nlZtW0t5muZovMgj3Wrb02MxV22/NGmBXjXw0/4JV/tjeJ/ij4X8TftTfGGz1SLT/AHivwv408TQfF/xJrV54il1exS2/tO10y%2Bhj0/QjlSxtLRSi5UCZxGq0AfUvhP/gov%2ByP410WPxVoPjvXP7DuNV0vT9P8AEt78P9btdK1GXUr2OyspLS%2Bns0tryCW5mijFxBI8IMqFnCsCfS/C3xd%2BHnjX4geKfhd4X8Q/a9c8FyWcfie0S0mC2Ml1B9ogjMrII3doSshRGZkWSMsFEibvmHxx4E%2BIvhX/AIJ7eNPgR/wUM8T/AAq8EeAtB%2BGkWgW3xM8O%2BLbsM06RpbWupPaXVnAmmzLMLeSGCO4umM5REcnaG7X/AIJX/D74seG/2RNK%2BKv7RVglv8TvixfS%2BOviJCtu0X2e/v1jMNpsb5k%2By2MdlZ7TkgWuDQB9G0UUUAFFFFABRRRQAUUUUAFFFFABRRRQAUUUUAFFFFABRRRQAUUUUAFFFFABRRRQAUUUUAFFFFABRRRQAUUUUAFFFFABRRRQAUUUUAFeL/Hrx/8AtF/8NF%2BBfgR8BfGfgrw%2Bmv8AgrxLr2r6n4v8F3etEnTrvQ7eGGGO31Kx8sN/akrMzM%2BfLQALyT7RXhXxF1pLL/gpV8IdFkUYvfgn8Q2Rs87o9W8GnH5Mx/Ck2luXCEqjtHs392rL/wDwg/8AwUL/AOjoPgz/AOGH1b/5qKP%2BEH/4KF/9HQfBn/ww%2Brf/ADUV7NRTIPGf%2BEH/AOChf/R0HwZ/8MPq3/zUUf8ACD/8FC/%2BjoPgz/4YfVv/AJqK9mooA8Z/4Qf/AIKF/wDR0HwZ/wDDD6t/81FH/CD/APBQv/o6D4M/%2BGH1b/5qK9mooA8Z/wCEH/4KF/8AR0HwZ/8ADD6t/wDNRR/wg/8AwUL/AOjoPgz/AOGH1b/5qK9mooA8Z/4Qf/goX/0dB8Gf/DD6t/8ANRR/wg//AAUL/wCjoPgz/wCGH1b/AOaivZqKAPGf%2BEH/AOChf/R0HwZ/8MPq3/zUUf8ACD/8FC/%2BjoPgz/4YfVv/AJqK9mooA8Z/4Qf/AIKF/wDR0HwZ/wDDD6t/81FH/CD/APBQv/o6D4M/%2BGH1b/5qK9mooA8Z/wCEH/4KF/8AR0HwZ/8ADD6t/wDNRR/wg/8AwUL/AOjoPgz/AOGH1b/5qKta/wDG/wDZE%2BFNppGk/HT4w/Dnw5rmoaLBqBtvF3iGwtLu4jkyPP23Dq7IzpIA3TKMM8EDN/4a/wD%2BCcH/AEdF8Ef/AAttH/8Ajtc08Zg6cnGdWKa6OUU/uckz2sPw3xJi6Ea1DA15wkrqUaNaUWu6lGjKLWj1Ta03LH/CD/8ABQv/AKOg%2BDP/AIYfVv8A5qKP%2BEH/AOChf/R0HwZ/8MPq3/zUVX/4a/8A%2BCcH/R0XwR/8LbR//jtenaBovws8V6FZeKfC2k%2BH9S0zUrSO607UdPggmguoJFDxyxyICroykMrKSCCCDg1dLE4eu2qc4yt2kn%2BTZz47Js5yuEZ43C1aSk7J1KdSmm97JzpwTdtbJt21tbU85/4Qf/goX/0dB8Gf/DD6t/8ANRR/wg//AAUL/wCjoPgz/wCGH1b/AOaivPPh9/wUa/Yv8X%2BB7Pxh4h%2BHvifQZ9U8ca14W0TRrn4Pa3Peate6dcX8ci2kUOns90TDp887LErmEAxybJFZR2XxC/ao/Za8C2Xj20vNEi0/WPAXhDWvEN5beLPAmraTZ3dnpi/6XPb3UmnOL23iZohJLZJdFRNGwR96K%2Bx5po/8IP8A8FC/%2BjoPgz/4YfVv/moo/wCEH/4KF/8AR0HwZ/8ADD6t/wDNRVWw/as/Yw1D4zyfs/Q3lv8A8JRb%2BII9Buo/%2BEGvxYQ6q%2BnR6lHYtqDWgtFne0lSZIzKGcHCgsCo2fjX8Vfgr8JP2edd/aH0fwjo3ijTtLsGk0230NbaQardNKIILWKYAoGkuGSHcTtVmJboaAKH/CD/APBQv/o6D4M/%2BGH1b/5qKP8AhB/%2BChf/AEdB8Gf/AAw%2Brf8AzUU/9nD4gW3xcvPGXgf4o/Arw34V8YeA/EEOma/pWj6iuq2Miz2Nte29zbXUlpbPLG8VyqnfBGyyxSrhlCu/knxM/bR8Q/Abwz8T5fjl%2ByH4I07xB4A%2BFg8d2Wm6F46F9Z3VkZ54BBeXUmlwNYTb4G5WG4jZVkKO/lMKAPWP%2BEH/AOChf/R0HwZ/8MPq3/zUUf8ACD/8FC/%2BjoPgz/4YfVv/AJqK8l%2BKH7cvhz4X/Ab4f/GK%2B8C/s%2BXq/ED4iP4ZtdctfjWn/CJ2MS6bqN99ql1s6P8AeLae0HlC2x5kyDzOoq38ev23PDvwGmvbnWPgD4EvdL8GfC3SfHvxR1mPxikcFhpd7c3Vv/xKCdPP9sOjWN03z/Ywym2wQ9wqKAen/wDCD/8ABQv/AKOg%2BDP/AIYfVv8A5qKP%2BEH/AOChf/R0HwZ/8MPq3/zUVzvib9qH4aaP%2B2don7Juj/BTTL%2BxuNKv5fE3jRpIYrfR7%2BC0jvE08ReS3nym2kSeXLx%2BSk9scSecQmB%2BzR%2B1dJ%2B118Ndb%2BJXwJ%2BCHwg1hRY2N34X0OL4pxSaisV026Jdcgh0yT%2BxZfs5E3lKbtwQ8ZAZcEA9B/4Qf/goX/0dB8Gf/DD6t/8ANRR/wg//AAUL/wCjoPgz/wCGH1b/AOaivNPEf7b3hTwb%2BzD4w%2BL/AIi/Zo0Wbxt4V8W6p4UtfA2i6vFdWutazZRvNIlrqDWkbNbJBHLNNM1sHgS1ut0TNCVbB%2BKf/BRjwF8N/iT4F%2BHx/Z48INP4x8M%2BF9Yg0/VfFcVlq2q/2zetam20KyNk/wDbM1ntEtyvm2/lRywsfv8AAB7T/wAIP/wUL/6Og%2BDP/hh9W/8Amoo/4Qf/AIKF/wDR0HwZ/wDDD6t/81Fcd4q/aE8UfDP9qG3%2BC3xS/Zp%2BHVn4Tn8J%2BIvFVx4v0fxnPeXmm6JpbW6C5u7B9HhSN5nuoVESXMmNsxVpBESeR8Gft6aF4z%2BBVz8adK%2BBXwrvpNQ8TeHtB8LaDoXxPt9Qntr/AFe7S2ht9eeLT9mjSxGaEyxxm9OS6J5jKgkAPX/%2BEH/4KF/9HQfBn/ww%2Brf/ADUUf8IP/wAFC/8Ao6D4M/8Ahh9W/wDmory7xZ%2B2Jq%2Bn/ss%2BMP2kPCH7NfwxvZfhfe%2BI7H4o6Pqnj%2Ba3h0660gt5kdjc2%2Bi3Bv8AzVXcgeK3ceZGrIHLIl%2Bb9r7Q1%2BPPhL9m65%2BDfwt0TxZf6Jod74y0nxf8R4NOnsrnUNxk07SYhYSPrV1AkUjuu21Qq9v84MrCMA9C/wCEH/4KF/8AR0HwZ/8ADD6t/wDNRR/wg/8AwUL/AOjoPgz/AOGH1b/5qK4X4fftY2nj34pWvhhP2XtBtvC/ijW/FGhfDrxH/bkb3GsaroU08NxDdWhs1WyimNpePBKs1wWjt9zpEXVTc%2BHf7QeueN/2WfEfxz1z9n34XeFtf8J%2BLNb0XX9L8TfEL7NoVmul6lPZ3F1Jq50oske2BpAWtQASFJA%2BegDrv%2BEH/wCChf8A0dB8Gf8Aww%2Brf/NRVDwP44/as8HftWeHPgj8bviP8PfE2jeJvh74h1yGbwr8PL7Rbq0utNvtEt0VnuNXvkljdNUlJUIjBokIbGQbP7OvxY8IftK/ss2/7QmifDjTNClvodUFo2l3CXVvI1ndXFsl7ZXixRG5s5zbi4t7gInnW80Umxd%2B0TeOP%2BUhfwv/AOyM%2BPP/AE7eEKAPZqKKKACiiigAooooAK%2BcfhN4q/bv%2BOuj69478L/G/wCEmgaXb/ELxVoel6Vf/B/VL%2B4itdL16/0yFpbhPEUCyyPHZq7MsUa7nICgAV9HV4z%2Bwf8A8kQ1z/ss3xH/APU11ugA/wCEH/4KF/8AR0HwZ/8ADD6t/wDNRR/wg/8AwUL/AOjoPgz/AOGH1b/5qK9mooA8Z/4Qf/goX/0dB8Gf/DD6t/8ANRR/wg//AAUL/wCjoPgz/wCGH1b/AOaivZqKAPGf%2BEH/AOChf/R0HwZ/8MPq3/zUUf8ACD/8FC/%2BjoPgz/4YfVv/AJqK9mooA8Z/4Qf/AIKF/wDR0HwZ/wDDD6t/81FH/CD/APBQv/o6D4M/%2BGH1b/5qK9mooA8Z/wCEH/4KF/8AR0HwZ/8ADD6t/wDNRR/wg/8AwUL/AOjoPgz/AOGH1b/5qK9mooA8Z/4Qf/goX/0dB8Gf/DD6t/8ANRR/wg//AAUL/wCjoPgz/wCGH1b/AOaivZqKAPGf%2BEH/AOChf/R0HwZ/8MPq3/zUUf8ACD/8FC/%2BjoPgz/4YfVv/AJqK9mooA8Z/4Qf/AIKF/wDR0HwZ/wDDD6t/81FH/CD/APBQv/o6D4M/%2BGH1b/5qK9mooA8Z/wCEH/4KF/8AR0HwZ/8ADD6t/wDNRR/wg/8AwUL/AOjoPgz/AOGH1b/5qK9mooA8Z/4Qf/goX/0dB8Gf/DD6t/8ANRR/wg//AAUL/wCjoPgz/wCGH1b/AOaivZqKAPGf%2BEH/AOChf/R0HwZ/8MPq3/zUUf8ACD/8FC/%2BjoPgz/4YfVv/AJqK9lkkSJDJK4VVGWZjgAetcZrv7SH7O/ha/wD7L8TfHrwXp11/z7X/AIptIZP%2B%2BXkBqJ1KdNXnJL1aX5tGdStSoq9SSj6tL82jjf8AhB/%2BChf/AEdB8Gf/AAw%2Brf8AzUUf8IP/AMFC/wDo6D4M/wDhh9W/%2Baiuytf2kv2dr/H2H49%2BC5s9PK8U2jfykq1cfHT4JWlqb66%2BMXhWKAdZpPENsqD8S%2BKhYjDtaTX3r/MhYrCtXVSP/gUf/kjg/wDhB/8AgoX/ANHQfBn/AMMPq3/zUUf8IP8A8FC/%2BjoPgz/4YfVv/morU1X9uP8AYq0KU2%2BtftffC%2B0kHWO48facjfkZs1h6r/wUp/4J/aNEZrz9sn4cuB1Fp4rtpz%2BUTsaylmGAh8VaC/7fj/8AJGE80yun8Vemv%2B34f/Jlj/hB/wDgoX/0dB8Gf/DD6t/81FH/AAg//BQv/o6D4M/%2BGH1b/wCaiuD8Q/8ABZ//AIJqeHnFsv7S9rqVyx2xWuiaBqN48rei%2BVbsv5kCswf8FgvhDq373wB%2Byp%2B0F4sgP%2BruvDvwpnkjk/3TJIh/SuZ53lCdvbxb8nzf%2BkqRxy4jyGLssTBv%2B6%2Bb/wBIUz0//hB/%2BChf/R0HwZ/8MPq3/wA1FH/CD/8ABQv/AKOg%2BDP/AIYfVv8A5qK8w/4en%2BKJ/wB5Y/8ABMj9p9oz90z/AA2SJvxU3HFZmv8A/BWvxTo6Ff8Ah3N8cbOQDJ/4STSLTS4/%2B%2B5ZyKl57lUVd1P/ACWf/wArKp59llaahSlKTfSNOs2/RKi2/uPYv%2BEH/wCChf8A0dB8Gf8Aww%2Brf/NRR/wg/wDwUL/6Og%2BDP/hh9W/%2BaivmXXf%2BC6MvgxzceO/2Sf7Mtc/Kf%2BFveH3uPxh84MD7ZrGuf%2BDk39lqzj2T/Anx0Z1%2B%2BkN3pciA%2Bzrdnd%2BVcsuKcgg7Trpeqkv0Pco4XNa8VKGBxTT2/wBjxmvp/sjT%2B8%2Bs/wDhB/8AgoX/ANHQfBn/AMMPq3/zUUf8IP8A8FC/%2BjoPgz/4YfVv/mor5Bg/4OPfhbrw/wCKF/Y9%2BImrknCiOSDBP1j8ytPSP%2BC53xr8SSY8L/8ABKj4rairH5DafaZC34JYmkuK8gm/crc3pGb/ACgzWpl2d0leeX4pLzwuIj/6VSgfVf8Awg//AAUL/wCjoPgz/wCGH1b/AOaij/hB/wDgoX/0dB8Gf/DD6t/81FfOUP8AwVl/bk1fC%2BHP%2BCMPxTct0Oqajc2YH/fem1dsf2/v%2BCrniJsaD/wSEvLcN93%2B0/iFBDj6%2BbFHWq4hy2Xw879KVX/5BHnzq4imrvDVv/BM1%2BLsfQH/AAg//BQv/o6D4M/%2BGH1b/wCairf7K3xG%2BNPjDWPih4E%2BOmv%2BF9W1TwD8QotDs9V8J%2BGrnSbe6tZdB0fU1Z7e4vbxlkWTUZULCXaVjQ7VOc/P1z%2B07/wW91E50j/gml4L08EcHUfiVYz4%2Bvl3S133/BM7Xvjz4nm%2BOmuftN%2BBtJ8N%2BOJ/jND/AG3omh3fn2ttjwl4cWHZIJH3boBEx%2BY4ZmHGMDswmZUcZVcIQmrK95QlFffK2vkKjiPbO3JKP%2BKLX6s%2BnqKKK9A6AooooAKKKKACiiigAooooAKKKKACiiigAooooAKKKKACiiigDmPjRofi3xH8Ldb0jwL8StS8H6rJZl7TxHpFlaXFzZFGDsY47yGaBmZVZP3kbgb84JArzz9mjxZ8Svj7/wAE%2Bfhn8QvEnxau9E8VeLvhRoGraz4zsNPsfPhu7jT7ee5uUhmha1RizSEBojEu77hA216f8Rvh/wCH/ip4J1D4feKrnV4dO1SERXcmg%2BIb3SrsKGDYju7GWK4hJIAJjkUkEqcgkHzPTv2Af2ZNN/Z1uf2TYtE8Wz/D678MHw7L4dvvih4guVXSyV/0VJpb5po0CqIhscERZiBEZKEAq/sEfEb4kfFL4W6/4r8X%2BPtQ8YeHG8Z3cXw08b6xptraXviPQFgtwl9LHZwwQMrXf21YZYoY0ntY7aYKfN3t5d8W/jL4c13/AILIfAPwFpFh4ggu9O%2BHHxIsdQl1XwnqNhazs7%2BG5l%2By3NzBHBfKPs53NbPKqfLuK7lz9MfB74NeDPgX4TbwV4DvfEc1gbkzqPE3jPU9cmjOxI9iT6lcTyxxBY1xErCNTuIUFmJ%2BW/2ztXOkf8FjP2LtzYju/D/xPtpDn%2B9YaOVH/fSrXLjJ%2Bzoc3nH8ZRX6nu8OYb63mnsu9Os//AaFaX/tp9nUUUV1HhBRRRQAUUUUAFFFFABRRRQAUUUUAFFFFAHmepfsyfs2/GjR9B8U/GL9nvwP4s1O38P2trBqPiXwnZ388cCqXWJZJ42YIGd2Cg4BdjjJNUv%2BGB/2Ff8Aoyz4S/8AhudM/wDjFcn8Xv8AgpB%2Bxf8AsfS%2BHPhp%2B0X8Zf8AhHdbvvClnqdrZf8ACO6jd77V98Syb7W3kQZeGUbSwb5c4wQTyH/D83/gll/0dF/5ZOuf/IVeLiMXw7TryjXnSU09eb2d7%2Bd1e/qaLxDxGVL6pHOJ0lT05FiakFHrZRVeKjvsorfbU9b/AOGB/wBhX/oyz4S/%2BG50z/4xXp2gaBoXhTQrLwt4W0W003TNNtI7XTtO0%2B2WGC1gjUJHFHGgCoiqAqqoAAAAGBXyt/w/N/4JZf8AR0X/AJZOuf8AyFX094B8deFfih4E0X4l%2BBdU%2B3aJ4i0i21PR73yHi%2B0WtxEssUmyRVdNyOp2soYZwQDxXRgcRk9aclg5U20teTlvbz5UtL9xS4uq8Sfup5jLE8mtnXnV5b6XtKrUtfa6SvtfoeE/DD9hfxX4A8eeFNa1P4z6bqGg%2BB/ih4q8X%2BGtLh8ISQXYXXf7Wee0uLk3rpKYpdVYpKkMX7uEIyFmMg8j1r/gjDLr3inx74kvPjt4diuPGXgLx/4X/tq1%2BF6JrdzH4mkVxcarqJvi%2BqPZbRHCgW3Tyxt2pgMPdrD9vz4R6vp1jNpPhTxHNfXWi%2BLdSu9Jl%2BwW8ulp4cvVsNRju5J7tIIGF26QIzS%2BWxJYusau68J4N/4KfeB/jtN8ONR%2BAkFnLY678Z9R8DeN4L%2B%2BsdSl082/g3V/EKG2udKvrizldjaWB3pPMgSaaNgkqnyvSIOuk/YYD%2BIdV18fFDB1P466T8RzENE/1f2LSNP037Bnz/m3/YPM87A2%2Bbt8ttu5u8%2BNfwO1D9oD9nnXfgl4/wDGMVvf61YNGniDQ9LMAsrpJRNa3UUEssuWhlSF9rOyu0ZzgNgfPHi3/gqtK/wQ8KeNfhF8Kdf8R3uqQfD2TxH4pl8PwW%2BjaK3iS705UguYBqTXMdw1re%2BaqQG6igaaDzZmUkt9IfGH48eH/hJ8AvHnx9utG1K5sfAXh/WNUvrK40%2Ba0luBp0MssqxidFLK3ksElUNG4IZGZSCQDnfgL%2Bz/APFD4U6v4i8d%2BNfi1ofiHxV448Wxat401Gy8HzWFpJawaZFYW9lY27X0zWmz7PBKZJZbkszXA2qJU8ni/wBnH9kv9qf4H6L44v8AxZ%2B0x8P/ABZ4x8a3Z1G78Z3PwivYJ5r4OBCLmM67IstnBABbw2kJtxGoDBy7SM%2B3%2By18bPj94h%2BKnib4DftKjwjc%2BItG8FeHfFdrqXgvSrmytBa6rJqUBsmjubm4d5befS5szh0WVJoyIoyGWua8ZftE/tUfDL48a/8ACO%2BufA3jSWT4X%2BIvF2j6V4X8KX9ve%2BHjaTQx6ZDfs19OL0XhkmjQxpauz2U3lo6q5iANvwN%2By1%2B0N8MPDvi3V/BHx88DDxt4/wDHz%2BJ/Furar8K7ibRyx0u101YbPTotXiltz5Vlbs0kl1Ozu05YYkUR8R48/wCCVvhnx58BvAX7L2seI/Beo%2BDvC3hf%2BwtXv/EPwwhvvEE1tIcXa6Zf/akj0dZ4i0JVLeby42AjKFVYXPgl%2B3N4zvv2ddT8ZfErxHo3ib4lR3Om6bZfDrTvhpq/g2/t9Zv4VNrp09nq9zcXOx5C7fbNqxCCGaXBSGRh5h4m/wCCnP7QnhX9nb4d/EnxlrXwt8K6rrnw78Q%2BIdY1bXdD1BtL1/VdMuooYtA0yNb1ZILq5VpJELyXMoEZ8u3nw%2BwA9s1X/gmZ8DX/AGnfDv7S/hnxD4u0yfS9a13Vtb8PHx7rs%2BnareanGFmkFq%2BofZbZd25njSDy5AQpUBVxx3gj/gmp8ZPhV8OJ/CHwj/ay0rw1q%2Bg/CW3%2BHHwu8Rab8NMSaBosdzFJ515H/aGNSvxFCqJOpto45GklEBMjqbvgr9uL4k%2BNP2odK8Pa3r%2Bk%2BDfhv4j07w/ceDW1/wCE2tTSeIptR077UbWPX1vI9NtrlXZUW3eJ5HIKqrFhjE8Hf8FFfiL4G8GfGf4k/tM6npFnc/DbQvGniDS/hmvws1nw9qV3o%2Bi6jcxQXkOp6ldvbarFLbR2jPLawiON76IsygqrAHVX/wDwTH8DePf2a9J%2BBfxZ8SQQ6l4W0TV9K8Ha/wDDG51/wrHp8GoQokzTww61LLqEjuvmzNcXDidmYsAXkZ8jV/8Agl3rX9kW3gHwt%2B0Q0XhTUPBvhXw74wtfEHh%2B51fVbmHQruW5hl0/UbjUN9g8jTPnzUu/LIV4vLYZOh8Nf23/ABle/B3WdR1jx34T8a/EW41ex0jwp4O0TwDrPhhl1O%2BgaS1hmi1WeW4uLTak1ydQjjjja1tbiZY/3TCvJvG3/BVb44%2BCP2Z/h38b/F2o/DXw1dax8CZfHmqf27ot8bbxdqsKxs/h7Rgt6rW1y6lmUu15IBNEVglCSEAH1Y/7K%2Bg6/wDF34nfFD4ia%2Bdai%2BIvhHT/AApFpYszCNK0W3juvMtlk3t5jzXF9dyvIAnBhQg%2BSGPlnw8/4J1%2BNPBXgzXtF1z4qeAPEt/d/DjQPAehW%2BufCLzNETQ9KnnkiXUdOGpD%2B0bh1uJUZ1mt4kO0xwIN6vq/EH9qz4ueDv2nvhf4Q0bUNI1Pwd8UL23Sy0if4b6rZz6faSadcXBnfxC922myXAltiRpwhW5eOTKghDI3HePv2mf29fh34i%2BPPhrQr34ffEO5%2BFvwaXX9FtvDPwt1a1uJ/Et19rksdMaFdYunvMQWgkkiiEUjfbLbYw3EUAdp4a/4J1%2BHfDv7N2lfs5WvjPT7XT5/iTZ%2BL/HA0bwrHZWes%2BRqMd//AGbbWkc2yws91vaW6x7psWsHlOZGkaUu%2BP37AMnxj%2BL%2Bu%2BP/AA98S9M0HSfHMXhmL4h6fN4S%2B2ahfDQtQkvbN7G9%2B0xixkJk8t2eG4wERohFIGduM8U/t3ePPD3we8N6zB8ffhxHd6n8TZfDPjH4g%2BKvhbrHh7SvAyrpU9/HHqekX%2BppdQTytHbQxtPdWyN/aEDjO6NJrXgz9uL44fFD4ffs8/G/wZH4PtvDXxI8aP4X8b6Ze6DevdtdIuoRvPYTG5iFtEJtPchZ4ZnKSKDsYE0Adf8ADb9hnxT8Pfi1ZeLG%2BNVnfeFfCmveJ9e%2BHnhZ/CjRz6VqmuTzzXMl3di7IvYYTd3scESQ25WO52u8hRXC/AL9mX9sH4FfDLxT4Tt/2oPhxqOta9471HxLYar/AMKcv4bS0fUL65vL23ltv7fZ51MlwBEyzxGMR/P527il4Q/an%2BLtx%2B3f4t%2BAnxO8T6J4W8K2fiuLSfh9pepfCfW45/FsJ8N2GpSS23iGS7XTZJkuptQQ2scDy%2BVp0mRkNIp/wT9/an%2BLv7QFvf6X%2B0L4n0TTfF8Wlw38vw9j%2BE%2Bt%2BGL/AEmB5pY/NMmq3co1SAlFQXFtGkQcEFjuCgA774M/Aq4/Z3/Zy1f4f6j4wGvX91d6/reralFpwsreS81K8ur%2B4W3tg8n2eBZbl1jiLuyoo3PI252oeOP%2BUhfwv/7Iz48/9O3hCvUvHP8AyJOsf9gq4/8ARbV5b44/5SF/C/8A7Iz48/8ATt4QoA9mooooAKKK4748fGzw1%2Bz98OpfiJ4m0jU9U3alY6Zpmi6JDHJe6pqF7dRWlpaQLLJHH5kk80a7pHSNAS7uiKzAA7GivHYf22Phkv7O%2Bq/tC6t4T8S6euia%2B3h/VfB91Z27axBrf9oJp0embIp3gaaW6lhjjdZjA4njkEvltvqDTP2x7zxH4S1DVvBf7LPxK1vxDoPiaTQvFngSwbQ11TQbtbSG9H2mSbVI7Jle2urSZDDcyl1uo8DO4KAe014z%2Bwf/AMkQ1z/ss3xH/wDU11uvQvg58WPBnx4%2BEvhn42fDq9muNA8W6Daavo01xbtFI9tcRLLGXjb5kbawyp5ByD0rz39g/wD5Ihrn/ZZviP8A%2BprrdAHs1FFFABRRRQAUUUUAFFFYvjz4kfDz4W6C/in4m%2BPNG8O6ZF/rNR13VIrSBfrJKyqPzqZSjCLlJ2S76EznCnFyk7JdXovvdkbVFfL3jT/gsd/wT%2B8L6mfDnhn4xXHjTWDnydH8CaBd6pLNj%2B48UflH/v53rFX9tD/goP8AHIhP2Xv%2BCd194d06XmHxP8bNbTSlUdt2nQlrggjnKsa82WdZbzctOftJdoJzf/kqaXzkjx58Q5RzclKp7WXamnUf/kiaXzkj67or5J/4Vf8A8FofHIx4n/ai%2BC/gUSdT4M8FXeptF9P7QYAke/FJ/wAOzfjR4%2B/eftEf8FNvjR4g3cz2nhC9t/DdpN6hobZHyvsCPrS/tDF1P4WFn/284QX4yk/wF/auOq/wcFUf%2BN06a/GUn%2BB9V654j8PeGLP%2B0fEmu2Wn2%2BceffXSRJn/AHnIFcZr/wC1f%2By34UtpbzxN%2B0j4C0%2BKFS0r3ni%2ByjCgeu6UV4fYf8Eav%2BCcvh5n8UeP/hZeeJbqJMz6x408Y6hdNjuX3zrH%2BO2uY8UeA/8Aggx8BpfO8VaT8CLa4tW3NZzzWmo3CkesG6Vz9CpzWNbGZpRjzVFRpr%2B9Ul%2BkYr7j0styvjzPKvs8uwKqS7Q9vVa9fZUWvxXqdZ4i/wCCyP7GKa1J4Y%2BEFz4y%2BKeqQH9/YfDLwZdak0fvvKxxsPdXNVD/AMFPPil4gGz4d/8ABL79oa7kfiH/AISLwrDpKMfdpJm2j3qj4f8A%2BCtH7IFnpqeFf2S/gZ8SfiFZ25KW9n8LfhdcC1jPTjzVgVV9SB2q9/w25/wUD8dfL8H/APglX4hhhf7uoePfH1hpPlD1a3IaRvoDmvP/ALSnV2xnN5UqLmvlJqX5n1y8IfFNK%2BYThg/Kq8Lh7fLE4n2v30k%2By6DR%2B0R/wVz%2BIHPgb/gn74J8ExP/AKq58e/E2O9JHZmisVDL/unmlHw5/wCC03jb5vEf7R3wP8EB/wCHwj4QvdSKD/t%2BIBP6UY/4LYfELgt8Afh5Zv6DU9Wv4v5QNQP2HP2%2BvHR8z4x/8FVvE8cT/esPAXgaw0byh/dWdSzt9SM0cuJrbLEz9ZQpL9GH/ELsto65rxPRj3VOrVrP7sLhYxv/ANxfmxR%2Bw3/wUC8SfP8AEX/grX4nk3dYvDHw20zSwvsGRmJ%2Bp5ri/H/7H3we8Ch/%2BGkP%2BCznxhsAn%2Bvtbz4y2WjRP/smPYCfoDmu0/4c6/AfxLz8bPj/APGz4jBv9dF4x%2BJtzJE/qNsAiwvtmuz8Af8ABKj/AIJ1/DTYfDf7I3hCcx42Nrtm2qHPrm9aXJo/svFVf%2BYdL/HXqz/CLS/Ef%2Bpfg5hP95zDGYp9qdGUE/8At7E4tv76f%2BR8X%2BK9H/4N9tD1AWHxZ/aU8U/Ea63cR33ivxBq4lYf7VioQ/nitzQfiJ/wQ202x/s34afsHeIfFoYDy10/4S6hfyv9Hu8N%2Btfo94Q%2BHngD4fWX9m%2BAvA2j6Hb4x5Gj6ZFbJj02xqBWxVwyCpF3tRi/KjzP75zbfzLp4PwUwb/c5DWqPvUxNNN%2Bqp4WTXym/U/Mq60z9izxflfh3/wQM%2BKl/u%2B5Lq/w%2Bj0aJ/cO85498VUg/ZQ1XxDdC58Bf8G%2BHhnT1P3L3xd8WbONF/3rZSWNfqBRVvhqlN3qTX/btKjH/wBskW8w8N6Lvh%2BFcJ61amJq/lKin91j859J/YP/AGxdQiC%2BHv8Agnn%2BxH4WhP8AD4j8N3WqXKD2eOIqT9a3dJ/4Ju/tstKLiLV/2XPCUn9/wt8CLacp9DOgz%2BNffdFax4by9bym/ml/6TTj%2BZvHi/B4f/dMjy2l2tgaUn99WdRv5o%2BOPD//AAT7/bwtV8nUP%2BCnY0i3ZcNaeCvgro%2BlkD0EsbbvzFaf/DrHxJr37z4if8FJv2kdTc/6yHTfiAmn27/WKOA8fjX1pRXSsjy1K0oyl6zqP/29L8Dsj4m8XUVbCyo0F/05wmDp/wDpOFk/xv5nyX/w5j/ZL1Q/8V74y%2BKXioH748Q/Eq%2Bk3/Xy2StPQP8AgjB/wTM8OuJbX9lrT7mTOWfUtd1K7LH1ImuWH6V9Q0VSyPJou/1eDfnFP87k1PFPxJqQ5P7YxMY9o1ZU191NU1%2BB4voH/BOT9gfwyF/sv9jn4bsV%2B6154QtLlh75mRjmu68Nfs//AAG8FsreDvgl4R0kr906Z4btYMfTZGK66iuyngsHR/h0or0jFflE%2BdxnEvEmYprF46vUv/PWqyX3SqtfgIiJGgjjQKqjCqowAKWiiuk8QKKKKACvGf2X/wDkt/7R3/ZZrH/1CvC9ezV4z%2By//wAlv/aO/wCyzWP/AKhXhegD2aiiigAooooAKKKKACiiigAooooAKKKKACiiigAooooAKKKKACiiigAooooAK%2BDP%2BCluqf2F/wAFV/2INU3Y3ap4xtc/9dxocWP/AB6vvOvzr/4LHXkukf8ABQf9iXX04Sz8eaibhv7sT6p4bjY/%2BP15mcS5MtnLtyv/AMnpn3HhvQWJ40wtF/bVeP34XF/5I/RSiiivTPhwooooAKKKKACiiigAooooAKKKKACiiigDK8Df8iTo/wD2C7f/ANFrWrWUPBmhplYGvoUySIrfVrmNF9lVZAqj2AApf%2BEP0n/n71X/AMHl3/8AHaANSisv/hD9J/5%2B9V/8Hl3/APHaP%2BEP0n/n71X/AMHl3/8AHaAPD/EH/BNP9nzxL4j%2BM3iXUNX8TCX426dbWeuW6ajD5OiCJSWk01DCRA005FzMJfNSWZVLKV%2BQv8Ff8E7vhz4W8XR/ELxB8YvH3inxAfidJ47vNY8QXun%2BZd6m3hWfwv5bJa2UMSW4sJyyxxJHiZEbOzdG3tv/AAh%2Bk/8AP3qv/g8u/wD47R/wh%2Bk/8/eq/wDg8u//AI7QB85f8OpPgxZ%2BF9A8A%2BHPjP8AEjSPDukWPhCHVNB07U9PEHiCbw01qdMu7xnsWlE22ytkl%2BzvBHKkShk%2BVcfQOsfDrSPFvgfXfh18Qr658R6T4ihvrbUrXVI4VDWV0HV7MeRHGDEsbmNS2ZCoG93bLG5/wh%2Bk/wDP3qv/AIPLv/47R/wh%2Bk/8/eq/%2BDy7/wDjtAHmfwO/Y90v4FyalrOnfHPx34g1/VIdFsbrxR4mn02e%2BOkaVJK9ppI8uyji%2BzD7RdhnMZuWN5M5n8wrIud8Jf2Jrj4PeO/H/j/Qf2q/iXfXXxF1C9v9Zj1aDw/Kbe6mXy4JIZ10lbjbaRBIraGWWSGNEAaN%2Bc%2Bu/wDCH6T/AM/eq/8Ag8u//jtH/CH6T/z96r/4PLv/AOO0AeR6T/wT/wDgLrB8QXv7R1kfjbqPiWfT31PUfi5oOkagAlglwlnHFa29jBaQiH7ZeFWSAOTdSlnbdxkaD/wTc%2BE3gL9nPSf2T/g58SfFvgTwFaQ6jb69ong6DSLP/hI4L1908d3L/Z7SREqXjEto1tMFkP7zcEZfc/8AhD9J/wCfvVf/AAeXf/x2j/hD9J/5%2B9V/8Hl3/wDHaAPOPGn7I2i%2BPvHGh6x4j%2BMHi9vCXhzV9M1TR/hhappcGhQXenGN7OTMdit6yxTRRTiI3Ri8yNSU2gLWXq/7Cngb4geI9c174%2BfFbxl8SYNY8Ha14Ut9H8VvpsVppmkasYhf20C6dZWrP5qW8Efm3DTSqkWFcF5C/rf/AAh%2Bk/8AP3qv/g8u/wD47R/wh%2Bk/8/eq/wDg8u//AI7QB45ov/BO39nnVF1e6/aO0w/HDUNak043GpfGLQ9J1RoY7CK5js44oYrKG3j8oXt6RIIvNY3c2%2BRt3Gdo3/BNj4R%2BEP2afDX7Hnw4%2BJHi3wr8NNE0KbR9d8K%2BHIdItovFdpPjz11CUaeZkaUeYJJLN7V38%2BQliSpX3T/hD9J/5%2B9V/wDB5d//AB2j/hD9J/5%2B9V/8Hl3/APHaAPO/Fn7KFj48%2BK2keP8Axn8bPGmoaD4f1221nQvhy39lw6JZX1vD5cEqtDYpeuEYmVY5Lp4xIQdmFVV0vDn7OGjeC9N%2BIR8E/ETxLpOt/EfxPLr2seKoGs5b%2B1u2tra1i8gT20kHlw21pbwxpLFKNkQ37yST2X/CH6T/AM/eq/8Ag8u//jtH/CH6T/z96r/4PLv/AOO0AeWeHv2O7zwh4S8Qaf4S/ak%2BJOneKPFviiPXPFHxDjTQ5dW1KZLKKyjhaObS3sYoVt4IECQ2sZBhDZ3tIz4/j/8A4J9eF/E3gj4afDv4eftBfEP4f6V8LNQTUdBh8Lf2NcveXyRyRi7u5NV028eaUia4ZiGUSPO7uHbaV9r/AOEP0n/n71X/AMHl3/8AHaP%2BEP0n/n71X/weXf8A8doA8/8AEX7LUHjX406N8XPHvxv8a63p/hvXTrPhvwLdnTItH02/%2Byy2qzqYLKO8mKpPOVSe5ljDybtuUj2Hwk/Zag%2BHHxPuPjP4z%2BOHjX4g%2BJn0D%2BxNO1PxidMj/szT2nWeSCCLTbK0jPmSJEzySLJI3kxjeAuD6B/wh%2Bk/8/eq/wDg8u//AI7R/wAIfpP/AD96r/4PLv8A%2BO0AJ45/5EnWP%2BwXcf8Aotq8u8cf8pC/hf8A9kZ8ef8Ap28IV6ifBmhvhZ2vpkyCYrjVrmRG9mVpCrD2IIry7xx/ykL%2BF/8A2Rnx5/6dvCFAHs1FFFABXl/7W/wb8Z/Gf4YWFj8NbzTIvE3hrxhoviXQI9bnkisrq40%2B/huTazyRRyPEk0aSQ%2BaschiMgkCSbNjeoUUAfNvg79mD4rr8CfiL4H%2BLnwz8BeJ9T%2BI2uah4m1XRR4zv7fT01Ge4TyLFLpNP8%2BKOC3t7QrqCRib7QjSLbxYXHm1t%2Bw3%2B2B8M/gF4p8D/AAKn8I2Gt/Fr4nnX/ihDefFXWzNZaR/Zlpp7WOn65Pp91eT3c0Wn24kvp4UkT7RcNEI2ELR/bdFAHF%2BF/hbptx8BdK%2BD2u%2BEoPCVnB4ettNfQvAXii8todJiijVFt7K%2Bt1tLhI41QIkiLC21R8q9K8//AOCdPh6w8Jfs3X3hbSri%2BlttO%2BLfxDtreXU9Unvbl0TxnrSgy3Fw7zTuQOZJHZ2OSzEkmvdK8Z/YP/5Ihrn/AGWb4j/%2BprrdAHs1FFFABRRXI/HP47fCn9m34Zal8X/jR4xtdD0HS4t1xd3JyXY/dijQfNLIx4VFBYnoKipUhSg5zaSWrb0SRFWrToU3UqSUYpXbbsklu2zrq8O/ak/4KDfs9/ssajb%2BBtc1K%2B8T%2BOtSITRfh14OtDf6zeyMMqPJT/VKeu6QqCAdu4jFePx%2BPf8AgoT/AMFCowPhNpV5%2Bz18J7wAjxXrduJPFmt255DWtvnbYIy9JGO8ZV0Zhla9z/Za/Ya/Zy/ZB06c/CbwYZNc1DLa34w1uc3msao5OWee6cbjub5ii7UzztBryvrmNx%2BmDjyw/wCfk09f8ENHLycuWPkzw/r%2BYZnpgIclP/n7NPX/AK903Zy8pT5I9UpHjQsP%2BCsf7XfzalqPh/8AZt8HXH/LtZ7Nc8UTxHs0hxb224d12yRk8g4roPAf/BIL9j3Rtfj8c/GTTvEXxc8Sry%2Bv/FXxDNqzsepHksVgK57NG2BxmvpnWtb0Xw3pNzr/AIi1e1sLCzhaW7vb24WKGCMDJd3YhVUDqScCvl7xx/wVm%2BDOp%2BI7j4b/ALIHw88T/HTxXCdj2ngOyJ0y1c9DcajIPJjjP/PRPMWufEYXKMI1PHT9pN7c75m3/dppW/8AAab9T6Th7w2zPiirKeGw08W4azqVLeyp%2BcpTdPD0l/ia8ubr9J%2BDPh54A%2BHGljRPh54G0fQbIYxaaLpkVrEMdPkiVR%2Blcf8AGv8AbC/Zb/Zzhkb43fHzwv4dmjXcbC%2B1aP7Ww/2bdSZX/wCAoa8CT9lb9vr9sNxqX7aH7QX/AArXwlMQw%2BF3whuzHcSp/wA873VGyzns6Rbo2ByCpr1P4Kf8E1f2GP2f5o9Q%2BHX7N3h3%2B0Y23jWNatzqd7v6lxPdmR0Ynk7SorohiMyrxthqKpw6OpdP5U4ar/t6UfRH3q4f4C4fiqeaZhLEVVvSwUYOEf7rxNblpt9/Y0akV0nLd%2Bbt/wAFXovisTZ/sUfsffE/4ss/Ftrq6OdF0OQ9s314Bt/GMcUg%2BHf/AAV6/aGPmePvjb4C%2BBeizddL8E6Sdc1jZ3SW4uSIUbtvhPHp6/XSqqKERQABgADgClp/2bia/wDvWIlLyhanH/yW8n85oP8AXTJsr0yPJ6FJ9Kle%2BMq%2Bq9qo0Iv/AA4eXkfJmn/8EdP2bvE95Hrf7TXxF%2BJPxi1BG3iT4geN7qS3jf8A6ZwW7RKi%2BincBXrvw7/YV/Yx%2BE5jl%2BH37LXgPTp4sbLxPDFtJcDHT986NIf%2B%2Bq9WorejlOWYeXNCjG/dpN/fLmf4nmZl4gccZvS9lisyrOn/ACRqSp00uyp0vZU0vJQt3uNhhit4lggiVERQqIi4CgdAAOlOoor0D5BtthRRRQAUUUUAFFFFABRRRQAUUUUAFFFFABRRRQAUUUUAFFFFABRRRQAV4z%2By/wD8lv8A2jv%2ByzWP/qFeF69mrxn9l/8A5Lf%2B0d/2Wax/9QrwvQB7NRRRQAUUUUAFFFFABRRRQAUUUUAFFFFABRRRQAUUUUAFFFFABRRRQAUVzHxo0Pxb4j%2BFut6R4F%2BJWpeD9Vksy9p4j0iytLi5sijB2Mcd5DNAzMqsn7yNwN%2BcEgV4Cn7TXxltv%2BCS/gP9pFfEsEvj3xX8N/B7T%2BILrT4vLg1PWBp9tJqDQIqxERy3jXBiCrH8m3AXigD6lr85f%2BC5f/Ev%2BOPwE8X9P%2BEeh1XUd/8Ad2%2BIvB6Z/wDIlfWH7InjX4l3fiv4sfBT4m/Ea%2B8ZTfDfx5baXpfivVbGzt72%2BtLrRNM1NUulsYILfzo5L2WPMUMYMSwkruLM3xl/wXJ%2BImg%2BM7u70Tw9pXiGLU/BHwp166uZtU8I6jYWkr/8Jb4GwbW6ubeOC9AUPua3eQLxuI3DPlZ7/wAibEPtBv7rP9D7/wAKmv8AiJeTwe08RTh/4Mcqf/uQ/Teio7S6hvbWK9t23RzRq6H1BGRUleqfAtNOzCiiigQUUUUAFFFFABRRRQAUUUUAFFFFABRRRQAUUUUAFFFFABRRRQAUUUUAFFFFABRRRQAUUUUAFFFFABRRRQAUUUUAFeM%2BOP8AlIX8L/8AsjPjz/07eEK9mrxnxx/ykL%2BF/wD2Rnx5/wCnbwhQB7NRRRQAUUUUAFFFFABXjP7B/wDyRDXP%2ByzfEf8A9TXW69mrxn9g/wD5Ihrn/ZZviP8A%2BprrdAHs1FFQ6hqFjpNhPqmqXsVtbW0LS3FxPIESKNQSzsx4UAAkk8ACjYG0ldnGftI/tD/DT9lb4Ma38cvixq32bSNFtt5jjwZruY8RW8KkjfLI5CqOmTkkAEj5w%2BAX7K/xb/bC%2BI2k/tpf8FBdJSFLNhd/DD4NFi9j4ZibDJdXqsALi%2BYbSdwxGeoBCxxZXwg03UP%2BCpn7Sdt%2B1D4ysJl%2BBPwz1eSP4VaJdxFU8VaxExSTW5kb70MTArCpHUfwkSq327Xh0oLOKvt6n8CL9yPSbX25LrG/wJ6O3O0/dPm6MFn9f6xV1w0X%2B7j0qNP%2BJJdYpr93F6O3tGneFivBf2vv28PBv7NWoaf8KPA/hW78ffFbxINvhX4c6C4N1OTnE9y%2BCLW2GCTI/ZWIBCsy8p%2B1h%2B2j8Q9T%2BJh/Yr/YW0208QfFi8hDa9rlwN%2Bl%2BBrRsA3d62CpmwcpBgkkgsrZWOTuf2P/ANhv4afsmaff%2BIk1S98WeP8AxGfO8ZfEXxC3m6lq8xwWG5iTDCCBtiU4AVdxYjdWlbF4jGVZYfBO1tJVN1F9YxW0p9/sx%2B1d%2B6ftWX8PZRw3l9LN%2BJouTqLmoYRNxnVi/hq15L3qOHf2bJVq6T9koU71n5Pof/BPr42ftW6va/EX/gpx8Wl161imW4034OeDJ5bTw5p7A7l%2B0sGEl/IvqxwDuAZ0OK%2BrvBHgHwN8M/Ddv4O%2BHPg3S9B0m0XFtpmjWEdtbxD/AGY4wFH5VrUV14TL8Lg25QV5veTd5P1k9fkrJdEjwOIOL894jjCjiZqFCn/DoU4qnQp/4KUbRv3nL2lSW8qkmFFFFdp8wFFFFABRRRQAUUUUAFFFFABRRRQAUUUUAFFFFABRRRQAUUUUAFFFFABRRRQAUUUUAFFFFABXjP7L/wDyW/8AaO/7LNY/%2BoV4Xr2avGf2X/8Akt/7R3/ZZrH/ANQrwvQB7NRRRQAUUUUAFFFFABRRRQAUUUUAFFFFABRRRQAUUUUAFFFFABRRRQBifEb4f%2BH/AIqeCdQ%2BH3iq51eHTtUhEV3JoPiG90q7Chg2I7uxliuISSACY5FJBKnIJB4LwR%2BxJ%2Bzn4A%2BCLfs36N4a1288Dnwy/h9fDniHx1rGrQR6aQFECfbruVkCKAsbKQ0SqqxsqgAesUUAcj8GPgX8NPgB4auvCvwy0q%2Bhh1DU5NR1S81fXbzVL7ULt0RGnuby%2BmmuLmTy4oow0sjFUijQYVFUfHv/AAWk0b%2B3tLvLHZu8v9nDx7cY/wCuOueC5s/%2BOV94V8d/8FOdG/4SDxDqelhNzP8Asl/Fh419XS48LOv6qK4czh7TLK8e8J/%2BkyPqeBcT9T43yqv/AC4nDv8A8r0v8z6b%2BBmtf8JJ8E/B3iLfu%2B3%2BFtPud3rvto2z%2BtdTXlP7CWs/8JD%2BxJ8H9aZ9zXHwx0FpD/t/2fAG/wDHga9WrbCT9phKc%2B8Yv74xf6nm8QYb6ln%2BMw/8latH/wABq1Y/%2B2hRRRXQeQFFFFABRRRQAUUUUAFFFFABRRRQAUUUUAFFFFABRRRQAUUUUAFFFFABRRRQAUUUUAFFFFABRRRQAUUUUAFFFFABXjPjj/lIX8L/APsjPjz/ANO3hCvZq8Z8cf8AKQv4X/8AZGfHn/p28IUAezUUUUAFcd8ePjZ4a/Z%2B%2BHUvxE8TaRqeqbtSsdM0zRdEhjkvdU1C9uorS0tIFlkjj8ySeaNd0jpGgJd3RFZh2NeX/tb/AAb8Z/Gf4YWFj8NbzTIvE3hrxhoviXQI9bnkisrq40%2B/huTazyRRyPEk0aSQ%2BaschiMgkCSbNjAGbD%2B2x8Ml/Z31X9oXVvCfiXT10TX28P6r4PurO3bWINb/ALQTTo9M2RTvA00t1LDHG6zGBxPHIJfLbfWPc/t%2B%2BD49DhtLL4HePbzxzJ41m8Ky/Cu1TSTrltqUWmrqsiyO2oCwWMae8N15v2soUuIVDGWRYzj%2BDv2YPiuvwJ%2BIvgf4ufDPwF4n1P4ja5qHibVdFHjO/t9PTUZ7hPIsUuk0/wA%2BKOC3t7QrqCRib7QjSLbxYXHn3wy/4J9/HX4Fz2Xx4%2BGNl4RufiHJ8UdS8U6x4T1/x/q93pklreaDb6KbX%2B27m0uL64nVLGyujdTWxMknnx7I0dGjAPq/4PfFbwd8dPhX4e%2BMfw%2Bu5ptF8TaRBqOmtcwGKVY5UDBJI25jkXJV0PKsrKeQa89/YP8A%2BSIa5/2Wb4j/APqa63Wj8Av2aIvhj%2ByV4d/Zp8a%2BKL29mstBW213V/Duq3ekyT3bsZbmW2mtpY7i2UzPIU2SB1QgFjyTgf8ABOnw9YeEv2br7wtpVxfS22nfFv4h21vLqeqT3ty6J4z1pQZbi4d5p3IHMkjs7HJZiSTQB7pXyF/wUW8d%2BLP2gPiD4b/4Jj/BTWprXVfH1udQ%2BJ2tWZy2g%2BFY3Anyf4ZLlv3Kg8EEqwAkBr6d%2BK/xG0H4P/C/xH8WPFMm3TfDOh3eqXx3YJighaVgPchSB7mvnX/glX8JfEMvwo1D9tL4wsLv4i/HGePxDrFyyHFjprD/AIl9hDnlYY7cowHX5wDnYpryMycsVUhgIac6bm%2B1NNJr1m3yLsuZnhZu54ytDLIO3tE5VH2pJpNLzm2oLsud9j6T8A%2BBPCfww8EaT8OfAmiw6bouh6dDY6XYQDCQQRIERR64AHJ5PU8184ftsftUfE3WPiFZ/sIfsX3MU/xW8S2nm694gxvtvA2ktgPf3BHAnKsPKj65ZWx80av137fn7Weqfsx/C6y0P4YaOut/E7x3qA0T4a%2BHFAZrrUJMA3Dqf%2BWEAYSOxwv3FJUPuF39h/8AY70T9kn4b3Mesa1J4i8feKrkan8RPGl4xe41nUXyXO9hkQoWZY04ABJI3MxM4qdTFVvqGGfKklzyWnLF7Rj2lJL/ALcjru4n7Dw1l2WcMZNDiTNKUal244ShJe7VnCylWqR64ehLlXLtXrJUv4cKze1%2ByX%2ByR8KP2O/hinw8%2BGlnLPdXUv2rxH4j1F/Mv9cvm5kurmU5LszEkDOFBwO%2BfUaKK9ShQo4alGlSioxWiS/r%2Bt3qfE5nmeYZ1mFXHY6rKrWqNylKTu23/SSSSSSUYpRSSKKKK1OEKKKKACiiigAooooAKKKKACiiigAooooAKKKKACiiigAooooAKKKKACiiigAooooAKKKKACiiigArxn9l/wD5Lf8AtHf9lmsf/UK8L17NXjP7L/8AyW/9o7/ss1j/AOoV4XoA9mooooAKKKKACiiigAooooAKKKKACiiigAooooAKKKKACiiigAooooAKKKKACvmj9sHRv%2BEj/aK0nw9t3fb/ANmj4n2%2B3133fhRf619L14j8T9Oh1f8Ab1%2BHGk3H%2Bruvgj4/hf6NqnhFT/Ooqw9pSlDumvvTX6nVgcQ8HjqOIX2Jwl/4DKMv/bTL/wCCU2tf29/wTp%2BEN9vz5fg6C2z/ANcWeHH/AI5X0FXyn/wRK1Ga%2B/4Jk/DaC64nsf7XtJ1/umPVrxQP%2B%2BQtfVlcGTT9pk%2BHl3pw/wDSV/kfWeJWHWE8Rc5or7OKxC/8rVH/AO3BRRRXpHxIUUUUAFFFFABRRRQAUUUUAFFFFABRRRQAUUUUAFFFFABRRRQAUUUUAFFFFABRRRQAUUUUAFFFFABRRRQAUUUUAFeM%2BOP%2BUhfwv/7Iz48/9O3hCvZq8Z8cf8pC/hf/ANkZ8ef%2BnbwhQB7NRRRQAUUUUAFFFFABXjP7B/8AyRDXP%2ByzfEf/ANTXW69mrxn9g/8A5Ihrn/ZZviP/AOprrdAHmn/BYDXtW8Q/s%2B%2BHP2VfCV68OtfGvx9pfhWF4T%2B8gsmmWa7n/wBxY4gre0tfSep6j4H%2BCnwxn1XUJodJ8N%2BE9CaWaQ8R2dlaw5J%2BiRp%2BlfMGq/8AGRP/AAWN07TP9fon7Pvw5ku5u6xa9rPyIpHT/jyUOCeQV49an/4KqeItb%2BJ%2BleAf2APAOpSwa18avEyWutz2zfvLHw7aFbjUZ%2BOhKqiAHhwZFr514r2TxeOSu01Tgu7jol/29Vn/AOSvsb%2BH2Qri7jOVKpPkpSnyTn/z7oYeLqV6n/bqVV%2BclBdbFL9gXwF4s/am%2BK2of8FP/jto8ltPr9m%2Bn/Brw3d4b/hH/DuSBckcgXF1kszD%2BBjg7ZAq/YdUvDfh3RPCHh2w8J%2BGtNis9O0uyitNPtIRhIII0CRxqOwVVAH0q7XrYDCLBYZQbvJ6yf8ANJ/E/v2XRJJbHvcWcQy4lzmWJjD2dGKVOjTW1KjC6p016R1nLedSdScm3IKKKK7D5oKKKKACiiigAooooAKKKKACiiigAooooAKKKKACiiigAooooAKKKKACiiigAooooAKKKKACiiigAooooAK8Z/Zf/wCS3/tHf9lmsf8A1CvC9ezV4z%2By/wD8lv8A2jv%2ByzWP/qFeF6APZqKKKACiiigAooooAKKKKACiiigAooooAKKKKACiiigAooooAKKKKAPMP20/i94q%2BAf7JnxD%2BMfgaO1Ot%2BH/AApeXWjvfRF7eG6EZEUsqggtEjlXdcjKqwyM5HmXgv4xfGH4SaR%2B0F8PfiF8c4vFFz8KvDsGuaF4%2B8b6baWohiuNJkuDHqC6ZbwRNHBPbSyFooVfyJkUh2Xe/wBE%2BNPBvhX4i%2BDtW%2BH3jrQLXVdE13TZ9P1jS72IPDeWs0bRywyKeGR0ZlI7gmuC8B/sa/s9/Dnw1qnhDQfCuq3en68LoeI4vEPi/VNWbWxcWsVpIt899czPfAW0EUKCcyCKNAkewEggHj//AATd%2BNv7SXj/AMZeMvh7%2B0pqXjGK/wBM8I%2BFtbsNG%2BI2maJb6zEdQXUFuLlDoaLaNp8ktpsgSQ/bI5Le5FwqBoQepv8A4neG/GP/AAU28F%2BDNJ03xDDeeHvg944jv5tV8I6jY2kpfVvCWDbXVzBHBegbTlrd5AuRuI3Ln0X4F/st/BX9nCTUrr4VaBqkV3q9taW2oajr3inUdZu5La1EgtbYXGo3E8qW8PnTGOBWEaGaQqoLsTzfjj/lIX8L/wDsjPjz/wBO3hCgDzH/AIIx/wCgfskav4Q6f8I98UPEunbP7u2/d8f%2BRK%2BtK%2BS/%2BCTf/Et079oLwg3H9j/tOeK4oV9IWNs6H8cmvrSvJyLTKKK7Jr7pTX6H6B4q%2B94iZlU/nqKf/gylh6n/ALkYUUUV6x%2BfhRRRQAUUUUAFFFFABRRRQAUUUUAFFFFABRRRQAUUUUAFFFFABRRRQAUUUUAFFFFABRRRQAUUUUAFFFFABRRRQAV4z44/5SF/C/8A7Iz48/8ATt4Qr2avGfHH/KQv4X/9kZ8ef%2BnbwhQB7NRRRQAUUVx3x4%2BNnhr9n74dS/ETxNpGp6pu1Kx0zTNF0SGOS91TUL26itLS0gWWSOPzJJ5o13SOkaAl3dEVmAB2NFeOf8NufC61/Zs179pXXvC/iPS7bwxqdxpOv%2BFb21t/7WstVhvBZmwZY52tzI07RqkgnMDLKkvm%2BW2%2Bub/4eMeC5bSHRrH4A/EO48ayeOLzwpJ8OUGjLqcN/a6YmqzFrh9SXTmjWylhl3JdsT5gQDzFdEAPoevF/wBhSWOD4Ga9NNIFRPjJ8R2dmOAAPGut5Jr0L4LfFrwf8fPhB4W%2BOHw%2BluX0Lxh4fs9Z0d7y2MMptrmFZo96HlW2uMjse5614D8OfGX/AArv/gnl8Y/Hwl2HRPFfxevlbPRovFPiBxj3yorOrUVKlKo9km/uTf6GVerGhRnUltFN/cm/0Mn/AIJA20/xG%2BFfj79s3WIj9u%2BNPxJ1PWbRpB88Wl20z2dnbnviMRS49mFVv2If%2BMrP2zviv%2B3nfjz9A0aY/D34XSNyjWNo%2B%2B%2BvI%2BxWa4I2uMHbvU9DWX8OfHH/AAx9/wAEJdJ%2BIMU/2S7sPg1Heac%2BdpS%2B1GPdbn6%2Bfdx%2B9e%2BfsGfBNP2dv2N/hx8H3shb3Wk%2BFbU6pEFxi9mXz7n/AMjySV81l9J1XhKEtoQVWXnOXw3%2Bcpy%2B7sfZcD03w74S18y/5f41wwsX1UHBYrFyXnNyoUn/AHZSXU9booor6k%2BSCiiigAooooAKKKKACiiigAooooAKKKKACiiigAooooAKKKKACiiigAooooAKKKKACiiigAooooAKKKKACiiigArxn9l//kt/7R3/AGWax/8AUK8L17NXjP7L/wDyW/8AaO/7LNY/%2BoV4XoA9mooooAKKKKACiiigAooooAKKKKACiiigAooooAKKKKACiiigAooooAKKKKACvGfHH/KQv4X/APZGfHn/AKdvCFezV89fF3xzZeGf%2BCnvwL8K3zKD4j%2BEPxFtrTPUzRX/AISuMf8AfuKU/gKmUowV3/V9CZzjBXl5fi7fmch/wTm/4lH7Sn7VXhDp5HxjGo7PT7XZo%2Bfx2V9aV8l/scZ0b/gpl%2B1v4ZPCS3XgvUYB/e83SZfMP/fQAr60ry8l0wPL2nUX3VJ/5n6F4m%2B9xWq3/PzD4Of/AIFgsM//AG0KKKK9Y/PwooooAKKKKACiiigAooooAKKKKACiiigAooooAKKKKACiiigAooooAKKKKACiiigAooooAKKKKACiiigAooooAK8Z8cf8pC/hf/2Rnx5/6dvCFezV4z44/wCUhfwv/wCyM%2BPP/Tt4QoA9mooooAK8v/a3%2BDfjP4z/AAwsLH4a3mmReJvDXjDRfEugR63PJFZXVxp9/Dcm1nkijkeJJo0kh81Y5DEZBIEk2bG9QooA%2BU9R/ZA/aM8T/sv/ABK%2BFWvS%2BCrbxF8TfEs/ibW4oNcu59Mlkl1CFpNBkLWaSNZS6baxWct4FEjG4ndbZMKp87k/4JlfE3/hCINGvfgJ8DdW8Kj4naj4kT9nPUdTuB4L022uNGt7CNLef%2ByXzIl1FdX%2Bz%2Bz0hMupT4VZEWdvvCigDy/4G/s/ax4K/ZI8Kfs3fFfx7qmtX2keELPSNZ17RtdvtPuZ5IolVmhu4ZkuowCuFk80SlQNzElifkf4139l8G/%2BCI3xm0zR7y/kgt/Hnj7RbWTUtUuL25kS48fanZjzLi4d5p3Ky/NJI7OxyWYkk1%2BhFfnH%2B1D/AMT/APYM0H4Rfe/4T/8AbS1/w%2BYv%2Begk%2BIGuTYx/2wrzM6k4ZRXtu4NL1l7q/GSPG4hnKGRYlx3cJJesrRX4zR6B%2B3l4PGo%2BA/2ZP%2BCfVogK%2BLfGmjwa1ZjnzdF0S2Se8THtthOeny19uV8jaF/xfP8A4LK65q2fO0v4G/Cq309F6iHWdXkMxcHsTZqVI68fhX1zWWVxUq%2BIrLbmUF/hpxUf/SnL7j9Y4whHKcgyTJIaeyw/t5r%2B/i5Oqr%2BaoU8OvR9mFFFFewfABRRRQAUUUUAFFFFABRRRQAUUUUAFFFFABRRRQAUUUUAFFFFABRRRQAUUUUAFFFFABRRRQAUUUUAFFFFABRRRQAV4z%2By//wAlv/aO/wCyzWP/AKhXhevZq8Z/Zf8A%2BS3/ALR3/ZZrH/1CvC9AHs1FFFABRRRQAUUUUAFFFFABRRRQAUUUUAFFFFABRRRQAUUUUAFFFFABRXmH7afxe8VfAP8AZM%2BIfxj8DR2p1vw/4UvLrR3voi9vDdCMiKWVQQWiRyruuRlVYZGcjzLwV8dviz8B9J/aC8MfE3x/qXxMk%2BD3h6DxHo%2Bt6tp9jZ31/BNpMl01jONPt4Lcus1rKVdIVPlXESsHZC7gH05XwJ/wVF8dTfCr/gp9%2BxP8Rldkhh1bxZpN5KPuxw6jJoNkzN6KPOHJ9q9j/wCCefxy8c/Eq21Hw78Z/HvxCvvGU3hXRPEs%2BkeOPDmiafaxWN%2BLkR3WlrpaFxaSSwToIb2WS8hECCUKXy/zh/wWe1vTfi14ufSfBGmeIoPEXww%2BEPinxBDeap4P1KxtRNa%2BIfBkxktbq5gjgvQIUmy1vJIEyNxG4Z83OHOOV1Zw3iuZf9utS/8AbWeRnzqRyavOn8UI8y/7ccZ/ioNfM9z%2BCn/Ek/4LE/G3S%2Bn9ufDDw3qOP73ks9vn9cV9aV8W%2BIvG9h4N/wCCmfwS/aZ098eG/j38KJvDLyscxwXcWzU7Nif70qyCJR3weO9faVZZPKPLXgulSb%2BU%2BWcX81K5%2BrceuOLjlGY03enXwOGs%2B7oqpQmvWMqcV6OL2aCiiivXPgAooooAKKKKACiiigAooooAKKKKACiiigAooooAKKKKACiiigAooooAKKKKACiiigAooooAKKKKACiiigAooooAK8Z8cf8AKQv4X/8AZGfHn/p28IV7NXjPjj/lIX8L/wDsjPjz/wBO3hCgD2aiiigAooooAKKKKACvzi1gjxZ8Uf2a/hKTuF3%2B1l8V/EJj/wCwV4m1ybd%2BHm1%2Bjtfltofiryf2ubbUfM/5Jh4X%2BO3i/Of9T53jTXbTf7f6vGa8fPJqOBSfWcF8uZSf4QZ5maYapj40MFT%2BKvXoU16zrQX6H0j/AMEikf4jfD34l/tfXil5Pi/8VdW1TTJ2HP8AZVtKbO0i99nlTAfWvrivnf8A4JNeFP8AhDf%2BCcfwj0jy9nneFEvsY/5%2BpZLnP4%2Bdn8a%2BiK1yWDhlNC%2B7ipP1l7z/ABkz9M8TMVTxXiDmfs/4cK06UPKnRaoU18oUYr1v3CiiivTPhgooooAKKKKACiiigAooooAKKKKACiiigAooooAKKKKACiiigAooooAKKKKACiiigAooooAKKKKACiiigAooooAK8Z/Zf/5Lf%2B0d/wBlmsf/AFCvC9ezV4z%2By/8A8lv/AGjv%2ByzWP/qFeF6APZqKKKACiiigAooooAKKKKACiiigAooooAKKKKACiiigAooooAKKKKAMzxp4N8K/EXwdq3w%2B8daBa6romu6bPp%2BsaXexB4by1mjaOWGRTwyOjMpHcE1xfwp/ZP8Agh8FrO5sfAmia1tv7mafVpNb8Y6pqsuqyS28NsTeyX1zM97tgt4YoxOZBEkYWPYMg%2Bj0UAed/Ar9lX4G/s3Tahd/CPwvfWlxqdnaWVzdar4k1DVJksrXzfstlFJfTzPBaw%2BdN5VtEVhjMrlUXcc%2BcftP/D20%2BLf7VXhr4VX4XyPE37OvxK0qbeONtxfeE4Tn8Hr6Lrxnxx/ykL%2BF/wD2Rnx5/wCnbwhUzhGpBwls00/Rq36kVIRq03CSummn6NNP8Gz4ukufFPxZ/wCCFnw6%2BN/hy3Y%2BM/gPfWetafE/D282g30lrIjkcgC0RnI6YVc%2B36P/AA88c6D8TvAGh/EnwtcedpniHR7bUtOl/vwTxLLGf%2B%2BWFfJ3/BO7wtoltr37UX7GniqzE2m6X8WNRuRYPwF0jW7YSxQ4/ulRLg99xre/4JAeKdbtv2X9Q/Zz8Z3hl8QfBnxpqngzUmk4aSK3nL20oH9wwyIinoRFxXy%2BTTlRrUVL/l5T5H/joNx%2B9w/I%2Bt4dqSzzwXpQnrVyyvyvv7LEXpy%2BUcThovy9r5n1XRRRX1R8qFFFFABRRRQAUUUUAFFFFABRRRQAUUUUAFFFFABRRRQAUUUUAFFFFABRRRQAUUUUAFFFFABRRRQAUUUUAFFFFABXjPjj/lIX8L/%2ByM%2BPP/Tt4Qr2avGfHH/KQv4X/wDZGfHn/p28IUAezUUUUAFcd8ePjZ4a/Z%2B%2BHUvxE8TaRqeqbtSsdM0zRdEhjkvdU1C9uorS0tIFlkjj8ySeaNd0jpGgJd3RFZh2NeX/ALW/wb8Z/Gf4YWFj8NbzTIvE3hrxhoviXQI9bnkisrq40%2B/huTazyRRyPEk0aSQ%2BaschiMgkCSbNjAGZ/wANufC61/Zs179pXXvC/iPS7bwxqdxpOv8AhW9tbf8Atay1WG8FmbBljna3MjTtGqSCcwMsqS%2Bb5bb6x7L/AIKAeC9Q0CSO0%2BCPj1/Gkfj2XwcPhkkWltrD6rFp6anIglF%2BdP8AKWxkS4ac3YjUMIywmIirjtR/ZA/aM8T/ALL/AMSvhVr0vgq28RfE3xLP4m1uKDXLufTJZJdQhaTQZC1mkjWUum2sVnLeBRIxuJ3W2TCqfPF/4JaeLP8AhGNM1e6%2BBnwduIdG%2BK2o%2BJdG%2BAzazcp4KsNLvNDh02awjmGmHk3kR1X/AJB4i8%2BaVRGGIuKAPuDwrrN74i8M6dr%2BpeGL/RLm%2BsYp7jRtVaE3Vi7oGaCYwSSxGRCSrGOR0yp2uwwT%2BPeleKt%2Buftw%2BPvM/wCRO8I%2BNPCAkz/q/wC1fG2uzbPbPmZr9QPgN%2Bz1rHgb9kjwx%2Bzf8VvHOpateaZ4Zg03VtY0PXr%2BwnLKB8tvdwypdxqnEaSeYJSiAsck1%2BTfhzwDB4Y/Y8/bY0bw7cX7f8JZ%2B1Y/gnTrrUdTnvbqQWnieZgJLi4d5p5Nkp3SSOzsWJZiSTXzXFEpLAxt05391Kpb8ZI9zgvArM/E3hzCy%2BF46hKX%2BGm3Ub%2BXLf5H69fsq%2BFP%2BEE/Zf8Ahx4IMWw6P4D0eyK46GKyiQ/%2Bg13tR2lrb2NrFZWsYSKGNUjQdFUDAH5VJX0NGmqVKNNdEl9yS/Q8/MMXPMMwrYqe9Sc5v1nOc3%2BMmFFFFaHGFFFFABRRRQAUUUUAFFFFABRRRQAUUUUAFFFFABRRRQAUUUUAFFFFABRRRQAUUUUAFFFFABRRRQAUUUUAFFFFABXjP7L/APyW/wDaO/7LNY/%2BoV4Xr2avGf2X/wDkt/7R3/ZZrH/1CvC9AHs1FFFABRRRQAUUUUAFFFFABRRRQAUUUUAFFFFABRRRQAUUUUAFFFFABRRRQAV4z44/5SF/C/8A7Iz48/8ATt4Qr2avGfHH/KQv4X/9kZ8ef%2BnbwhQB5HqupL%2By9/wV4PiDxND9m8M/tDeC7TTbHUwcR/8ACRaXlY7eXspe1YKhJyzMFAPOK3ijWJP2FP8AgpZd/EXxRAIPhr%2B0bHp%2Bm3Org7YdH8U2kTRQLL2RLmIkBv4nJJwEJr2L9v39l2X9rP8AZs1bwB4evPsPizSpotb8B6wj7JNP1q1JktpFf%2BDccxM3ZZWI5Arh/hVrHw6/4Kzf8E%2BZfDHxb0g2eo6nay6N4ysFi23Gg%2BILQhZHRTzG6TBJkU/wOobILCvmK2Gq08TOhTdp8zrUm9m9qkH5O7/7dnf7J6Ph9nuB4Z4lxOV5om8DjoSjO3xKE5QlOUO9TD1o08RBfajzwekrr6hor5i/4J1ftKeNvElhrf7Hv7S%2Bpxx/F74VSrp%2BsGaXDeINNAH2XV4d3zSLJGU3tyQxDNt8wLX07XvYPF08bh41odd0901o4vs07p/5NHXxHkGN4Yzmrl%2BKs3GzjKOsKkJJSp1YP7UKkHGcX2dnaUZJFFFFdJ4YUUUUAFFFFABRRRQAUUUUAFFFFABRRRQAUUUUAFFFFABRRRQAUUUUAFFFFABRRRQAUUUUAFFFFABRRRQAV4z44/5SF/C//sjPjz/07eEK9mrxnxx/ykL%2BF/8A2Rnx5/6dvCFAHs1FFFABRRRQAUUUUAFflDa%2BC3tPhfo/gsW5B%2BI3/BTjxPf3SEY820t/EmpRSt74%2ByJ%2BVfq9X5y6Z/xU/wC0z%2BzR8OAN6H9oj42a5cL2T7F4i1ho2P1ZyB714ue041MDZ7uUY/8AgU4Rf4XPu/DKlFcb4fGP/mGp4qt/4LweJd/k2vnY/RqiiivaPhAooooAKKKKACiiigAooooAKKKKACiiigAooooAKKKKACiiigAooooAKKKKACiiigAooooAKKKKACiiigAooooAKKKKACvGf2X/APkt/wC0d/2Wax/9QrwvXs1eM/sv/wDJb/2jv%2ByzWP8A6hXhegD2aiiigAooooAKKKKACiiigAooooAKKKKACiiigAooooAKKKKACiiigDyL9vr4heNPhR%2BxR8U/iR8PNZk0zWdF8DajdWWrwxhn00rA268UMCpMC7phuBXMfIIyK86%2BBvjnUv2fta/aE8KeHb/x58RfC3wztNO1fQNNn1q%2B8S61LdS6MLu50m2nuZJrm6kfZbzxws7sG1AKu2Mxov07e2VnqVnLp2o2kVxb3ETRzwTRh0kRhhlZTwQQSCDwQa5T4c/s8/AH4PafYaT8I/gd4P8AC1rpctzJplt4c8M2tjHZvcBBcNEsMaiMyhE3lcF9i7s4FAHzL/wSj%2BNvj34o%2BPvjtonxP8aePdY1mz8baXqE0Hi7wjrulWekG80LT5pdP0%2BLVrWAwW0U7TLHCFWRo9k8ik3HmSeh3/jTxJ4h/wCCm3gvw7q3wj8Q6FZ6T8HvHCWGvarc6c9prQbVvCWXtltruWdAm0Z%2B0RQH5xtDfNj3jSvCvhfQtW1PXtE8N2Fnfa3cx3Gs3trZpHLfzJCkKSTOoBldYo44wzEkJGqjhQB5R44/5SF/C/8A7Iz48/8ATt4QoA9mr4r%2BO%2BjfEf8A4Ju/tGeJf21fhp4Un8RfCDx9PBcfGLwxpcJa80C8QFDrlsgOJEYEmdeCTlicYaP7Uplxb295byWl3AksUqFJYpFDK6kYIIPBBHauLG4P63TXLLlnF3jJdHtt1TWkl1T6OzXn5jgFjqUeWXJUg%2BaElryytbbqmnaUXo4u2jSa%2Bcf2if2X/hT%2B3l4I8MftLfs8fFGPQPHemWi33w4%2BKnhxgzKpyRbzgf6%2B2YlleFxlSzjAy6Nmfsxf8FCje%2BM1/ZX/AG3dItPh18YrFxAlrdOY9K8UJ0S7024f5HEn/PEtvDEqMkMF5bXv2VP2oP2CvF2r/FD/AIJ42%2Bn%2BJ/AGrXzah4i%2BA%2BsXH2dYJj/rZtHuTkW7N18hhs4wA/yIvQaD8dv%2BCf8A/wAFSPBlx8CfjD4ZtYPEtrI0WpfDnx3b/wBneINHuwPnMCsVkDD/AJ6QMeCA2Mla8NVKsMVzRtRxD%2BKMr%2Bzq26xl/N2a99LScZJXPs%2BHfEDLcXl9PhvjGlLkhdUakGva0W3d/V5ztGtRk3zSwtSUXFtypulO7qfVtFfG1p8Fv%2BCkX7EEZtv2b/Hdj8dPh5aHNp4G%2BIGofZPENhAOkNrqX%2BrmAAwPOA2jCqneum%2BG/wDwVv8A2WtY19Ph38fjrnwa8ZA7bjw38TtLfT1B6Fo7ph5Dxk/ddnTcCDivThm%2BHhJQxSdGXafwv/DP4H98X5HvYnw6zfEUpYrIJxzGgtb4e7qxX/T3DP8A2im11fs6sE9qjVm/qOiqmh69oXijSYNe8Na1aajY3Sb7a9sblZopV/vK6Ehh7g1br1U01dHwE4TpzcZpprRp6NPs07NP1SCiiimSFFFFABRRRQAUUUUAFFFFABRRRQAUUUUAFFFFABRRRQAUUUUAFFFFABRRRQAUUUUAFFFFABXjPjj/AJSF/C//ALIz48/9O3hCvZq8Z8cf8pC/hf8A9kZ8ef8Ap28IUAezUUUUAFFFcd8ePjZ4a/Z%2B%2BHUvxE8TaRqeqbtSsdM0zRdEhjkvdU1C9uorS0tIFlkjj8ySeaNd0jpGgJd3RFZgAdjRXjn/AA258LrX9mzXv2lde8L%2BI9LtvDGp3Gk6/wCFb21t/wC1rLVYbwWZsGWOdrcyNO0apIJzAyypL5vltvrH1b/gob8J/C37P/jz48eO/h94w0Kb4c68%2BheIfBN5a2U%2BsPqv2e2uIrK3%2By3UtrcSSxXlsyslwY1Eh814vKl8sA97r83/ANmO/s9a/wCClfhjTb6cLF4Nsvi7rjkgnyzd/ETWbIHA5ycAADk5xX6FeA/GOmfEPwNovj/RYJ4rPXdJttQtIrpVWVIpolkUOFJAYBhkAkZzgnrX5zf8E5f%2BKt/4KI/HLxB97/hEdc1rQ939z7V8R9Yvdv44zXk5r7zw9P8Amqw/8l5pfoj9A4A/cxzjF/8APvAYn76roUF/6ckvmfo1/wAJhpP/AD6ap/4I7v8A%2BNUv/CYaT/z6ar/4I7v/AONV87ePv%2BCyP/BN74X%2BO9a%2BGnjn9o37Drfh3VrnTNYsv%2BEQ1iX7PdW8rRSx747Rkfa6MNykqcZBI5rJ/wCH5f8AwS0/6Oh/8snW/wD5CqpZ5ksJOMsTTTX9%2BP8AmZ0fC3xMxFGNWlkmLlGSTTWHqtNNJppqFmmmmn1TT6n0/wD8JhpP/Ppqv/gju/8A41R/wmGk/wDPpqv/AII7v/41Xzt4B/4LI/8ABN74oeO9F%2BGngb9o37drfiLVrbTNHsv%2BEQ1iL7RdXEqxRR75LRUTc7qNzEKM5JA5rvv2/vjB8TP2ff2Jvin8cfg3aabN4n8JeB9Q1XR11eZkt1lghaTe%2B2OTdtUMwTbh2UIWQMXXrwuNweNi5YepGaW/K07etj5/POGeJOGK0KWcYKrhpTTcVVpzpuSTs2lNJtJ6Nrroel/8JhpP/Ppqv/gju/8A41R/wmGk/wDPpqv/AII7v/41Xz3qf7bnxt8K/EPxz4L%2BIXwK8CaFp/wy%2BHlp4m8c%2BJ7v4qXRsbd7uLVGt7a2xo4lnUPp8YlldIiiXBaOOZ0EUnM/Db/gpVq/xV1TwzoerfCfV/C%2BtxfGiXwd4h0hZby2hkQ%2BD9Q1%2BGfbrGj2l68LpDEm37PaSCVAyyyQqVuOk8M%2Bqv8AhMNJ/wCfTVf/AAR3f/xqj/hMNJ/59NV/8Ed3/wDGq%2Bef2Sv2%2BfiT%2B0Pp%2BiXHjn9mD/hH7vxZ8JtF%2BIPhPS/D3jWHVZ7rTr5gjwTm4gsore4hLxMVDyI6PkOGUx11P7Vfiz4q6l8Wvhf%2Bzx8LfivqHgRvG11rF1q3ivRtNsbq9it7CyEi20C39vcW6tJNNCzM8TnyoJVXazCRAD13/hMNJ/59NV/8Ed3/APGqP%2BEw0n/n01X/AMEd3/8AGq%2BcoP2hP2kfif8A8EyPCHx/%2BH1pc/8ACc67pHh2bxDd%2BFdDW9uLe0lv7SLWNQ06ykWQTypZm8ubeArLuZY12TnEb8X4C%2BOP7Svxo/Zq%2BIOoeBfF3xt1DXfhn8Sr/Q9KufDvhTwvpniTxRZixtLy3lvLPXrOG0g2C9CMkcVtM3kD92rloqAPsH/hMNJ/59NV/wDBHd//ABqj/hMNJ/59NV/8Ed3/APGq%2BFoP20P2mfGXgKH9oLSfjjp8dl4G8CfDTVdW8PeG9Etm0rxnca7Ij6lKXvLc3kMLQyCOzWJ4HjlVmmEwPlLs6N%2B3F8SPhTq2nftO/Hf4z3E3w78R%2BJviRp2r%2BDm0WyWDwxY%2BHJtSNtdW0sUC3Ukxg0iRJ0nmlVprwCNYggVgD7P/AOEw0n/n01T/AMEd3/8AGqv2F/aanaJfWM4kikGVYAjvgjB5BByCDyCK%2BT/%2BCWP7Zev/ALWepfGe28ZftB%2BC/Gl94d%2BINk%2BkaZ4M1nTr2Dw/pN7oOl3kdis1kT9qSG6lv7c3bljLLbT4KhBHH9Q%2BD/8AkEzf9hS%2B/wDSuWgDVooooAKKKKACiiigAooooAKKKKACiiigAooooAKKKKACiiigAooooAKKKKACvGf2X/8Akt/7R3/ZZrH/ANQrwvXs1eM/sv8A/Jb/ANo7/ss1j/6hXhegD2aiiigAooooAKKKKACiiigAooooAKKKKACiiigAooooAKKKKACiiigAooooAK8Z8cf8pC/hf/2Rnx5/6dvCFezV4z44/wCUhfwv/wCyM%2BPP/Tt4QoA9mooooAK8n/aT/Ye/Za/a1s1T45/CDTdUv4UC2evQKbbUrTHK%2BXdQlZVAPIUsVyOVNesUVlWoUMTTdOrFSi%2BjSa/EwxGGw%2BLpOlXgpxe6aTX3P%2BvM%2BP4f2Rv%2BCi/7Na%2BX%2ByT%2B2raeNvD9uc2fgr44ac920SD%2BBdTtsTkY%2BVVKqq4FY/xA/a9%2BL8PhyTwP/wAFB/8Agk34m1fR1JF1qPguytPF2lyDH%2BvMJw8C/wC9ll%2BvFfbFFeZLKOSLjh60oL%2BV2qQ9OWd9PJSPPoZbistrRrZZi6tCUXeNpOSTW3LzPmjbpy1Fbofl34Xtv%2BCM3iTXp9R/Zk/bU8Y/s8%2BJZJt15Yad4mv9Bhjn/uz2%2BoIYCvTKI6r2r3DwTpX/AAU50axGofs6/t4/Bn456TEu6JPF2jC1naLsouNKkdXbHAdzgnk19YfEH4NfCD4tWhsPip8KvDfiWArt8nX9Dt7xcemJkYV4P40/4I5f8E4vGl6dWP7Nljot8G3Q3nhfVbzTGhb1VbaZEH/fOK8x5LjaDvRUF/glUo/%2BSr2lP/yU%2B8j4m%2BJ3KoZnLC5lBaf7VRU52/6%2BSi6q07V/uRij9tb/AIKEfDb918cf%2BCX2tajBF/rNY%2BGnjWz1UTepS0IWVfozZNKn/BZr9lTw6wi%2BOPgP4qfDGQHEqeO/hveweWfQmBZqT/h03YeF/n%2BDP7eH7QvhEL/qbC3%2BIZu7JPT9xNEc/i1I37Gn/BSnwqpXwD/wVaur63AwNP8AF/wo0283j0acOH/Ic0X4jobKT9fY1PxToy/Uf%2Bu3DmJ/5GXCri%2BssJjZQ%2B6Fb20Plf5HoPgj/gp3/wAE%2BfiCE/4R79r3wNGZPuJq2tpp7H223XlnPtjNes%2BE/ij8M/HqLJ4F%2BImha0rDKtpOrw3II9R5bGvijxt%2BxL/wUV8QF28VeDP2P/iNu%2B/L41%2BGt1BNJ77oEba3vnrXk3iz/gml8bb9zL4r/wCCTHwI1qQHPmeBfidqeic%2BqgyIF9sij%2B188pfHh7/9uVF%2BTqIX9seFGI%2BOlmmFfnQw2JivnTq0ZP7kfqbRX5LD9j79pvwUNugf8E9fjx4MRPuT/Dn9rG0m2j1SOWN2HsCaNn7eHgfjSo/25tP2dPtc2meKMfn5e/8ArR/rLWh/Ewsl6c3/ALdSQW8Lq38PPqlPyr5djYfe6fto/cmfrTRX5Lj9rX/gpH4P%2B98Y/wBpa3jTpb%2BMP2PtPZPxnguy7D3xSf8AD1j9vjwp/wAf3xM0GfZ1/wCEx%2BA2vWX/AH19j34/Cj/W7AR/iU5x%2BSf6oP7M4MqfwOJsA/8AG8XR%2B/22BSX3n600V%2BTA/wCC9H7SPhrA8Y6/8Bbkg4KW3h/xjZk/9/rRgK09P/4OKPHkGPtfwV%2BHGs%2Bv9nfEK4sN30%2B12Yx%2BNUuM8gbtKbXrF/o2OPDuXVXbD53llT0zHDx/9Oqj%2BNj9VKK/M3Sf%2BDitZlDa7%2ByVpNuO/wBk%2BNukTfo0aVuWv/Bxd8DoFDeIf2f9ag/vf2f4z0W6/LFyua2jxbw9L/l%2Bl6qS/Q1XB2Y1HajicHU/wY/AS/LGI/Raivz503/g5C/Yqupvst78JvijFJ/EbbSdNuEH/Ao78/yrp9L/AOC//wCwtqQDT6D8R7QHvceDt2P%2B/crVtDifh%2Be2Jh97/wDkTSXAXFcdqEZf4a%2BEl/6TjZfkfb9FfHtn/wAF1f8AgnfMAdQ8eeJrAd/tfgjUOP8AviJq0rP/AILhf8Ev7tvKf9pn7PJ3jufB%2BsIR%2BJtMfrW6z7I3/wAxNP8A8CS/OwlwDxtL4Muqy/wxU/8A0ipM%2BsKK%2BaLD/gsT/wAE0tRx9n/ax0Nc/wDPewvYv/Q4BWzY/wDBU/8A4J26jj7P%2B194KXP/AD31Pyv/AEMCtY5vlMtsRD/wOP8A8kJ8A8dR3yrE/wDgiq/ypyPfqK8Ysv8Agov%2BwPf48j9sv4Zrn/nv40sov/Q5BWtZ/twfsWajj%2Bz/ANr34XT56eT4/wBOb%2BU1bRx%2BAltWh/4HH/5I46nCPFtH%2BJl2IXrh66/9wnqNFcHZ/tS/sx6hj7B%2B0Z4Dnz08nxfZN/KWtW0%2BNvwYv8fYfi74Ymz08nX7Zs/k9arEYeW04v5r/M4KmTZxR/iYWrH1p1F%2BdNHT0Vl2njnwTf4%2Bw%2BMNKmz08rUI2/k1aEF1a3S7ra5jkHrG4P8AKtVKMtmcM6Nal8cWvVNfmkSUUUUzMKKKKACvGfHH/KQv4X/9kZ8ef%2BnbwhXs1eM%2BOP8AlIX8L/8AsjPjz/07eEKAPZqKKKACvL/2t/g34z%2BM/wAMLCx%2BGt5pkXibw14w0XxLoEetzyRWV1caffw3JtZ5Io5HiSaNJIfNWOQxGQSBJNmxvUKKAPlPUf2QP2jPE/7L/wASvhVr0vgq28RfE3xLP4m1uKDXLufTJZJdQhaTQZC1mkjWUum2sVnLeBRIxuJ3W2TCqeIg/wCCUvjrxD8HPEvh%2B0%2BIlv8AB%2B9l8Qa/qvgL4e/CW4sbrwv4d/tHQ7bS2tx/aWjt8rvFe3DSW1rbNGdXvFQEuzv9x0UAec/Cj4F33hr9l3w1%2Bz38SvHWtaxc6Z4Ts9J1bXdO1mTTbyd4okRniudOW0eHBXCvEIm2gZ5Jz8Pf8EXvh7Y%2BE/iz%2B1rqWmS301rF%2B0dcaLaXGqanPfXDJZ%2BINQ/1lxcO80z/AL8FpJHZ2JyzEkmv0nr4l/4JQeF20bwJ%2B0N4hmj/AHmtfto%2BOJkcjrFH4jEKj6Bo3/OuDF0/aYrDv%2BWUn/5JJfqfW8P41YPIM4jfWrRpU/vxVKb/APTaPtqivmLx/wD8FNf%2BEC8d634F/wCHfP7T2tf2Lq9zYf2xoHwn%2B02F/wCTK0fn20v2kebC%2B3ej4G5WU4GayP8Ah7D/ANY1P2tP/DN//dVZSzrLIycXU1X92f8A8rPzmXEOTQk4yq6rT4anTT/n0fWlYvxH%2BHngz4ufD7XPhV8RtBi1Xw/4l0i50vXNMnZlS6tLiJopoiUIYBkZhlSCM5BB5r588A/8FNf%2BE98d6L4F/wCHfP7T2i/21q9tYf2xr/wn%2BzWFh50qx%2Bfcy/aT5UKbt7vg7VVjg4r2b9pPxh8Tvh58AvF/xB%2BDPhy01nxPoOgXOpaPot7C7pqUkCGU2oCOhDyqjRo27Cu6sQwBU9eGxmGxkXKjK6W%2Bkl/6VGP6nbg8fg8wi5YeXMlo9JLz%2B1GP4XMaD9jX9nhfCvinwdqfhDUtXs/Gvhu30HxVL4i8V6nqd1qVhB9p8mOS5u7mSfen2ufEocSjcvz/ACJtzvA/7BX7LXw91Jdc8P8AgLUptSHi4eKJdW1rxjq2pXlxq40ibRhdzXF5dSyzsNPnlt8SMy7SpxuRGXw3xH/wUf8Aib8SPC1z4x/ZcbQ9VsPEfjubSPhRLF4SXVG8QadYaQt1qt7I1zrelW0McV358Adrhdos3ASVpB5fE%2BDf26viN8XPEeifHiy%2B02unePPhl%2BzvqsfhRtfvfsOlT%2BIvF2u21/JB9mni3OYvJRmOUnW1hWZJYl8o9J2H2H4Y/ZO%2BBHgmx0Sw8HeE73Sl8OeBrTwdok2neI9QhmtNFtXjeC1WVJw52mKPMhYyMAQzsGYHR%2BN/7PXwp/aJ0TT9D%2BKWj6jMNI1E32kX%2BieIr7SL6xuDDLAzw3lhNDcRboZponCSAOkjKwKkivk34J/tU/tQfG79qT4QeMNT8VeEf7E8d/C3x/rfhz4e6VdXuntayWd/o0FtBq0pmuEupY/NKNcJbRG2ke4RYpM5Pt37b%2BreJJ9M%2BFHw3l8Var4d0jx38V7DQ/GepeG9duNPuobM6ff3SQQ3tu0U9v597a2dr5kbRyMtwVUqXFAHoUn7O/wsTwGPhho1jrGi6BF4csNCstM8M%2BK9R0qPT7GzJNulp9juIjZuoO0ywFJXRERnZY0Vedu/2Jf2fp/h5p3wtsbDxbpekabdXlyDoHxL17Tbu9nu3MlzLe3drex3F%2B8rku7XMkpZjuJJ5ry/4Raj%2B0L8U/8Agm3430P4T/Em7n8aWepeO/DngHxZrGqlri4t9P17VNP0y4kvJQ5aU2ttAPtbhy7YnbfuOeK/Z9s/ir8WdO%2BN/wACz4L8fWFh4S8U6MfBPh7xx%2B0Jq1pqsN/LpUU93p934g0m6vrpIxuS6EKzXW1bpNyqrLFEAfQmp/sL/sran4l8L%2BKG%2BFKWkvg7TdJ0/QrDS9YvbPTxa6XMZ9MhnsYJktrxLOUmW3FxHIIHJePYxzWl4K/ZI%2BAHw9%2BMGofHfwl4JntvEmoveu8suvX01nayXssct7La2UszWtnLcSRJJNJBFG8zgtIWJJPwHP8AGr4ueL/2aNS1/wAYftJeMtM1f4Xfs1%2BIvFPhq/0vxZd2wvfE%2BnaxqNnM1w8Mw/t2CzewsrZftHmxXaXglkjL3C7fpyS31XxH%2B3Z4Ttvgx428bvrWkStrHx1tbrxxqN34e0rTbjSbiKz0YafLM1nDey3b2l0ggiSZIbWSSVwtxGtwAfRXhL4Y%2BB/AviXxT4v8K6H9l1HxprUWreJrj7TK/wBsvIrG1sEl2uxWPFtZW0e1Aqny9xBZmZrXg/8A5BM3/YVvv/SuWtSsvwf/AMgmb/sK33/pXLQBqUUUUAFFFFABRRRQAUUUUAFFFFABRRRQAUUUUAFFFFABRRRQAUUUUAFFFFABXjP7L/8AyW/9o7/ss1j/AOoV4Xr2avGf2X/%2BS3/tHf8AZZrH/wBQrwvQB7NRRRQAUUUUAFFFFABRRRQAUUUUAFFFFABRRRQAUUUUAFFFFABRRRQAUUUUAFeM%2BOP%2BUhfwv/7Iz48/9O3hCvZq%2BcP2j9X%2BNej/ALeHwnn%2BB3w/8LeItSb4R%2BO1u7TxX4wudFgjg/tTwkS6S2%2Bn3rO%2B7aNhjUYJO/ICkA%2Bj6K8Z/wCE4/4KF/8ARr/wZ/8AD8at/wDMvR/wnH/BQv8A6Nf%2BDP8A4fjVv/mXoA9morxn/hOP%2BChf/Rr/AMGf/D8at/8AMvR/wnH/AAUL/wCjX/gz/wCH41b/AOZegD2aivnHSf2jv27dY%2BM%2Bv/A63/ZQ%2BEi6p4d8L6Rrt5cv8ddU8iSDUbnUreFEI8Mbi6tpc5YFQAHjwWJYL1H/AAnH/BQv/o1/4M/%2BH41b/wCZegD2aivGf%2BE4/wCChf8A0a/8Gf8Aw/Grf/MvR/wnH/BQv/o1/wCDP/h%2BNW/%2BZegD2aivGf8AhOP%2BChf/AEa/8Gf/AA/Grf8AzL1y/gH9o79u34ieK/G/hDR/2UPhJDceA/FEWharJc/HXVAk88mlafqYeLb4YJKeTqMKksFO9HGMAMwB9HUV4z/wnH/BQv8A6Nf%2BDP8A4fjVv/mXo/4Tj/goX/0a/wDBn/w/Grf/ADL0AezUV4z/AMJx/wAFC/8Ao1/4M/8Ah%2BNW/wDmXo/4Tj/goX/0a/8ABn/w/Grf/MvQB7NRXzj8Iv2jv27fjL4Uu/F/hz9lD4SW1vZ%2BKNb0KSO9%2BOuqK5n0vVbrTJ3G3www2NNaSMhzkoykhTlR1H/Ccf8ABQv/AKNf%2BDP/AIfjVv8A5l6APZWVWBVgCD1BrL1DwN4J1fP9q%2BDtKus9ftGnxvn81NeXf8Jx/wAFC/8Ao1/4M/8Ah%2BNW/wDmXo/4Tj/goX/0a/8ABn/w/Grf/MvScYy3RMoxktVc7a%2B/Z7%2BAeqZ/tP4H%2BD7nPXz/AA1avn846x739jj9kPU8/wBpfsrfDe4z18/wPp7/AM4awf8AhOP%2BChf/AEa/8Gf/AA/Grf8AzL1y/wAEf2jv27fjx8GPCHxx8K/sofCS10vxn4X0/XdNttQ%2BOuqLPDBd20dxGkgTwwyhwsgDBWYZBwSOaxlhcLL4qcX/ANux/wDkTCWDwc/ipRfrGL/OJ2F5/wAE/P2Eb7P2j9jD4V5PUp4A05CfxWEVl3f/AATN/wCCfV7nzv2OPh6uf%2BePhmCP/wBBUVc/4Tj/AIKF/wDRr/wZ/wDD8at/8y9H/Ccf8FC/%2BjX/AIM/%2BH41b/5l6yeXZdLejD/wCP8A8iYSynKpb4en/wCAQ/8AkDBuv%2BCUX/BOa8z537Ifg8Z/55Wbx/8AoLCs65/4I9/8E1LvPm/smaAM/wDPK7u0/wDQZhXX/wDCcf8ABQv/AKNf%2BDP/AIfjVv8A5l65f43ftHft2/Af4MeL/jj4q/ZQ%2BEl1pfgzwvqGu6lbaf8AHXVGnmgtLaS4kSMP4YVS5WMhQzKMkZIHNZvKMplvh4f%2BAR/%2BRMnkWRy3wtP/AMFw/wDkTJuP%2BCK3/BMO6/1n7KmnjP8Azz8Qamn/AKDdCqM//BDf/glvPyf2XlQ%2BsfjLWlx%2BV5Xpn/Ccf8FC/wDo1/4M/wDh%2BNW/%2BZej/hOP%2BChf/Rr/AMGf/D8at/8AMvWbyPJXvhqf/gEf8jN8OcPPfB0v/Bcf8jye4/4IR/8ABMGYYT9n68iHonjTVj/6FdGqU/8AwQO/4Jly/wCr%2BDmrxf7njDUP6zGvZf8AhOP%2BChf/AEa/8Gf/AA/Grf8AzL0f8Jx/wUL/AOjX/gz/AOH41b/5l6h5Bkb/AOYWn/4CjSGRZNT%2BDDwXorfk0eHzf8G/n/BNeX7nw78RR/7ni26/qxqrN/wb2/8ABOKT7nhfxZH/ALniqX%2BqmvUvi7%2B0d%2B3b8GvClp4v8R/sofCS5t7zxRomhRx2Xx11RnE%2Bqara6ZA53eGFGxZruNnOchFYgMcKeo/4Tj/goX/0a/8ABn/w/Grf/MvUPhzIH/zCw/8AAUdEcuwcPhi16SqL8qqPnyX/AIN3/wDgnbIcpY%2BNY/8Ac8Uf4xGq8n/Bun/wT4Y5ivPH8R7GPxNFx%2Bdua%2Bi/%2BE4/4KF/9Gv/AAZ/8Pxq3/zL0f8ACcf8FC/%2BjX/gz/4fjVv/AJl6l8M8PP8A5hYfd/wTaOHjH4ZzXpVrr8q6PnRf%2BDd/9h%2BD/jx%2BIfxUtvQQeK7cY/O1NTRf8G/f7J9r/wAePx9%2BNlv6eR40tl/9s6%2Bhf%2BE4/wCChf8A0a/8Gf8Aw/Grf/MvXL%2BPv2jv27fh34r8EeENY/ZQ%2BEk1x488US6FpUlt8ddUKQTx6VqGpl5d3hgEJ5OnTKCoY73QYwSyn%2BrWQLbDR/H/AOSG6HNvUqf%2BDq//AM0HlsH/AAQh%2BANn/wAeP7Wn7QVvjp5PxAt1x/5JVft/%2BCJ3w0shiw/bn/aWg9PK%2BJsK/wArOva/%2BE4/4KF/9Gv/AAZ/8Pxq3/zL0f8ACcf8FC/%2BjX/gz/4fjVv/AJl6tcO5JHagvvl/8mc88uw1T4nN/wDcWv8A/NB4/F/wR10i0/48f%2BCif7UUPps%2BKij%2BVsKPgT%2ByRcfssf8ABQnwak37TPxU%2BIq658GfGWwfEzxYdU/s7ydW8Lf8e3yL5Xmeb8/Xd5Uf92vYP%2BE4/wCChf8A0a/8Gf8Aw/Grf/MvVDwP4H/as8Y/tWeHPjd8bvhx8PfDOjeGfh74h0OGHwr8Q77Wrq7utSvtEuEZkuNIsUijRNLlBYO7FpUAXGSOjD5Tl2FqqpSp2kvOX5ObX4E0crwOHrKrCL5l3nUf4SqSX4M91ooor0T0AooooAKKKKACvnL9iHwxpvhb9njxZe2PmEXv7Q3j/U752GcH/hPNU3twOipGPwWvo2vkr9krxZ%2B2dp/w98UWfwx%2BAfww1fQk%2BNPxF/s/Ude%2BLuo6bdzL/wAJnrJYyW0WgXKRENuAAmfIAOQTtCaTafYuNSpGEoJ6Stfzs7r7nqfUH/Cc%2BCf%2Bhw0v/wAGEf8A8VS/8Jz4J/6HDSv/AAYR/wDxVeW/8Jx/wUL/AOjX/gz/AOH41b/5l6P%2BE4/4KF/9Gv8AwZ/8Pxq3/wAy9Mg9S/4TnwT/ANDhpX/gwj/%2BKo/4TnwT/wBDhpX/AIMI/wD4qvLf%2BE4/4KF/9Gv/AAZ/8Pxq3/zL0f8ACcf8FC/%2BjX/gz/4fjVv/AJl6ANS%2B%2BBn7FGqfDjSfg7qfwd%2BFtx4R0C9%2B2aF4Vn8Paa%2Bm6bc7pG86C2KeVDJullO9FBzI5z8xzoaf8OP2UdJtbWy0rwH8PbaGytNJtLKG30uxRbeDS55LjTIkAUBEtJ5ZZbdRgQSSO8YVmJPmfwR/aO/bt%2BPHwY8IfHHwr%2Byh8JLXS/GfhfT9d0221D466os8MF3bR3EaSBPDDKHCyAMFZhkHBI5rqP8AhOP%2BChf/AEa/8Gf/AA/Grf8AzL0Aatj8D/2KtL8U63450z4QfC631vxLBdQ%2BI9Yg8P6al1qsd1j7SlzKE3zrLtXzA5IfA3ZxXQeN9K%2BAHxM8EXPwy%2BJGm%2BDvEHhu8hSK78Pa5DaXdjPGjKyI8EoaNlVlUgFcAqCOgriv%2BE4/4KF/9Gv/AAZ/8Pxq3/zL0f8ACcf8FC/%2BjX/gz/4fjVv/AJl6AOqHgn9mEeHrfwiPCPgMaTaeG5/D1rpf2Cy%2Bzw6ROI1m05I9u1bWQQxB4APLYRICp2jGHdfs%2BfsMX3wttfgde/BD4TzeCrK/N9Z%2BD5fDWmNpcF0d%2BZ0tDH5KSfvH%2BcKG%2BdueTXE/G79o79u34D/Bjxf8cfFX7KHwkutL8GeF9Q13UrbT/jrqjTzQWltJcSJGH8MKpcrGQoZlGSMkDmuo/wCE4/4KF/8ARr/wZ/8AD8at/wDMvQBu%2BIPhN%2ByB4ssfDGl%2BKvhp8NtTtvBMscvgy31DRtPmj0B0CBGsldCLUqI0wYtpGxcdBVS0%2BBH7Elh8Wpfj5Y/Br4Vw%2BO5rtrubxrF4d01dWknMXkmVrwJ5xcx/uyxbO35c44rN/wCE4/4KF/8ARr/wZ/8AD8at/wDMvR/wnH/BQv8A6Nf%2BDP8A4fjVv/mXoA9R/wCE58E/9Dhpf/gwj/8AiqPBh36GZ1B2TX13LESMbke5kZW%2BhUgj2NeXf8Jx/wAFC/8Ao1/4M/8Ah%2BNW/wDmXrl/i7%2B0d%2B3b8GvClp4v8R/sofCS5t7zxRomhRx2Xx11RnE%2Bqara6ZA53eGFGxZruNnOchFYgMcKQD6Oorxn/hOP%2BChf/Rr/AMGf/D8at/8AMvR/wnH/AAUL/wCjX/gz/wCH41b/AOZegD2aivGf%2BE4/4KF/9Gv/AAZ/8Pxq3/zL0f8ACcf8FC/%2BjX/gz/4fjVv/AJl6APZqK%2BcfH37R37dvw78V%2BCPCGsfsofCSa48eeKJdC0qS2%2BOuqFIJ49K1DUy8u7wwCE8nTplBUMd7oMYJZeo/4Tj/AIKF/wDRr/wZ/wDD8at/8y9AHs1FeM/8Jx/wUL/6Nf8Agz/4fjVv/mXo/wCE4/4KF/8ARr/wZ/8AD8at/wDMvQB7NRXjP/Ccf8FC/wDo1/4M/wDh%2BNW/%2BZeuX1b9o79u3R/jPoHwOuP2UPhI2qeIvC%2Br67Z3KfHXVPIjg065023mRyfDG4OzapAVAUghJMlSFDAH0dRXjP8AwnH/AAUL/wCjX/gz/wCH41b/AOZej/hOP%2BChf/Rr/wAGf/D8at/8y9AHs1FeM/8ACcf8FC/%2BjX/gz/4fjVv/AJl6P%2BE4/wCChf8A0a/8Gf8Aw/Grf/MvQB7NRXzjpP7R37dusfGfX/gdb/sofCRdU8O%2BF9I128uX%2BOuqeRJBqNzqVvCiEeGNxdW0ucsCoADx4LEsF6j/AITj/goX/wBGv/Bn/wAPxq3/AMy9AHs1FeM/8Jx/wUL/AOjX/gz/AOH41b/5l6P%2BE4/4KF/9Gv8AwZ/8Pxq3/wAy9AHs1FeM/wDCcf8ABQv/AKNf%2BDP/AIfjVv8A5l65fwD%2B0d%2B3b8RPFfjfwho/7KHwkhuPAfiiLQtVkufjrqgSeeTStP1MPFt8MElPJ1GFSWCnejjGAGYA%2BjqK8Z/4Tj/goX/0a/8ABn/w/Grf/MvR/wAJx/wUL/6Nf%2BDP/h%2BNW/8AmXoA9mrxn9l//kt/7R3/AGWax/8AUK8L0f8ACcf8FC/%2BjX/gz/4fjVv/AJl6t/srfDn40%2BD9Y%2BKHjv46aB4X0nVPH3xCi1yz0rwn4ludWt7W1i0HR9MVXuLiys2aRpNOlcqItoWRBuY5wAet0UUUAFFFFABRRRQAUUUUAFFFFABRRRQAUUUUAFFFFABRRRQAUUUUAFFFFABXyv8AtPftafFz4YfGPxZrXgHw74Pk8MfB/wAP%2BH73xqda0i4m1XVLfV7%2BVLmCwuI7iNLLyLazjuMyRTi5kKRkQ%2BX5p%2BqK8Z%2BM/wCxD8OPjd8Uj8TNc8c%2BKtLi1G10i18X%2BGtGurVNO8UwaXeyXtjFfLLbyTBY5ppc/Z5YDLHIYpjLGFQAHs1FFFABRRRQB8x%2BHP2lfiZD%2B3/4o%2BD/AMRtY8PeE/Da%2BILTRPBkWo/CLWUuvGMA0CDUcQeI2u105pY7u51AC0ELyeXaTAKCzSL9OV5X4s/Zag8f/GTSPin49%2BN/jXV9K8Pa7HrWgeALg6ZFo1jqEdu8Ec4aGyS9l2eZJIqTXUkYkfds%2BRAvqlABRRRQB4v/AMFBfi78cP2fv2R/Gnx6%2BAV74Uj1jwToV3rl1B4w0W5vra7tLW2lme3RLa6tmSV2RFEhcqgLEo/Arz/x5%2B1p8XPBfx48W6n4U8O%2BEIvh54Q%2BMfhH4feMrObSLg63quq67BoqR6hDdpcLDHHB/bmkxmKS3leRIZ8Sx7UFew/tY/s42X7WnwI179n3Wvir4p8I6T4nspbHXL/wgunfa7mylieKa23X9pdRojq/LIiyAqNrrzni4P2AfB0/xFs/iL4q%2BOPj7XWOs6TrnibRtQl0qKx8T65piRpY6tex21hEy3EQgtMLbNBAxsbYvExjyQD3uiiigArxf9sn4u/HD4JWvgHxj8LL3wp/Y2ofEzw54e8X2PiDRbm5urm11XWbHTQbOWG6hS2kjW5lk3yJOpKIuzkmvaK8q/au/Zbf9qrw3oXhef4%2B%2BN/A1voXiSw11G8Fw6Oz3d7Y3kF5ZtKdS0%2B8G2K4t43CxhA3Kyb1O0AHnH7PP7SvxM1v9qrxb8Efihq/h7wnp0PinW7fwT4Sk%2BEWs6Zc69bQukpv7fWri7%2Bwag7GSaWWK2gL8l2K4Yn6cryXSf2UQ/xk0X4y/Ef9oDx341m8L3d5d%2BE9C8QjSYbDR7q5t5LWS4iWw0%2B2llf7PNPCvnySqizvtAJBHrVABRRRQB4f%2B3d8XPjx%2Bz98GtX%2BOvwo8Y%2BBbHT/AAtotzeXui%2BLPDN7f3PiG9yi2emWcltewfZ5riUi3RvKumaWeILCx%2BVvP/gj%2B198Z9c%2BJfgr%2B1vBnhLSPhp43%2BJ/ij4beFfDWnaXNHq%2BiX%2BgQ6tvnnuRcNbzQSN4f1NFhjt4jGrWx8yTLAen/tK/sgwftJePPBHxAm/aB8d%2BELnwDd3N7otj4Yi0aezkvZUEa3k0Gp6deI88MfmLDIApjE8pHzNkVfAf7DXw98B/GW3%2BLsPxF8XalBp2u6nr2ieENSubL%2BydK1vUY3j1DVIEitUn8%2BcT3ZZXmeFGvrkxxR%2BZwAe10UUUAFfL/wC1z8eP2l/gt8RNP8KaVD4A8a6P45h1q20X4cxeD76TWEtbTQ7q7kv7icXrxXVsLqK3tpIRaxA/b4UExkZEk%2BoK8Om/YmuI/wBo/wAV/tNaJ%2B1X8S9O1fxbpsOnXOlwweH57TT7OGBo4baza50mW5t4lld7rYs2153LuHB20AM/YQ/aD8b/AB7%2BHt5dfFfx9o194u04Wba/4bsvhdq/hG80B57ZZRBc2Wr3U9w4Lb/LuAEjkVDtDbSa90rzf4Hfs3ad8GfE/iT4h6x8UvFPjjxV4risbfWPE/i5rBbl7SzE32W1SLT7W1to4o2ublxthDM1xIWZsjHpFABRRRQB8c/8FBP24/ip%2Bxh45/tPXNF0Dxj4RfRtR1u38Ky/DnU7KW3TTdGvtSST/hIprp9Mnu/temjZYrAl0I5llA2wtI3r37NHxd%2BOerfFTxv%2Bz1%2B0dc%2BFNQ8T%2BEdJ0PWo9a8FaRc2Fjc2OqC8jSIwXNzcussVxp12pfzcSIYm2RklRW%2BOv7CXgj9pzWrq1%2BP/AMW/GvijwXcyXEi/DK8k02HRYpJrGayZt9vZR30gEdxMwSW6dA77tvyIF6f9nz9mbSPgHea94iu/ih4s8ceI/Ehs49W8VeNbize%2BltrSIxWtqPsdtbwrFEHlYYj3s88ruzs5NAHpVFFFABXxH%2B1P%2B2V%2B1n8G/jV4g%2BFHg7w34c8a6nYaLca74YCfA/xBHJooGo6ZaoYW%2B3OPE0gsdUuPO/svynhaErKIxMI6%2B3K8P179i3U/Evj0/E7Wv2ufijNrenwXkXg28KaAB4VW6mhkn%2ByRjSdk7NHAtvuvVumWJnClXdnIB1X7LHxYf4yfCODxZe/EzRvFV/DqN1ZapfaN4MvvDotriKVla1m03ULie6s54xhXjmcPn5tqhgK9GrhvgH8BfD3wA8M6no2leKdb8Qajr%2BvXGt%2BJPEniOaBr3Vb%2BYIjTyi3ihgTEcUMSpDFHGqRIAowSe5oAKKKKACiiigAooooAKKKKAKPijxDYeEvDWo%2BK9VDm10yxmu7kRLlvLjQu2B3OFNfOf7E37Sfxr8f%2BKdH8GfGzw94Msx46%2BFtl8RvDMPgzSri0GmR3lwTd6fdma4lF3NG9zbP9sQQCdpZiYI9oL/S13aWt/ay2N7bpNDNG0c0UqhldSMFSDwQRxivIf2Zv2K/AX7MGqvq%2BgfEHxb4lltvDFj4Z8OjxZe2sw0DQrN5Ht9NtTb28JaNTJ80s5muJBHF5kz%2BWuAD2KiiigArhf2oPHnxF%2BFn7NHxE%2BJ3wf8KLr3i3w54F1fVPC2htYzXQ1HUbezlltrYwwMsswklRE8uNg7bsKQSDXdVneLdEv/EvhjUPD%2Bl%2BK9R0K5vbSSG31rSFga6sXZSBNELiKWIup5AkjdMj5lYZBAPLv2Kfi1P8UPhnfWWrfELw/rOp%2BHdVXTrzTNE%2BGGp%2BDn0NBbQSRWdxpWqXM9zC4RxIrt5aPFLFsTA3v7FXnnwH/Z20n4HXniXxHc/ETxJ4x8SeL9RhvPEXinxW9mLu6MNulvBEI7G2traKKONAFWOFMlnZizMzH0OgAooooA%2BXP2qP2sfih%2Bzh8XvHFl8StG8JeIvhfYfs7%2BL/AB7baFb6JcJqrtog0tZ7a4uZLl7eaKdb6cBBbIVCJl3ywrt/2Z/i/wDHzVPi54y/Z1/aWfwleeKPDHhjw94lj1XwVpNzY2Ullqz6lbrbGG5ublzLDcaRdgyiQLIjxN5cZ3LUHxj/AGFfDvx0%2BOrfGXx58dvHMumzeCtT8I33w9hg0X%2BxLvRtSW2%2B32khfTWvSJ2tIHZxdB1KEIyIzIek/Z3/AGXdD/Z9vta8Rz/FDxb438Q6/a2Flf8Aifxtc2kl6bCxSRbOzH2S2t4/KiM9w4JQyO9zK7u7NmgD0%2BiiigAr5E%2BNf7S/7W3gzXf2gPAlv4V8GeLL3wF4f8KeJPhtY6T8P9Tv51j1HVdShCXlrFePLqM8C6bHOpthbkuSFX5VavruvC5f2KPEMXx08bfH/Qv20PitpWreN9IsdMubGys/DDWmm21lcXM9mlsJdFeT90by6UGZ5S6zkSeYVQqAdX%2Byp8W5vjL8KR4m1H4naN4p1G11W5sdWutH8EX/AIbNncRN81rPpmo3E91aTopXckzBiGVtqqwr0muE%2BAfwD0D4A6FrNjp/i3XPEeq%2BJvEEuueJ/E3iSW3a91W/khhg82QW0MMEYWC3t4VSKKNFSFAFzknu6ACiiigD42/aW/a7/aW/Z4%2BM0Hw21lPhn41vtbggm8Iw6d4WvbSXwXeal4h0zw9pE2pyvfTC6inbV5wWiWzkcWN0sYZfMMXuP7Kvxf8AiR8Rh4/%2BH3xiOiT%2BKvhp48bw1rOq%2BGtOms7DU/M0vTtWt7iG3mnnkt82uqW6PG00uJI5MMQRjhbb/gmr4Sa6%2BIb%2BIf2l/idrNv8AEnXjrmsW%2BpHQvMs9SiuIZ9Puba6i0tLpTYPb24tI3mkiiWFAyPzn1j4B/AXQ/gH4e1bTbLxfrniTVvEWvTa14n8UeJXtjf6vfSRxQ%2BdMLWCCBdkEFvAiRRRoscEaheCSAd1RRRQAy5%2B0/ZpPsezzth8rzc7d2OM45xmviD4rftc/tp/DT4ia58Nre28B%2BM9e8MXvhq31bx14I%2BCuv6tH4ct9Wa8e9sJdKs9Snu7maOGysbomKdP3d1C0sCAxNJ9vXcMlxay28N1JA8kbKs8QUvGSMBl3ArkdRkEeoNfPfwY/YC8QfAT4bXHw0%2BHf7dXxiijutWfU5tZvLLwnPqEt3K8slzPNM%2BhH7TJO8u6SScSPmNNhQDBAPWfgJ8Q7L4rfB3w/8QrD4gaN4qTU9PEj6/4f0mawtLuQErIUtZ5ppbYq6sjQySO8bKysdykDr65L4F/Bfwl%2Bz78L9O%2BFPgq5v7iysJbq4mvtVuRNdX13dXMt1dXUzhVDSzXE80r7VVd0h2qq4UdbQAVR8Tw%2BJLnw3qFv4N1OxstXkspV0u81Owe6toLgoRHJLDHLE00atgsiyRlgCA6k7herN8Y6Df8Aijwtf%2BHdL8W6loNzeWrxQa1o4gN1YuRxNELiKWIup5AkjdDj5lYZFAHw98N/27P2tfjB8U9b%2BCXws034fJ4z02112%2Bk8Z%2BK/hdrWhrqmmaRa6LKljLol5fJqGnyvd%2BIdiTTzPH5UMlwkLrOgP2N8Avi1pvx8%2BBPgr466NpstnZ%2BNfCWm69aWcz7ngivLWO4WNiAMlRIAT6ivFtX/AOCZHgfWtcvviLd/tKfFNPiBqyXlrrXxJtr3SIdWv9Mura1tptMKJpos4bYpZWjDyLaKVZIFlWUOWY/Qfgvwf4a%2BHng7SfAHgzSYtP0fQ9Mg0/SbCHOy2toY1jijXPOFRVUfSgDTooooA5f406j440b4W61rfw58Q2Ol6tYWZuob7UPB974gRI4yHlA06xngubyRoldUihkDl2XCufkb4t%2BEv/BRH4/eJPGmh6n43uPCPgTwZqU86%2BIPHF58DPEU1trF/Dr91pCJcyrfRp4ZnktbS1/cao0ksDyrG%2BdgSvtv4meDNd8e%2BEpvDnhv4pa/4NvJJY3i1/wzFYvdwbWBKqt/bXMDBgCpDxNwTjBwR4rdf8E5vCmoeD7j4bat%2B0h8TbvwxrmoTX/jzQJrjRxF4wu57xrq4mvpV00XEXmllhaOzltYhDEkaoo3bgD6JooooAKKKKACiiigAooooAKKKKACiiigAooooAKKKKACiiigAooooAKKKKACiiigAooooAKKKKACiiigAooooAKKKKACiiigAooooAKKKKACiiigAooooAKKKKACiiigAooooAKKKKACiiigAooooAKKKKACiiigAooooAKKKKACiiigAooooAKKKKACiiigAooooAKKKKACiiigAooooAKKKKACiiigAooooAKKKKACiiigAooooAKKKKACiiigAooooAKKKKACiiigAooooAKKKKACiiigAooooAKKKKACiiigAooooAKKKKACiiigAooooA//2Q%3D%3D\">"
            ]
          },
          "metadata": {
            "tags": []
          }
        }
      ]
    },
    {
      "cell_type": "markdown",
      "metadata": {
        "id": "lf-Hw1cbIQeB"
      },
      "source": [
        "# Submit a linear model"
      ]
    },
    {
      "cell_type": "code",
      "metadata": {
        "id": "O7xZAaGhIQeB"
      },
      "source": [
        "## GRADED PART, DO NOT CHANGE!\n",
        "# Testing shapes \n",
        "grader.set_answer(\"9XaAS\", grading_utils.get_tensors_shapes_string([W, b, input_X, input_y, logits, probas, classes]))\n",
        "# Validation loss\n",
        "grader.set_answer(\"vmogZ\", s.run(loss, {input_X: X_val_flat, input_y: y_val_oh}))\n",
        "# Validation accuracy\n",
        "grader.set_answer(\"RMv95\", accuracy_score(y_val, s.run(classes, {input_X: X_val_flat})))"
      ],
      "execution_count": 24,
      "outputs": []
    },
    {
      "cell_type": "code",
      "metadata": {
        "id": "ZQrMTI6xIQeB",
        "colab": {
          "base_uri": "https://localhost:8080/"
        },
        "outputId": "a55a095c-c9f4-4230-92f3-cfeac1dc6dfe"
      },
      "source": [
        "# you can make submission with answers so far to check yourself at this stage\n",
        "# grader.submit(COURSERA_EMAIL, COURSERA_TOKEN)\n",
        "grader.submit('roniemartinez_13@hotmail.com', 'YzDUi6R8P7IPljOj')"
      ],
      "execution_count": 27,
      "outputs": [
        {
          "output_type": "stream",
          "text": [
            "You used an invalid email or your token may have expired. Please make sure you have entered all fields correctly. Try generating a new token if the issue still persists.\n"
          ],
          "name": "stdout"
        }
      ]
    },
    {
      "cell_type": "markdown",
      "metadata": {
        "id": "hPRT2n88IQeC"
      },
      "source": [
        "# MLP with hidden layers"
      ]
    },
    {
      "cell_type": "markdown",
      "metadata": {
        "id": "C6RfPdOBIQeC"
      },
      "source": [
        "Previously we've coded a dense layer with matrix multiplication by hand. \n",
        "But this is not convenient, you have to create a lot of variables and your code becomes a mess. \n",
        "In TensorFlow there's an easier way to make a dense layer:\n",
        "```python\n",
        "hidden1 = tf.layers.dense(inputs, 256, activation=tf.nn.sigmoid)\n",
        "```\n",
        "\n",
        "That will create all the necessary variables automatically.\n",
        "Here you can also choose an activation function (remember that we need it for a hidden layer!).\n",
        "\n",
        "Now define the MLP with 2 hidden layers and restart training with the cell above.\n",
        "\n",
        "You're aiming for ~0.97 validation accuracy here."
      ]
    },
    {
      "cell_type": "code",
      "metadata": {
        "id": "PDPP9XD4IQeD",
        "colab": {
          "base_uri": "https://localhost:8080/",
          "height": 309
        },
        "outputId": "f538e4f3-2e66-4289-f585-3517c8c91d86"
      },
      "source": [
        "# write the code here to get a new `step` operation and then run the cell with training loop above.\n",
        "# name your variables in the same way (e.g. logits, probas, classes, etc) for safety.\n",
        "### YOUR CODE HERE ###\n",
        "hidden1 = tf.layers.dense(input_X, 256, activation = tf.nn.sigmoid)\n",
        "hidden2 = tf.layers.dense(hidden1, 256, activation = tf.nn.sigmoid)\n",
        "logits = tf.layers.dense(hidden2, 10)\n",
        "probas = tf.nn.softmax(logits)\n",
        "classes = tf.argmax(probas,1)\n",
        "\n",
        "loss = tf.reduce_mean(tf.nn.softmax_cross_entropy_with_logits(logits = logits, labels = input_y))\n",
        "\n",
        "step = tf.train.AdamOptimizer().minimize(loss)\n",
        "\n",
        "s.run(tf.global_variables_initializer())\n",
        "\n",
        "BATCH_SIZE = 512\n",
        "EPOCHS = 40\n",
        "\n",
        "# for logging the progress right here in Jupyter (for those who don't have TensorBoard)\n",
        "simpleTrainingCurves = matplotlib_utils.SimpleTrainingCurves(\"cross-entropy\", \"accuracy\")\n",
        "\n",
        "for epoch in range(EPOCHS):  # we finish an epoch when we've looked at all training samples\n",
        "    \n",
        "    batch_losses = []\n",
        "    for batch_start in range(0, X_train_flat.shape[0], BATCH_SIZE):  # data is already shuffled\n",
        "        _, batch_loss = s.run([step, loss], {input_X: X_train_flat[batch_start:batch_start+BATCH_SIZE], \n",
        "                                             input_y: y_train_oh[batch_start:batch_start+BATCH_SIZE]})\n",
        "        # collect batch losses, this is almost free as we need a forward pass for backprop anyway\n",
        "        batch_losses.append(batch_loss)\n",
        "\n",
        "    train_loss = np.mean(batch_losses)\n",
        "    val_loss = s.run(loss, {input_X: X_val_flat, input_y: y_val_oh})  # this part is usually small\n",
        "    train_accuracy = accuracy_score(y_train, s.run(classes, {input_X: X_train_flat}))  # this is slow and usually skipped\n",
        "    valid_accuracy = accuracy_score(y_val, s.run(classes, {input_X: X_val_flat}))  \n",
        "    simpleTrainingCurves.add(train_loss, val_loss, train_accuracy, valid_accuracy)"
      ],
      "execution_count": 28,
      "outputs": [
        {
          "output_type": "display_data",
          "data": {
            "text/html": [
              "<img src=\"data:image/jpeg;base64,/9j/4AAQSkZJRgABAQEASABIAAD/2wBDAAIBAQEBAQIBAQECAgICAgQDAgICAgUEBAMEBgUGBgYFBgYGBwkIBgcJBwYGCAsICQoKCgoKBggLDAsKDAkKCgr/2wBDAQICAgICAgUDAwUKBwYHCgoKCgoKCgoKCgoKCgoKCgoKCgoKCgoKCgoKCgoKCgoKCgoKCgoKCgoKCgoKCgoKCgr/wAARCAEgA2ADASIAAhEBAxEB/8QAHwAAAQUBAQEBAQEAAAAAAAAAAAECAwQFBgcICQoL/8QAtRAAAgEDAwIEAwUFBAQAAAF9AQIDAAQRBRIhMUEGE1FhByJxFDKBkaEII0KxwRVS0fAkM2JyggkKFhcYGRolJicoKSo0NTY3ODk6Q0RFRkdISUpTVFVWV1hZWmNkZWZnaGlqc3R1dnd4eXqDhIWGh4iJipKTlJWWl5iZmqKjpKWmp6ipqrKztLW2t7i5usLDxMXGx8jJytLT1NXW19jZ2uHi4%2BTl5ufo6erx8vP09fb3%2BPn6/8QAHwEAAwEBAQEBAQEBAQAAAAAAAAECAwQFBgcICQoL/8QAtREAAgECBAQDBAcFBAQAAQJ3AAECAxEEBSExBhJBUQdhcRMiMoEIFEKRobHBCSMzUvAVYnLRChYkNOEl8RcYGRomJygpKjU2Nzg5OkNERUZHSElKU1RVVldYWVpjZGVmZ2hpanN0dXZ3eHl6goOEhYaHiImKkpOUlZaXmJmaoqOkpaanqKmqsrO0tba3uLm6wsPExcbHyMnK0tPU1dbX2Nna4uPk5ebn6Onq8vP09fb3%2BPn6/9oADAMBAAIRAxEAPwD9/KKKKACiiigAooooAKKKKACiiigAooooAKKKKACiiigAooooAKKKKACiiigAooooAKKKKACiiigAooooAKKKKACiiigAooooAKKKKACiiigAooooAKKKKACiiigAooooAKKKKACiiigAooooAKKKKACiiigAooooAKKKKACiiigAooooAKKKKACiiigAooooAKKKKACiiigAooooAKKKKACiiigAooooAKKKKACiiigAooooAKKKKACiiigAooooAKKKKACiiigAooooAKKKKACiiigAooooAKKKKACiiigAooooAKKKKACiiigAooooAKKKKACiiigAooooAKKKKACiiigAooooAKKKKACuN%2BOP7QHwm/Zx8JW/jT4veJ5dPtL7U4dN0u2stLub%2B91K9lDGO1tLO0jluLudlR2EUMbvtR2xhWI7KvFv2u/gP8VPiX4h%2BGfxl%2BBd14fl8X/CrxjPrWmaJ4tu57bTdYhudLvdMubaW4ghmktH8q9aSOdYZtrR7TGyu2ACjpH/AAUr/Y71rxm3w8tvHviCDW7fSodU1bTtR%2BHOvWkmi2EhuAt3qXn2SDTIAbWcNLdmFEKYYqWUGbwn/wAFH/2NfGfg/wAQ%2BOtM%2BLFza6f4Y0e11fVBrnhPVdMuJNPuXMdreWtvd2sU19bzyAxwy2ySpM5CRlmIB86vP2GPjP8AHW0/aRP7Qt74V8My/tB/CPTvBskfgrWLrUzo7RWusWsr%2BbcWtqZ1VNRiZDsXeyygogxuy9Y/Y2/at%2BM%2Btaz8UP2lPh38G9X1e0%2BE6eBtB8E6d4n1QaRrSy6jaXt5fXd2bBJ9PYmyg%2BzxQw3BtnDP50hIwAeyX/7fP7N2k%2BAbH4h6tdeOLSHVPED6Jpeh3Xwj8SR67e3yW5uXjh0dtPGoShYAZTIluUCKzFsA49P8JeOfDfjbwTY/EPRbi5i0rULBbyCTVNPnsZY4iu7MsFykcsDAfeSRVZSCGAIIr41tv2Gf2tJfgpJ4W8feGPCnjS%2Bh%2BIcut%2BC9B1n9ofxXb3fgOxOmxWoi0/xbHp7atcSGUXcreZDGBHeGENsjGfUvB/7Bmq%2BKfgJo3hb9pz46%2BOPEfj5PhtdeFtf8Q6T8Q9at9Muhc2tzbyTPpa3SWN5MiXTBbq4tmmdoopWKuibADc8Mf8FJP2MvF/h7xJ4s0b4tXK6Z4W8GXni6/vr7wlqtpFe6BaruuNU09p7VBqtogK5nsvPQmSMAkyIG4n40f8FdP2YfAf7M/wATf2gfhW%2Bs%2BM7v4b%2BDYfEjeGW8L6xps2r2Nw7R2t3avNYFrixlkRh9vgjmtkVWdnCqSPHfC/8AwSh%2BNC/BPxf8LPFnh3w9J4h/4UL4j8A%2BC/Hmo/tD%2BNvECSXGpWEdp5h0jVUkttGtpDDE8scEl0yeVGqFggz6P%2B1L/wAE5vih%2B0BYeKtE0Pxj4d0q2179le%2B%2BGlrLM87GDVpLiOWGdo1iANqNhBIbzBnhO9AHqkv/AAUU/ZZt/E3hrwJeav41tvEni7TpdQ0HwpefCTxLDq8tnFd/Y5LmSwk08XNvCkxG6SaNEVGWUkRsrmXwN/wUT/Y7%2BJGqarpXhD4tyXB0rQ9Q1lbufw1qVvaapp1iwS8u9NuZrdYdVhhYqHeyedVLqCfmGcXwR8APjz4x/apsf2oPjn4f8HeH5JPg5f8Ag/VNE8J%2BK7vVTBcy6tHcpJDcz6fZl4mgiUsTGjJIdoV1USHwGb9hz9pf4bfs8%2BF/Cnxo1rwIPCP7N3wP8SaB4L1PwrfXcmpeKd2hHTLe4vbeW2ii04JZozSQxS3QknZXDxqgQgH0D4U/4Kl/sL%2BNPBus/ELQ/jLdrouheDj4tutRv/BmsWcdzoIKB9Vs/PtEN/ZxmRBJPbCWOLcPMZc167a/GD4c3vxcuPgVZ%2BIxN4qtPDUGv3emRWsrCHTp55beGd5QnlL5ksE6ohfe3kyEKQjEfFX7I/7P3xC8WfBL4Q/Hb9t/Uvhlovww%2BG/7L9z4fgk07W5wmr6bqmnaWby%2B1X7VBDDpkEVppyq0CS3CZleRplWNVrsP%2BCK3wr8d6P8As76n8evit4tbxFrHjW%2Bg03w54hlgaOS%2B8I6JF/ZWiXBD8/6VDDNqhPd9WcgKCFAB9lUUUUAFFFFABRRRQAUUUUAFFFFABRRRQAUUUUAFFFFABRRRQAUUUUAFFFFABRRRQAUUUUAFFFFABRRRQAUUUUAFFFFABRRRQAV4jpH/AAUY/Y91K716z1P4pXnh5vDnhy58QahJ418I6roMc2k27pHPf2smpWsC31ujyRK0tsZUBljGcuufab2K5ms5YbO6EEzxMsUxj3%2BWxHDbT1wecd6/MTV/%2BCOX7cvxf1bwvrnxu%2BOOhvrfhrwfqFnqHijUPit4m8TjxDrf2zSr611E6XfRQ2Wk20lzpi%2BfYWQCiOTassgVAoB9sv8At/8A7MNr8NG%2BLGseIPFWlaW2uQaNY2eufDLX7DVNTv5kMkMFlptxYpe37SIGdfs8MgZUdgSEYjovAf7VnwP%2BI%2Bv2XhPw54h1SHV7/wAKT%2BJIdI1rwrqWmXaabDd/ZJZZYby3ikgdZ/kMMirL32bea8m%2BJ3wc/bd%2BMTfD342654N%2BFWh/EP4UeOptY8P%2BGbXxxqV/ouuWdxpN3plzHcXz6VDNYzFL2SSN0tbgRmIKfMEjYq/En4Dftwa/8ZfDv7TXgfRvhXaeLL74Yar4L8Y6FqXivUpLDSFuL%2BG6tb%2ByuE04SagYhG6yW8sVoJS4xLFjkA7jSf8Ago3%2ByB4j17wL4W8K/EbVdZ1P4k%2BDdK8W%2BDdO0TwPrN7PeaHqL7LXUZEgtGa1t92PMknEa24ZTN5QYE7Hw1/bc/Zu%2BK/xGufhP4Z8X6tZ6/b6Xc6nDZeJ/BmraIt/Y28iRz3dlLqNrBHfwRvLEHltmkRfMQkgMpPlH7Cn7CXxY/Zh1/4caz488QeGrs%2BDv2UvCPwxv30i5nlZtW0t5muZovMgj3Wrb02MxV22/NGmBXjXw0/4JV/tjeJ/ij4X8TftTfGGz1SLT/AHivwv408TQfF/xJrV54il1exS2/tO10y%2Bhj0/QjlSxtLRSi5UCZxGq0AfUvhP/gov%2ByP410WPxVoPjvXP7DuNV0vT9P8AEt78P9btdK1GXUr2OyspLS%2Bns0tryCW5mijFxBI8IMqFnCsCfS/C3xd%2BHnjX4geKfhd4X8Q/a9c8FyWcfie0S0mC2Ml1B9ogjMrII3doSshRGZkWSMsFEibvmHxx4E%2BIvhX/AIJ7eNPgR/wUM8T/AAq8EeAtB%2BGkWgW3xM8O%2BLbsM06RpbWupPaXVnAmmzLMLeSGCO4umM5REcnaG7X/AIJX/D74seG/2RNK%2BKv7RVglv8TvixfS%2BOviJCtu0X2e/v1jMNpsb5k%2By2MdlZ7TkgWuDQB9G0UUUAFFFFABRRRQAUUUUAFFFFABRRRQAUUUUAFFFFABRRRQAUUUUAFFFFABRRRQAUUUUAFFFFABRRRQAUUUUAFFFFABRRRQAUVzXxik%2BJsPwy1if4Oa1oOneJYrXfpl74m0qa%2BsYirAuZYIJ7eSUeWHwqyx/MVy2M1xXwE%2BKPxg/aG/Yj%2BH/wAa/D9z4a0fxr44%2BHGia40t5pVxcaXZ3l5ZQXEp%2BzLcJNJEpkfbH56sQFBk6tQB61Xi/wAevH/7Rf8Aw0X4F%2BBHwF8Z%2BCvD6a/4K8S69q%2Bp%2BL/Bd3rRJ0670O3hhhjt9SsfLDf2pKzMzPny0AC8kz/safG74i/G3wp4vk%2BIt14f1SXwr4%2BvvDun%2BLfCemz2emeI4raKAy3VvBPPcPEIrmS5snXz5QZrCUq2CFHGa18cvhT4u/4KpfD74W%2BDPiT4e1nWtD%2BDPj6PxJpOla1BcXekTHVvB5ijuYo3L25dVlIEgUny2xnBpNpblwhKo7R7N/dqzrv%2BEH/4KF/9HQfBn/ww%2Brf/ADUUf8IP/wAFC/8Ao6D4M/8Ahh9W/wDmor2aimQeM/8ACD/8FC/%2BjoPgz/4YfVv/AJqKP%2BEH/wCChf8A0dB8Gf8Aww%2Brf/NRXs1FAHjP/CD/APBQv/o6D4M/%2BGH1b/5qKP8AhB/%2BChf/AEdB8Gf/AAw%2Brf8AzUV7NRQB4z/wg/8AwUL/AOjoPgz/AOGH1b/5qKP%2BEH/4KF/9HQfBn/ww%2Brf/ADUV7NRQB4z/AMIP/wAFC/8Ao6D4M/8Ahh9W/wDmoo/4Qf8A4KF/9HQfBn/ww%2Brf/NRXs1FAHjP/AAg//BQv/o6D4M/%2BGH1b/wCaij/hB/8AgoX/ANHQfBn/AMMPq3/zUV7NRQB4z/wg/wDwUL/6Og%2BDP/hh9W/%2Baij/AIQf/goX/wBHQfBn/wAMPq3/AM1FezV598QPH/wM%2BGg1Pxh8ffHHhTw/p51qLT7LUvGGqW1pB5htI5VgjkuWVd5AlfaDkhWOODiZzhTi5TaSXVuy%2B92Rth8PiMXXjRoQlOcnZRinKTfZRipSb0eiTemxzX/CD/8ABQv/AKOg%2BDP/AIYfVv8A5qKP%2BEH/AOChf/R0HwZ/8MPq3/zUVX/4a/8A%2BCcH/R0XwR/8LbR//jtH/DX/APwTg/6Oi%2BCP/hbaP/8AHa5vr%2BA/5/Q/8Dh/8ke1/qlxZ/0LsR/4T1//AJQWP%2BEH/wCChf8A0dB8Gf8Aww%2Brf/NRR/wg/wDwUL/6Og%2BDP/hh9W/%2Baiuw%2BGniT9nL40aFL4p%2BDuv%2BCfFmmW921rPqPhq6s7%2BCOdVV2iaSAsocK6MVJyA6nGCK8n%2BIP7bP7J3wh%2BNfxE%2BEXxY8D6hodp8NPA2neKfEPi2T4f39xpUVlci%2BZi1zBaPFH5aWROWf94ztHHueGVV6YThUipQaafVO6%2B9XR4uIw%2BIwleVGvCUJxdnGScZJ9nGSjJPVaNJ67HUf8IP/AMFC/wDo6D4M/wDhh9W/%2Baij/hB/%2BChf/R0HwZ/8MPq3/wA1FRN%2B03%2ByhbTeG49Y8J69pUPiu4ht9Iv9c%2BD%2Bt2Fos0169lbx3NzcWCQ2TzXChIluHiaXzYWQMs0TPzOu/t0/sU%2BArQn4kzWNvdte%2BK1htfDfgfVtYIs/D%2BqnTdRupRb6bvhSCVohMzL5SF2KSzRKJ2oxOr/4Qf8A4KF/9HQfBn/ww%2Brf/NRR/wAIP/wUL/6Og%2BDP/hh9W/8AmorvtAj%2BDHiu4ntPC8fhjUZraGCa5hsVt5XhjnTzIXdVyVEifMpONy8jIrw/9n79qrRPjR8UtG8L65%2Bzdomh%2BGPHOm67qHwz8SQ6ql3Pq1vpV7DazG7tTaRixaZJ47mBUluN0IfzDC6iMgHZf8IP/wAFC/8Ao6D4M/8Ahh9W/wDmoo/4Qf8A4KF/9HQfBn/ww%2Brf/NRXG%2BLP2qtE8NfHjUfA9v8As3aHc%2BBPD3xE0XwH4n8atqqR3lpr%2Bq2lncWiRaf9kKz2udS02F5zcoyyXRAicRO1bfwh%2BK/i34k6/wDGDwFrH7LPhLS/Enw11OO10LT7bxOtzBron09Ly0aac2Ef2Jn8xEdQk4jySGkxigDX/wCEH/4KF/8AR0HwZ/8ADD6t/wDNRR/wg/8AwUL/AOjoPgz/AOGH1b/5qK5XwD%2B094a8R/sf2f7R3ir9nrRLHxNqOtX2gaZ4D0nUUvRqGtw6rcaZDZwXb2sJdJZ4NxmaFBFEXkdQkbkcxqH7YviGL9jnwD%2B3Rpn7IHg%2BbwP4k%2BGmheL/ABRb3HjMRanpo1GGCU2NhANNZNSmQTqq%2BZLaec5RFG5sAA9R/wCEH/4KF/8AR0HwZ/8ADD6t/wDNRR/wg/8AwUL/AOjoPgz/AOGH1b/5qKgsPiVdr%2B2fcfsveI/2d/DNnoVz4GuPEfhvxdbays9zfC3uLG3nhmsTZqtsBJe4RxcSFhCSUTcKyvg1%2B0D4e8QaZ8Y9S/aJ%2BCfhP4fx/BvxS%2Bna1c2etLqttLY/2Lp%2BrretIbO3MTCC/VXhCyBWiO2R8igDc/4Qf/goX/0dB8Gf/DD6t/8ANRR/wg//AAUL/wCjoPgz/wCGH1b/AOaivCtQ/wCCkXh3R/2ftJ%2BM3jT9l7wb4EudV%2BKOr%2BD54/if42h0bR9B%2BxJdyLNqmprYTLZyyrbLEsAikH2iYQiVgBI2zpf7f/w%2B8XeIPhr4I8M/BX4faF4g8ceB9D8Uano3xP8AHNv4fls4NVlnitbOxX7FcPqd6zWl4RCEhAWKMu6GZVoA9c/4Qf8A4KF/9HQfBn/ww%2Brf/NRR/wAIP/wUL/6Og%2BDP/hh9W/8Amorlfhh%2B1L8O/jD%2B1Pr3wB8D%2BBvhgdN8NaneadqMt/45gi8R3E9qm24nttEWzdpLNLkm2M8lxEd8UpEZVUaTnf2Lv2tPEH7bX7KcP7RXwv8AgF8E77VdV0XRr7R/CmgfF/8AtIWUl7FHNNaavcJoyHTbi3jlBaNIrhmZHXAwCwB6Z/wg/wDwUL/6Og%2BDP/hh9W/%2Baij/AIQf/goX/wBHQfBn/wAMPq3/AM1FeXeM/wBuzwf4C/ZL8V/HXWv2ZtHu/GnhnxNrfhq38B6Pq8U9rrGraZ573IttRa1QtaxwW1xPLO1urxJbTqYTJH5bHj39unwZ4H8Us1x%2Bzz4YTwpoWn%2BD7jx3rmpeIora804%2BIrr7NafY7P7G4vo43KmV3mtyRvWJZnQx0Aeo/wDCD/8ABQv/AKOg%2BDP/AIYfVv8A5qKP%2BEH/AOChf/R0HwZ/8MPq3/zUVy%2Bl/tKeHbb9sub9knxj8Kfhr5jaTqGqR3Phbxqmp6npNlbiF4rjWdPewg/suKdJl8t/OmVnwoJB3DzpP%2BCkfw/vPhF8RvjJa/sz6Fp%2BjeEPiHo/h7QdW8Ta7FYadf6bqdvYXFtr2oXP2N/7JsTFfLLkpOyxGNnCM7RxgHtv/CD/APBQv/o6D4M/%2BGH1b/5qKoeB/HH7Vng79qzw58Efjd8R/h74m0bxN8PfEOuQzeFfh5faLdWl1pt9oluis9xq98ksbpqkpKhEYNEhDYyDL%2Bzh8W/Cv7S37LqfH7Svhvo%2BhzXH9rR2c2iXqX1pcGyu7i2S%2BsL1YYTdWc/kCeCfy4/NhljbaA2KteOP%2BUhfwv8A%2ByM%2BPP8A07eEKAPZqKKKACuF/aJ/aR%2BEP7Kfw1n%2BL3xx1vUtN8PWsuy7vtN8N3%2BqNbgRvI0kkVjBNIkSpG7PKyiNApLMoruq8K/4KW%2BGfip8Qf2GviX8J/gt8HdZ8b%2BJPGXhDUdB0vSNF1DTbVopbq1ljWeWTUbu2iWFWKhtrtJ8w2o3OAD074vfGP4efAnwVJ8QPibrM9npyXdvaRLZaZc311dXM8qwwW9va2sck9zNJI6qsUSO7E8A15/4o/4KC/skeDfA2gfEjXvihcLpHiSzv7yxmtfC%2Bp3Etta2Mqw39zeww2zS6dBaSusVzLdrCltIwSZo24rB/aItPjR8X/B3gP4m%2BFv2b/FFvq/w%2B%2BIGleKJvBGr6toqXuqwG2urW5tYZItQktRcQJdtKBLPHE8kKqsuDvHgM/7LH7XHgbw3r3jjQf2eJfEOr/FLwh8RNLvvCsfiPTIj4Sute8QTapp5u5JrlYpbcRXLLeNaNcOssQMMdwrbgAfoEjpIgkjcMrDKsDkEetfOXwm8Vft3/HXR9e8d%2BF/jf8JNA0u3%2BIXirQ9L0q/%2BD%2BqX9xFa6Xr1/pkLS3CeIoFlkeOzV2ZYo13OQFAAr2DR/hnrGjfBHTfhHpHxH1XSb3TvD1rpkXijSYLVryJoYkj8%2BNLuGeEsdmcSRyL8x4PWvJP2HNHv9E/ZSvfDmr%2BKL/W54vjT44tL3V9SSBLnUM%2BPNWjkllFtFFEHkBYsI440yxCqowAAdH/wg/8AwUL/AOjoPgz/AOGH1b/5qKP%2BEH/4KF/9HQfBn/ww%2Brf/ADUU/X/2oP8Agn74U1298LeKf2iPg5pup6bdyWuo6dqHi7SoZ7WeNikkUkbyhkdWBVlYAgggjIqp/wANf/8ABOD/AKOi%2BCP/AIW2j/8Ax2uV47Ap2dWH/gcf/kj3ocK8U1IKcMvxDTSaaoV2mnqmmqDTTTTTTaaaabTTLH/CD/8ABQv/AKOg%2BDP/AIYfVv8A5qKP%2BEH/AOChf/R0HwZ/8MPq3/zUU/QP2oP%2BCfvivXbLwt4W/aI%2BDmpanqV3Ha6dp2n%2BLdKmnup5GCRxRxpKWd2YhVVQSSQAMmr37VfxL%2BFX7KH7N/jX9pLxT8Ll1bT/AAV4euNVutN0jRBNcXKxLnYixxsRk4y5G1Fy7lVVmGtKvQrpunNSt2af5Nnn47K8zyucYY3D1KTkrpVITptra6U4QbV9LpNX0vfQzv8AhB/%2BChf/AEdB8Gf/AAw%2Brf8AzUUf8IP/AMFC/wDo6D4M/wDhh9W/%2BaiqGk/tZ/sf6543l%2BGul%2BGtfl8Q23hxde1DRf8AhTWurdafYPHdvFLdRtp4a1aX7DcrFHMEkmeMRxq7uis7TP2nP2YPE0nh3/hFdMsEOs%2BOpvCt7YeJfCWo6PqNjfR6NdauYWsrmwEySm1t1mVbhbeN4ZPMWVmMUc2pwl3/AIQf/goX/wBHQfBn/wAMPq3/AM1FH/CD/wDBQv8A6Og%2BDP8A4YfVv/moqh8FP2v/ANhf9oLRpvEfw28TaX/Z0Xh/T9dS/wDEXhG70WC50u%2BZltb2CTUbaBbm3kdSgliLqHwhIYgVd/aN%2BIjfCvX/AAf8NPhB8APDXi7xn42vbxNK0vWtVXSLGC1s7Vri5uZ7pLO6dAP3MSqsLlpLiPOxA7qAO/4Qf/goX/0dB8Gf/DD6t/8ANRR/wg//AAUL/wCjoPgz/wCGH1b/AOaiue1/9qT4WwfsW%2BGv2v8Awn8FLK8Hi8eHbfRvDuqGCz8i/wBYv7TT4ILu5Eci28cVzeIs0qrJtWOQosh2q3FWv7bi%2BIr6y%2BFngn9mbwFefEpPF3iDQPEWjX3jlbbQtOn0e1t7u52aoNNeSdmgvLR0jNpG3zTeZ5Qgc0Aerf8ACD/8FC/%2BjoPgz/4YfVv/AJqKP%2BEH/wCChf8A0dB8Gf8Aww%2Brf/NRXgWvf8FUPgo%2BufDQeAvgV4WvtL%2BJPg7wp4i0SDXfEsGna1rMOuXjWy22i2AtJl1e4swolu0E8IhSWI7mD5Ha2f7cHgDTvGdxqvxC/Z80PRPhlc674t0Tw946TUkuLu6v/DYvTqIuNPFoot4WXS9UaGRLiZpFs8skfmpQB6R/wg//AAUL/wCjoPgz/wCGH1b/AOaij/hB/wDgoX/0dB8Gf/DD6t/81FZX7Gfxv8P/ALWHhLUfG9z8N/hhY2kD24trLwj47t/EN7ZNIhdrXVEis4o7C8jUxh4EluFDMwEhChm9m8GDZoZgUnZDfXcUQJztRLmRVX6BQAPYUAeXf8IP/wAFC/8Ao6D4M/8Ahh9W/wDmoo/4Qf8A4KF/9HQfBn/ww%2Brf/NRXs1FAHjP/AAg//BQv/o6D4M/%2BGH1b/wCaij/hB/8AgoX/ANHQfBn/AMMPq3/zUV7NRQB4z/wg/wDwUL/6Og%2BDP/hh9W/%2Baij/AIQf/goX/wBHQfBn/wAMPq3/AM1FezUUAeM/8IP/AMFC/wDo6D4M/wDhh9W/%2Baij/hB/%2BChf/R0HwZ/8MPq3/wA1FezUUAeM/wDCD/8ABQv/AKOg%2BDP/AIYfVv8A5qKP%2BEH/AOChf/R0HwZ/8MPq3/zUV7NRQB4z/wAIP/wUL/6Og%2BDP/hh9W/8Amoo/4Qf/AIKF/wDR0HwZ/wDDD6t/81FezUUAeM/8IP8A8FC/%2BjoPgz/4YfVv/moo/wCEH/4KF/8AR0HwZ/8ADD6t/wDNRXs1FAHjP/CD/wDBQv8A6Og%2BDP8A4YfVv/moo/4Qf/goX/0dB8Gf/DD6t/8ANRXs1FAHjP8Awg//AAUL/wCjoPgz/wCGH1b/AOaij/hB/wDgoX/0dB8Gf/DD6t/81FeyTTQ28TTXEqoijLO7YAHuTXKeJ/j98CfBKs/jP41eEtIC/eOp%2BJLW3A%2Bu%2BQVE6lOmrzkl6tL82jow2DxmMnyYelKb7RjKT%2B6MZP8AA4b/AIQf/goX/wBHQfBn/wAMPq3/AM1FH/CD/wDBQv8A6Og%2BDP8A4YfVv/morN8X/wDBUH/gnp4HDHW/2wPAs2z7w0nWk1A/la%2BZmuEl/wCC1X7DGqytb/DDWPGnjmVTtEXhH4falOWb0HmxRg/nXBUznKaTtLEQv25k39ybZ9bhPDbxCx1P2lDKMS4/zOjUjH5yqRpxXzaPTf8AhB/%2BChf/AEdB8Gf/AAw%2Brf8AzUUf8IP/AMFC/wDo6D4M/wDhh9W/%2BaivMR/wVI8Y68M/D7/gml%2B0dqCn/VT6p4Gj0%2BKT3DSTHj3xR/w3T%2B3rq3PhH/gkj4vmB%2B5/bPxG0vTyfrvVsVn/AG3lz%2BFyl6QqP/2w6/8AiGHGUP41OlS/6%2BYrBw/PFM9O/wCEH/4KF/8AR0HwZ/8ADD6t/wDNRVv9lb4jfGnxhrHxQ8CfHTX/AAvq2qeAfiFFodnqvhPw1c6Tb3VrLoOj6mrPb3F7eMsiyajKhYS7SsaHapznyb/hpb/grTrf/IM/4Jm%2BGdEz0/tn4zWVzt%2Bv2eMZrof%2BCdmr/GXXtc%2BPOrftA%2BENI0HxdN8ZoDq2k6DqDXVpb48I%2BGxEElYAvmERs3ozMO1dGGx9LFVHGEZrS95QlFffJLXyPHzvhLH5BhVXxFfDzu%2BXlpYmjWmtG7uNKUrR01le12l1PpOiiiu4%2BXCiiigAooooAKKKKACiiigAooooAKKKKACiiigAooooAKKKKAML4meDtU%2BIPgPU/BejfEHWfCtxqNv5KeIPD8NnJeWYJBZolvbe4tySAVPmQuMMcAHBHkvhL9hqfwZ%2ByWn7Hmk/tb/FddBtfBCeFdK1%2BGfRLbWNNsY0SKJ4Li20uNVmSBBCspQnaS5zLiUe70UAcJ%2Bzl8DY/wBnL4W2Pwj0/wCI%2BteJNM0lUg0Vta03SbQ6dZpFHFFZwx6VZWcCwoEyuYy%2BXbLkBVXxv9oDWP7M/wCCsn7NVlux/aHwu%2BJlvj1xL4Xl/wDaVfT9fG37YernS/8Agsb%2BxlAWwt94Y%2BKFu5/7cNGcD80Fc2Mn7OjzecfxlFfqe5w7h/reZ%2By/6d1n/wCA0K0v/bT7JooorpPDCiiigAooooAKKKKACiiigAooooAK4nxX8IvhP8aINX8LfGL4YeHfFmmW/iCK6g07xNosF/BHOtlCiyrHOjKHCu6hgMgOwzgmu2ryf47/ALVvwC/Y%2B8Naj8S/2i/Hv/CO6JfeK4dMtb3%2By7q733T6ekqx7LWKRxlIZTuKhflxnJAOOInh6dCUq7SglrzWtbzvpb1GsfLKn9bjWdJ09edScHHpdSUouO%2B6kt99RP8Ahgf9hX/oyz4S/wDhudM/%2BMUf8MD/ALCv/Rlnwl/8Nzpn/wAYryT/AIfm/wDBLL/o6L/yydc/%2BQqP%2BH5v/BLL/o6L/wAsnXP/AJCrxfr3Cv8Az8of%2BU/8jT/iKWJ/6Hs//Cyr/wDNB9JfDT4RfCf4L6FL4W%2BDvww8O%2BE9MuLtrqfTvDWiwWEEk7KqNK0cCKpcqiKWIyQijOAK8V/aV/YX8V/Hjxd8StT8P/GfTdC0f4q/C%2Bw8IeJdOvfCEl9cQtZS6nJbXdtOt7CqDOpyCSJ4pN4iTa8ZLE%2Bk/s0ftW/AL9sHwJd/Ev8AZ08e/wDCRaJY6vJpl1e/2XdWmy6SKKVo9l1FG5wk0R3BSvzYzkEDH%2BJX7Zfww%2BFfizxL4F8S6Drz6x4cl8MRx6fa2sDSat/b9%2B%2Bnae1pumUODdxTROXMezyXY/IAx9rDzw9ShGVBpwa05bWt5W0t6Gbx8s1f1uVZ1XU153Jzcul3Jyk5bbuT230PKv2vv%2BCY8v7Vnx6t/jLc/FLw7ZxQy%2BGJrePX/h2msalo8mj6sdQI0m9e7jGmpd5EVxthd3CghxgKNjw7/wAE7F0HXdV1s/F8Tf2noPxM03y/%2BEe2%2BV/wl3iKHWd%2BftBz9k8ryNvHn7t%2BYsbDzXx6/wCCsfw78HeG/j34G%2BGmlW8fxL%2BEfwl8W%2BL9J0zW9a0nULTUDosPzmaHS9SmurZPOltcw3S2kzpMdgyknl95q37eGg%2BH/iP4k%2BFOm/DrxX418S6f8QLnw/pfhnwno1nBdGG20TTNUurky3moJDLDEuowgys0Ds88cKQOyiSXYR6p8Gfh94j%2BFngTSPh3qfimy1Sw0Hw/p2mabJBpL20x%2Bz2ywySSsZ5FfeyBlVVTYDtJk%2B9Xjnwd/YV8c/B/xrZ%2BILL46aZqGmeCtC8Rab8ItGuvBjqNCGrXcVyzahIt8DqYtxBFbxLGLM%2BR5gdnkYTL2X7EH7SOqftPfsy/Dz4u%2BLNHNnrni3wDpviLUYrHRLy3sIzdITsikmDKGBVswmRpUBUuAGUnzvwT%2B2N8bNe%2BPOgy6tpvhYfDbxj8YvEnw20HT7fTbldas7/R7TVJX1Ge6a5MMsMs%2BiX8Qt1t0ZFlt3Mr/OoANzxR%2Bw34g8R/HS/8br8ZLaDwP4g%2BIWiePPFPgz/hGC13eeINKtLO3tZIb/7UFt7UnTdNmeA28jtJakiZRK4q/wDCX9nD9pf4b/Gz4t/FzVP2gvAupQ/EbZcaNplv8Lr23bRry3tYrSykmlOtSC8iSGIebEqW7SuSySQD5K5T9pr9sb42/Cv4p%2BMX%2BHmmeFm8G/CbRfDep%2BO7bWdNuZtR1iPVL64imjsZo7mOO0a2tbfzw0kVwJ5JRFiEKZDz3wl/by%2BPHxD/AGy7z9n%2B%2B0nw5baZP4i8W6PY2k3g/U7YWg0lylrdR63JcGw1qScBXmsLONbi0EkiykG1lyAdP8Hv%2BCdH2T4MaP8ACf8Aak%2BKg8YXHhbxrq3iTwjr3w5bXfA1zp1xqMt5LOGey1qWWU/6fdRA%2Baq%2BVJtKMdzty/hP/gmb8Zvhl8NfgH8G/h7%2B1NoN54V%2BBnhGxs49C8eeAtR1uHW9dt1RU1lz/bkLxiHa5tbNmlgtC4MYPkW3kaPhv9sD9pcfs63M3ib/AIQW7%2BJVx8dp/hvpOp6f4fvLfREYaqbX7dLaPeyTuI7ZJZTELlfNeNUDxB9yZXxQ/bY/aX8FfsoeIvjVHqvhS28RfDfxR4i8P%2BLrKy%2BEuua7aa7dWDu1rLALG/V9FtpoY1eW4u2uILVpwHkKx75QD13Wv2d/jxqP7b2k/tRWXxv8IweFtL8JXXh0eDZfh5dSahJa3MtpcTP/AGkNVWMS/aLRCp%2BxlVjZkKs2JRyvhX9g7xp4j174wWH7T/xd8P8AjDwj8W/Fmn%2BI59D8IeGNV8L3%2BmX1jbaVbWhj1GDWpZSqJpFrIfLWJmlLtuCHyqw9b/bd%2BO0XxI1LxTp3h/wlb/D7wj8TfBfgDxZo0sE11q1zqfiGDRnW7tb%2BK5W3WC3k8Q6apQ28hmWO4YSR/IDF%2Byr%2B3N8QP2t9c14eCfid4J0qTVtK1qf4d%2BFdW%2BG%2BtJMEs79bRL6TVJLuK11ZEyjXNtZRo1tJcxwtPlC7gD/Bv/BMTV/gva2WrfAf9om/t9f0v4pa74v064%2BIkWq%2BKrEpqdvPbvazQXeqrM8scU5xdJcxu772dW81wcrUv%2BCSNja%2BArf4b%2BCPjTZ2NjrPwq0r4f8AxDvtT8Frd3upaVY3l5eRPpsiXUSaTN5moXgVjHcIgNttQG2Rj2fwu%2BN/7U3xQ8H/ABH0e1%2BKnwqsb/4c/EB9HuvidP4JvzoGoWUGnQXN6UsTqyvHNbXMslpK/wBueJXtpc4dHhTEtP2vv2ndc%2BCHwA%2BPVjpPg3TNP%2BIHi/TNH8Z6Zf6DfSTX1vfXfkW99prm6i%2BxxyRD7Uq3Ec7bJo0IyGYgG7p3/BP2%2B0P49RfEfw78U9KsvC9l8TtT%2BImneHovBv8AxMV8RX2lXGnTvNqP2vEtoRdTTeSLdJSxRDOYl8s19d/Yu/af163%2BIvj62/a68OeH/ib428F6V4V0nxd4S%2BFstnZaHp9nd3M7SCyl1WaW4u2W8uY0mN0iwZjZI8q4l6P4tfGb9oL4UftQeAfBh8QeB9Z8L/ELxRJpen%2BDrTw7eR6/Z2UOmy3Fzqr3xvWheGGaNFdDaRqFuYV87zHRZPJdc/4KjeL/AA7qXxv%2BJd54L0GT4beB/hbYeKvhrdtLLDdeIBNfalYfarics0cdlPcWStA6RE/ZmW4LOJljjAOs8Uf8Ev8AwH8Uf2ZNN%2BBHxR8R29jq3hrwprXh/wAG%2BIPhfPr3ha20y01GGOOUTWkGtSvqBZ4Y5JRc3EgnYNuALyFpfiJ/wTW0D4kH4c%2BEvEGu%2BEr3wt4C0rSLR7zXPAsuqeLbr7DcrcNFDr93fySWttcGOJJYjDLIYzMqzKZAySeEv2kPi/4t/Zs8XfEyH9qT4bWWreAtRuLvxlqer/ArX9Oi0fTYdOW6kgn0m/1iC8jm2sJ0umlWOSFl2w8%2BZVLR/wBoz9tfSPh7%2BzP46%2BKFl4A066%2BJ2qadp3xN8PReF75Li0ub3T7m8VLN21BltTB5KxyCUXO9t20qMGgDqviV%2Bxf4v/aJ%2BJh1X9pz4raJr3gmz07xDpukeFPDHhS70W9ksdWtns5ba%2B1JdSle4VbVyv8Ao8drulWOY4aNAvF2f/BKvRvA2peMfEvwe%2BPPiWx1TXviF4e8WaCPGus6z4os7CXSbO3t47e6h1DVGe%2BR2heTessEqZgVXxaxYpap/wAFFvFXhT9s6L4H%2BNte8FWGmXfxRXwbbeA2025HiZLWTSTeQeImnNz5RsJLgCAL9lCASD/STKpgPbfsk/thfEL9pH9pP4keDr3wzpFn4B03wX4X8S/DLUIIZhqGqafqV7r9m13clpDGYpjoqXFsERT9nuULksxVADsfgr8Brv8AZ3/Z98Q%2BDdX8YQ67qmq6nr/iDWtRs9K%2BwWr3uo3VxezrbWvmy/Z4VeZgqGSRsDc7u7Mxp%2BOP%2BUhfwv8A%2ByM%2BPP8A07eEK9S8c/8AIk6x/wBgq4/9FtXlvjj/AJSF/C//ALIz48/9O3hCgD2aiiigAooooAKKKKACvBf2P/8Ak3rV/wDsvfjn/wBWBqte9V4L%2Bx//AMm9av8A9l78c/8AqwNVoA6zX/2Jv2MvFeu3vinxT%2ByP8MdS1PUruS61HUdQ8A6dNPdTyMXklkkeEs7sxLMzEkkkk5NVP%2BGB/wBhX/oyz4S/%2BG50z/4xXnfj/wD4LKf8E3Phf471v4aeOv2jvsOt%2BHdXudM1iy/4RDWJfs91bytFLHvjtGR9row3KxU4yCRzWR/w/N/4JZf9HRf%2BWTrn/wAhV4M8bwwptSnRvd3v7O9%2Bt9N73uaf8RNxND90s8nHl0t9bqq1tLW%2BsK1rWtZWtaytZezaB%2BxN%2Bxl4U12y8U%2BFv2R/hjpup6bdx3Wnajp/gHToZ7WeNg8csciQhkdWAZWUgggEHIrW/aa%2BCdl%2B0n%2Bzp47/AGe9Q1%2BXSYfG/hHUNDfVYIBK9n9qt3hEwQkByhcNtJAbbjIzmvGvAP8AwWU/4JufFDx3ovw08C/tHfbtb8RavbaZo9l/wiGsRfaLq4lWKKPfJaKibndRuZgozkkDmvcfjr8YfDn7Pvwe8R/G/wAZaZqN1o3hXSpdT1lNKhSSeKziG6eYK7oGWOMPKwznbG20M2FPoYGtltaEng5QaT15OW1/PlS1t3JlxJU4k/ezxrxPJpd1ZVeW%2BtryqVLX3smr726nkfiL9ib4heP9B%2BLsvj34%2B2sXiT4t/DvTfDN9rXhPwrNpsOmyWY1ELcxRSX08jI4vwGiMwOImxIPMGzhvgj/wSmi%2BEXiKHxND8SfCFht%2BLg8cvoPgL4Xx6BpEDDwjeeHDZ21ql5KYQ32oXbSs8jM6MpHzh09F%2BM//AAUQ%2BDvwW0vxdrmqeG9T1Cx8FeLbPw3rGojxBoOlWj39xpsWohIbjV9Ss4ZNkE8AYB9%2B%2BYKivskKcja/8FHdJ8U%2BPo7/AME3FpceAtc8GfCTXfCOqxaFJPeXX/CYeINW00rMj3cKxxiKzsyrAF4GkmdkucLBXcSdX8Df2KPEPwCj8CXfhH4uWVzf%2BBvgbpXw6t5dQ8Lu0N39jkgY3zRpdqy71hYCEOdhcHzG27W6z9o34BeOPip4g8H/ABM%2BD/xP07wj4z8E3t4%2BlaprXhp9XsZ7W8tWt7m2ntUurV3B/cyqyzIVkt4870Lo3mHg3/go0fiZ%2B0V4P8EeEPg/4msvAPiPwV4s1%2B08WapoSzt4hh0m406GOfS47K5mnMb/AGqVvKnt0nmDQNChBOfSf2pPjR8QPh7o3gXwt8HE0iHxR8SfG9v4d0LUPE%2Blz3FlpubK81Ce5ntY5reWbba2FwFiEsRMjICyjNAFPw7%2ByxrHgL9l21/ZW8GeKfC%2BoaHpngew0Kx/4TvwS2sR3k8e4XdzqEC3kEd3HcJtzAgh2OZG3urqied2f/BNeLw3%2Bzy/wX8I3vwke81bxlN4k8Rz%2BJvgfDqOjJdvAlvEdM0kX8UenG3ghtooC8lxtSD5xKzs56HSv2uvim/7BPjX9o9/h3Zax448C/8ACV6ZfaJo8NwLPUNT0PUr7TZZoYwZJ1t5ZLIziIGSVY32Zdxk8n8Ef2zPiP8AHrwf8TNH8FftNfCC6v8A4YahZXeofFLS/A17feGdR0efTzdM0dsmsqySwyJPG8i3s0Y8g5UOzRxADNa/4JZrZaPafDH4YfG%2BPSfAc/gnwl4W8Q6RrXhb%2B0dUks/D9zJPbSWN%2BLqFbGaUysZHeC4Ak/exrG5JO0n/AATfg1rxXeaF8QfizFq/wyi1rxfrPh7wTB4dNve2eoeJFvV1F59Q%2B0utxEq6pqiwRrbxGNbwBnk8pK8tn/4KTfH3Rfhf8JNN%2BKPiLwV4H8ZeM/hbd/EDxjrl18K9d1mw0fTPPhFtE2mWN8Z7QLFcq11dz3fkWzQENu85NnV%2BLv8Ago74m8F/tep8Jde8SeB7fQ5/iZovhDS/Bh0%2B5fxHq9nqWnW00PiS3uRc%2BT/Z4vLoWxAtnT9xIDciUiAAHp/7Jf7H3if9nnxXqHjfx18U9J8SajL4G0DwdpaaB4O/sS2t9I0hrxrUzRfarjz7pjfS75VaOIKqLHDEN272Hwf/AMgmb/sK33/pXLWpWX4P/wCQTN/2Fb7/ANK5aANSiiigAooooAKK86%2BMP7XX7L37P8Ur/Gf4/eE/DssQy1lqOtwrdN7LAGMrn2VSa8Mm/wCCuHgn4kytp37HH7MfxR%2BMEzMVg1XRfDUmn6PuHGJL27CeXz3MZHWuDEZpl2GnyVKq5v5V70v/AAGPNL8EfW5TwHxjnmH%2Bs4TA1HR/5%2BySpUl61azpUv8Ayd%2BSZ9cUV8jR3H/BZv41t9sisPhJ8E9MkHyWl1JN4i1eLP8AeZMWrY9sc0//AId8/teePR/xfb/gqv8AEy8WT/Ww/D7RbLw1tH91XgEh9s4zWH9pYip/Bw1SXnLlgv8AyaV//Jfkeo%2BCcowemZ55hKTW8abrYqS8v3FJU2/Ss1/eZ9X6nqumaJYyaprOpQWltCu6W4upljjQepZiAK8Z%2BIv/AAUj/YL%2BFUj2/jT9rLwRHPFnzbWw1yO%2BmQ%2BjR23mOD7EZrz3Tf8AgjD%2BxHd30er/ABZ07xn8R76JtyXnj3x3f3jFv7xWOSNG/FSPavZvhz%2Bxx%2Byb8I40T4a/s2eB9GePGLmy8MWqznHdpdm9j7ljRz55V2hTp%2BspTf3RUV%2BIfVvC3A/xMTjMU/8Ap3So4eP/AIFWqV6lv%2B3E/I8Tl/4LPfsj%2BIHa3%2BB3hT4nfE%2BfJWODwF8OL64aQ%2Bg89YQaQftzft6%2BO/n%2BDP8AwSm8V/Zn%2B5e%2BPvHOn6G0Y9Wt3DufoDmvrWONIkEUSBVUYVVGAB6UtH1PNKn8TFW/wQivxk5sP9ZOBsH/ALnkSm%2B%2BJxVep/5LRjhofifJX9u/8FrvHvy6d4F%2BAXgG2f77atqep6pdxj/Z8gCIn68Uo/ZO/wCCo3i7/SPG3/BUi00RH%2B/pvhH4RafsX/dnnfzPzFfWlFH9kUpfxa1WXrUkvwgoC/4iJjaGmBy7BUP8OEpTf/gWIliH87JnyWf%2BCaXxr8Qf8lB/4KkfHm53ff8A%2BEc1q20jP08qJsUf8OefgdqXPjf9o747eJmP32174p3Mhf6%2BWqV9aUUf2HlT%2BKnzf4pTl%2Bc3%2BQf8RT49h/Bxvsv%2BvdLD0v8A03hov/yY%2BTYf%2BCI3/BOOeVbjxN8HNX12VTkS6z451aU59SFuVB/Kur8M/wDBJz/gnJ4ScPpX7IvhOUr0/tOCS9H5XDvmvoeirhkuT03eOHhf/BH9UznxPib4j4uHJWznFOPb6xVS%2B6M4pfJI4Pwh%2Byx%2BzF8PireA/wBnPwJopT7raT4Rsrcj3zHEDXdRQxW8SwQRKiIMKiLgAegFOorvp0qVFWpxUV5JL8kj5LF5hj8wqc%2BLrTqS7znOb%2B%2BcpP8AEKKKK0OQK8Z/Zf8A%2BS3/ALR3/ZZrH/1CvC9ezV4z%2By//AMlv/aO/7LNY/wDqFeF6APZqKKKACiiigAooooAKKKKACiiigAooooAKKKKACiiigAooooAKKKKACiuc%2BLviP4geEfhvq3iX4WeCdN8R6/Z24k0/RtX15tMtrk7l3eZdJb3DRKqbmyIZCduAvNebR/tmWKfsF%2BHf227z4ez%2BZ4m8DaJreneEbbUVd3vtVitvsmni4ZFU7ri6ih84ooGd5UD5aAPbK%2BE/%2BCjOp/2J/wAFZ/2INT3Yzc%2BObXP/AF2i0WLH/j1fUH7N3x38UfGF/GPhH4k/D6x8L%2BL/AAD4nXRfEmk6Tr76pZF5bC01CCe2upLa2eaJ7e9hyXgjZZFlTaQgZvj7/grtqR0X/gpH%2Bw5qgOB/wnWr2xPoJr/w9F/7NXm5vLky%2Bcuzj/6XTPtfDuh9a4ww9H%2BeNdffhcX/AJH6G0UUV6R8UFFFFABRRRQAUUUUAFFFFABRRRQAVleH/wDkLa5/2FE/9JLetWs%2B98MaRf3b38guYpZABI9rfzQb8DALCN1DEDjJ5xQBoUVl/wDCH6T/AM/eq/8Ag8u//jtH/CH6T/z96r/4PLv/AOO0AaleU/FX9jz4VfGD9o34e/tOeKL/AFmLXPhyLz%2Bz9PsbuNLDVDNGViN9E0bNP9mZpJYNrp5ckjN83GPQv%2BEP0n/n71X/AMHl3/8AHaP%2BEP0n/n71X/weXf8A8doA%2BatQ/wCCSXwQ1jS/EPhnWPjR8SbnQ9b%2BHvjPwZp2hPqWmrbaDpfieaKbUvsmyxEjzCSFDHNcvcMvIcyDAHa%2BKv2CfAOs%2BPtV%2BLPhL4seN/CXizVPGdz4iPiLw7d2BntmudJsNKubKNLqzmiNrLBpto7K8byLLGHSRCFC%2Bwf8IfpP/P3qv/g8u/8A47R/wh%2Bk/wDP3qv/AIPLv/47QByf7OX7PHh/9mL4V%2BFvgr4D8a%2BIL7w34Q8J2Wg6RY63NbTN5dsGVbmSVIEkkndSquS3lkRqVRWLM3L6B%2Bw98OvDvxzX41Wfj3xXJb2niTUfEmieCprq0OjaRrt/ayWt5qluothc%2BfLFcXYKSTvCrXlwyxK0hNeqf8IfpP8Az96r/wCDy7/%2BO0f8IfpP/P3qv/g8u/8A47QB5D8SP2D/AAJ8VfGln418W/FnxqzzaVomn%2BN9Ptp9PitfGsek3b3dkdSRbPKlZ5Zmf7GbVZVlaKQNEFjVfBP7Bvw/8C/FO2%2BI%2BnfFPxrc2OkeJte8R%2BFfB97dWLaXoGsaw101/e2220W5d3N9fbUuJ5ooxdyBI1GwL67/AMIfpP8Az96r/wCDy7/%2BO0f8IfpP/P3qv/g8u/8A47QB4R4P/wCCc%2BheG/hl4n%2BGmv8A7UPxP8Sf8JB43h8YWGu6wugQ33h/XY777cb6yay0q3i3PcBGeK4jnhKp5fliN5EfTuf2E7SL4Tj4P%2BF/2oPidoVhqE2rz%2BMr7TJdFa88VXGpztPdz3ks%2BmyeTIzSSBDZC1ESPsjCKkYT2T/hD9J/5%2B9V/wDB5d//AB2j/hD9J/5%2B9V/8Hl3/APHaAPHW/wCCe/wZtviPp/jDQPE/ifStAs9R0TU7z4eWN5bf2JqepaPBFBpl9cCS3e6MtvHbWYAjuEjc2NsZEcxgmha/8E6PAelXWqzeGvjt8R9IjfQ9f0zwXBpeoadCPA6azOs99NpTCx3iUyIpia6a58gDbEEXK17j/wAIfpP/AD96r/4PLv8A%2BO0f8IfpP/P3qv8A4PLv/wCO0AfPupf8E0fDeq/sq6f%2Bx7c/tR/ExPCWmapY3FqLay8MwyPaWvK6ZNHHowt7mzkkCyzJNDI8zKRI7I8iP03xt/Yw1745%2BCfBPhDXf2w/ihpdx4J1yLWY9d0ax8Mrd6tfQzLLazXSzaNJAPIKkIkEUKMHPmLIdpHrn/CH6T/z96r/AODy7/8AjtH/AAh%2Bk/8AP3qv/g8u/wD47QB5Vpv7GY0v9qrVv2sIP2k/iDLqWtWFnp974bu4NCn0xdPt48CyhMmmNd20Ekpe4kWG4QyTOWJwqKvNQ/8ABJz9gfSfFPjDxR4J/Zy8LeFW8bfD1fB2q2fg/wANafpUUFl5txK01uba3SSK5dp13SB%2BfstthQYgT71/wh%2Bk/wDP3qv/AIPLv/47R/wh%2Bk/8/eq/%2BDy7/wDjtAHj0v7A3w/134X%2BOfhv8Rviv428Vz/EvUbCfxx4l1q40%2BO%2B1W1tPs6LpzJaWcNrHaPBAbeRI4EZ47ic7xI/mDa/ae/ZRuv2mNW8Hasn7R3j3wK3gnXhrWmw%2BDLfRHS4vljeKOab%2B09NvCdkcsyhUKIfNJZWIQr6P/wh%2Bk/8/eq/%2BDy7/wDjtH/CH6T/AM/eq/8Ag8u//jtAHB%2BK/wBlvR/iF8ZbH4q/En4peKfEOlaNetfeH/h9qaacND0y8ayeya5VYrNLq4YxTXBCXNxNGr3DsqKVj8vI%2BB3/AAT7/ZC/Zp%2BO/iD9oX4A/Ajwr4N1rxF4Q07w5dWvhfwvp%2BnWsFpaXV5cl4ltoEdZJ3u0E5LlZFsbMbQYQT6n/wAIfpP/AD96r/4PLv8A%2BO0f8IfpP/P3qv8A4PLv/wCO0AJ45/5EnWP%2BwXcf%2Bi2ry7xx/wApC/hf/wBkZ8ef%2BnbwhXqJ8GaG%2BFna%2BmTIJiuNWuZEb2ZWkKsPYgivLvHH/KQv4X/9kZ8ef%2BnbwhQB7NRRRQAVzvxX%2BK/gH4I%2BAr34mfE3XG0/R7B4I5porOa5lklmmSCCCKCBHlnmlmljijijRpJJJERFZmAPRV5B%2B2v8N/H3xD%2BE%2BkX3wy8MtruseE/H/h3xPD4dS7hgfVotP1O3uJ7aOSd0iWYwpIYvNdIzKsYd0Ul1ANuy/at%2BAl98C7r9pFPHTQ%2BELGSeG%2BvbzSLu3uba5huTaSWkllLEt0l0LlTB9laITGXEYQuQpxrv9uf9myy8DWPj2TxN4gkj1HxBLodpoVt4B1qbXW1KKB7iW1bR47M6gkiQI07BrcbYtshwjKx8s8K/Anx34n/Z2%2BKHh74yfs/eM7a78d%2BN7zxxp%2BgeHNf0ZdS0u4S/gk063hna9%2BzLqURsLW9JZzaCWTZ50oDZ8gb9iP8AaKbSj8TviR8N/ib4wTxP8dLzxl4g8P6d8QtL0jx1Y2//AAiltoNpIup6deWFnA7NZ75obG6hTyLiOINKscqSgH3r8OviH4K%2BLfgLR/if8OPEUGraBr%2Bmw3%2BkalbZ2XNvKgdHAYAjIIyCAQcggEEV49%2Bx/wD8m9av/wBl68c/%2BrA1Wtf9ln4MfFLwL%2BxB4I%2BBfjTxRL4S8UaT4NtNNuNQ8Kw2Dy6S0aBUSIS20lpJJGgVGbyGjdgzKuCKyf8Agnv4aktP2Y9R8K%2BI/EN7r8lv8WviFBdatqiQJc3zp401oGeQW0cUSyMRuPlRxqGPyqowAAe9UVlf8IfpP/P3qn/g8u//AI7S/wDCH6T/AM/eq/8Ag8u//jtAGpVTXtC0fxRod74Z8RabFeafqNpJa31ncJujnhkUo8bDurKSCPQ1W/4Q/Sf%2BfvVf/B5d/wDx2j/hD9J/5%2B9V/wDB5d//AB2gD5%2B8E/8ABMH4UfDT4R%2BA/hh8PPjV8R9K1D4fa3qeqaX45XU9PudbvJb9JoroXUlzZSQSbopvKV1hSWNIYhG6bSTY8Df8ExPgH8P/AA14e8K6J4t8YSW3hrw18PNDsGu9Stnke28G6rd6ppbSN9nG6SWe8lW4bgOioIxCwLt7z/wh%2Bk/8/eq/%2BDy7/wDjtH/CH6T/AM/eq/8Ag8u//jtAHiHw2/4J3eBfhT8RNL%2BIHhL46/ERV8L%2BG9d0LwHoVxeabJYeFrPVZraaZLRDY75TE9pB5JunuNipsO5Plr0j45/APRPjv4N0vw5q/jTXdE1TQNatdY8PeLNAe1XUdM1CAMq3MQnglt2LRyTROkkLxvHNIpTB46f/AIQ/Sf8An71X/wAHl3/8do/4Q/Sf%2BfvVf/B5d/8Ax2gDi/ht%2BzbYfCL4YQ/Cv4e/FXxVYWqadq63Gok2E15dapqV015ca1I8toym9%2B0y3EwAUWxe5k3QOBGE5m5/YV8Aa78FfiD8HfHfxP8AGXiOb4qtt8f%2BLtUubGPVNWt/IitjaH7NaRW0FubWL7P5cMEY2SysMSyPKfWv%2BEP0n/n71X/weXf/AMdo/wCEP0n/AJ%2B9V/8AB5d//HaAPNv2i/2OvBv7RN9bavL8RfFXg6%2Bj8M6h4b1C%2B8GzWUUmo6LemE3Ony/arWcLGzQRlZYhHPEQ3lypvfdNffsk%2BGtV%2BIvhvxXrHxO8V3XhrwdcWt14V%2BGrtYJoem3dtam2guBstFvJmjUs6pNcyRLKRIIwyRlPQ/8AhD9J/wCfvVf/AAeXf/x2j/hD9J/5%2B9V/8Hl3/wDHaANSsrwf/wAgmb/sKX3/AKVy1wfx7%2BOP7Mv7L3hoeLPj98ZovDFm6k266h4mu/PucdRDAkhlmI9EVjXhWn/t5ftO/tA2sei/8E9/2K9Tn0Vhi3%2BIvxYd9G0cqeRNDBn7TeISc7kIbOcrXBiczwWFqezlK8/5Ypyl/wCAxu16vlXmfW5LwPxLnuE%2Bu0aKp4ZOzr1pRo0E1uva1XGMmv5aaqy/un2NXin7QH/BRL9jX9mad9I%2BKXx00hdZV/LTw3o7nUNSeQnCx/ZrcO6EngFwoz3ryz/h3n%2B07%2B0D/pf7c37dnibVLGXmbwL8LoxoOkBe8Msqgz3cf%2B/tbpzxXtfwA/Yk/ZP/AGXLdE%2BBXwI8P6Dcom06rHZ%2BffuPRrqYvMw9i%2BOTXP7fN8T/AAqSpLvN3l/4BB2/8Cmet/ZXh3kmuPx1THVF9jCx9nSv2eJxEeZrzpYb0ezPFB%2B17/wUK/aV/c/sifsVr4K0Sb/U%2BOPjldNZblP8SaZbkznj5lcllPGRTk/4Jq/Gf41t/aX7bv7ePj7xcsnL%2BFfA8i%2BHNGUH/lm8dvl7gDoHYq3rX15RR/ZEK2uLqSq%2BTfLH/wAAhyr73IH4h4rLfd4ewdDArpOEFVr/ADxGIVWon/17hR8rHhnwf/4JofsG/AuSK7%2BHv7L/AIWW8hbdFqWsWZ1K6Rv7yzXhldT7qRXuMUUUESwQRqiIoVERcBQOgA7CnUV6GHwuGwsOShBQXZJL8kj5HNs9zvP8R7fM8VUrz/mqVJ1H8nOUrfJJeQUUUVueUFFFFABRRRQAUUUUAFFY3iL4j/DzwgGPizx5o2l7fvf2jqkMGPrvYVyn/DXn7Jxu208ftQfDvz1PzQf8JrYbx9R5uayniMPTdpzS9Wl%2BbRhPFYWk7TqRT85RX5yR6JRXGQ/tG/s9XEYlg%2BO/gx1PRk8UWhB/KSo739pn9m/TU8zUf2gvBFuv96bxXZoP1kpfWcNb44/%2BBL/MX1vCJX9pH/wKP/yR29FeS69%2B3v8AsPeGULa3%2B2B8MoSP%2BWY8cWDv/wB8LKWP5VwviL/gsF/wTV8L7v7S/a08Py7ev9nW13efl5EL5/CuepmeWUvjrwX/AG/H/wCSOWrnOT0P4mJpr1nD/wCSPpSivkr/AIfj/wDBMv8A1jfH%2B%2BWI/cnPgbWdjj1B%2ByZx%2BFH/AA/L/wCCXz8Wv7SM07f3IfBGtE/rZisP7dyT/oJp/wDgcf8AM5v9ZeHf%2Bgyl/wCBx/zPrWvGf2X/APkt/wC0d/2Wax/9QrwvXmH/AA/G/wCCZ8fN58etQt1/vz%2BBdZA/S0NdF/wTr%2BOfws/aU1v48/Gv4K%2BKP7a8M618ZoP7M1P7FPbed5PhDw3BJ%2B7nRJFxLFIvzKM7cjIIJ6MNmWXYybhQrRm1rZSTdu9kdWEzfKsfUdPDV4Tkle0ZJu3ey1sfSdFFFdp6IUUUUAFFFFABRRRQAUUUUAFFFFABRRRQAUUUUAFFFFABRRRQBgfFHRPHniX4faroHwy8U6Romu3lqYrDVde0KXU7S3JIDNJbRXNq8o2bgAJo8Eg5IBU%2BHeCf2H/ihafsO6P%2BxT8Tfj3oWqW/hzwVpmi6D4n8O%2BA5tNuLa70xrdtNv2in1G6R2ia1gd48hZHUkGNTsH0hRQB5l%2Bzd8B/FPwefxj4u%2BJXxBsfFHi/x94nXWvEmraToD6XYq8VhaafBBbWslzcvDElvZQ5DzyM0jSvkBwq/CP8AwWP%2BEfwo%2BG/7a37PPxo8E/DHw9o2uXOvXuqeJdc0rRYLe71R4dd8LJG9zNGgecr5z4LliN5x1Nfp3X5y/wDBer/QdR8D%2BLOn9g%2BBdc1Dd/d2%2BKvA6Z/8iV5Oe/8AImrvtFv7nF/ofoHhTr4k5VD%2BetGH/gyNWn/7kP0aooor1j8/CiiigAooooAKKKKACiiigAooooAKKKKACiiigAooooAKKKKACiiigAooooAKKKKACiiigAooooAKKKKACiiigAooooAK8Z8cf8pC/hf/ANkZ8ef%2BnbwhXs1eM%2BOP%2BUhfwv8A%2ByM%2BPP8A07eEKAPZqKKKACiiigAooooAK8Z/YP8A%2BSIa5/2Wb4j/APqa63Xs1eM/sH/8kQ1z/ss3xH/9TXW6APZqKKKACiiigAooooAKKKKACioNV1XS9C0y41rW9St7OztIWmuru6mWOKGNRlndmICqACSScACvj/xX%2B3B8dv2yfFN58Hf%2BCZWiWx0mzuTbeJPjr4isydG01h9%2BPT4mH%2BnzjscGMcEgowkHHi8dQwaSldyl8MUryl6L827RXVo%2Bl4d4UzbiWVSdDlp0KVnVrVHyUaSeznNp6v7MIqdWb0hTk9V73%2B0t%2B2B%2Bzv8AsjeGI/E3x2%2BI9ppJuvl0zSowZ7/UXzgJb20YMkpyQMgbVJG4qOa8EHxV/wCClH7bp8n4GeAE/Z9%2BH9z08ZeO7FbvxLfQn%2BK207Oy1yD/AMtTnoyP2r0X9mb/AIJyfBT4AeKX%2BMPjDUdT%2BI/xOu8NqPxG8bzfa77fjpbK2UtEGSFWP5gp2l2AFdd8av24f2Qv2dmkt/jN%2B0X4U0O6i%2B/pk2rJLej/ALdot0x/BK86rHFVoe0x1VUKf8sZJP8A7eqO33Qt/iZ7uJ4i4F4Kp3yylHF1474nFRSoxfejhZSUXbpPFSqSe/sI7HF/AH/gmP8AszfBTxP/AMLS8U6dqXxH8fysJLrx78Rr06pfmQchohJ%2B7gwSdpRQwBwWNfRFfJDf8Fj/ANn7xeTD%2Bzn8FPi/8VnY4gm8EfDq6a3Y%2BrSXPlbF9WwcelJ/w01/wVX%2BK3y/CH/gn14c8D2sn/Hvq/xT8epJuHq9nZDzo8ehJpYbH5Lhafs8GuZf9O4Sld93JKzfm5v1PzrO/EKvxPi/rONxVTF1ErLljOoorpGCjGNKEV0jDkguiPriivkcfs6f8Fa/id8/xM/b88G%2BA4X/ANfp3w0%2BHaXYI/urcX7CRP8AeAzQ/wDwSP8AC3jpcftH/tkfHL4jQyf8fWjat47e10yYd1%2BzW6KVB74eun69j6n8LCy9ZyhD8Lzl%2BFzx/wC0szq/wMFL1nOEPwvOX4XPUfjT/wAFEP2If2erp9O%2BLX7TPhXTr2IkTabbX/227iI/vwWwklX8VFeYL/wWb/ZX14%2BZ8Jvh18WvHtv1F34P%2BGd7NGR65mERx%2BFexfBL9h/9kT9nO3SL4Mfs7%2BFtEmjUKNQj0tZrxgOga5m3zN%2BLmvVKXss7q6yqwh5Rg5fjKUV/5KHseIq2sq1On5RhKb/8CnKKf/gKPko/8FadJu/3Wgf8E%2Bv2oNQmbiNIvhKyqT7s1wMD3oH/AAUK/a41k/afBn/BKD4oz2vUvrmt2Gmy4/65yFj%2BGa%2BtaKf1LMpfFi38qdNfnzB/Z%2Bby%2BPGv/t2lSX58x8lf8N//ALZifJN/wSb%2BIwfsE8U6cy/nR/w3V%2B3ve/u9E/4JH%2BL5JD90X/xH0u2X8WZTivrWij6hjv8AoLn/AOA0/wD5EP7MzJ746f8A4BS/%2BQZ8lf8ADTH/AAVq8Rfu9E/4JleGvDxb7s3iD4y2V0q%2B5W2jB/Kj7R/wW/8AFPzQ6d%2Bzb4Vgb%2BG4m1q%2BuU/FcRmvrWij%2BzKsvjxNV%2Bkox/8ASYB/Y9aX8TGVn6SjH/0mmj5J/wCFCf8ABYHxJ/yGv2/Ph94a3df%2BEd%2BFkd5s%2Bn2pxn8aX/hg79urXv8Akfv%2BCtvja43ff/4R3wDpmlZ%2BnllsV9a0Uf2NhH8cqkvWpU/SSQf2BgZfHOrL1rVfyUor8D5K/wCHU1/rfzeP/wDgo1%2B0tq2fv28HxJFpbv8AWOOD%2BtH/AA5Z/Yy1X/kf9R%2BI3izP3/8AhIviPqEm/wCvlyJX1rRR/YeUv4qKfq5S/wDSpMP9W8ifxUFL/E5S/wDSpy/I%2BY/D3/BGn/gmb4Y2nTv2UdIlK99R1W/u8/Xz7h811Y/4Jn/8E%2BxaCy/4Y4%2BHmxejf8IxBv8A%2B%2B9u4/nXuNFawynKqatHDwX/AG5H/wCRN6eR5JSVoYWmv%2B4cP/kT59l/4JUf8E6ZpDI/7IPg0E9QunlR%2BQbFS2f/AASy/wCCdti/mQfsf%2BCGP/TbSRIPyckV77RT/srK739hD/wCP/yI/wCxMmTv9Wp/%2BC4f/InkmhfsC/sOeGZBNon7HvwyhkX7s3/CD2LOPozREj867rw78IvhR4Q2/wDCJ/DDw9pez7v9naLBBj6bEFdDRXRTwuFpfw6cV6RivySOqlgsFQ/h0ox9IxX5RQdOlGAOgoorc6Qrxn9l4AfG79o4Af8ANZrH/wBQrwvXs1eM/sv/APJb/wBo7/ss1j/6hXhegD2aiiigAooooAKKKKACiiigAooooAKKKKACiiigAooooAKKKKACiiigAornfi58UvBvwP8Ahb4i%2BMfxDv3tdC8LaLc6pq08ULSyLbwRNI%2BxFy0jkKQqKCzMQACSK4j4d/tgeCPGHgnxz4t8beBPFHgO8%2BG0TT%2BNPDfi22tXv9Pt/sS3yXAFhcXUM0bwNuUxSudySRkLJG6AA9Zr8%2Bf%2BC6%2Bj/wBueE5rLZnZ8BvF1xj/AK5eKPA0uf8Axyvq39mn9rrwv%2B0rqmseHLL4Z%2BKvCWraNo2k6xLpfipbBnn03U1uGsruOSwu7qErJ9luB5bSLKnl5eNQ6Fvnv/grro/9uHUbLZu2fsu/Eu4x/wBctS8IS5/8crzs3h7TKcRHvCf/AKTI%2By8OsT9T8Qcnr/y4rDv/AMrUv8z7J8Eax/wkPgzSNf3bvt2l29xu9d8at/WtSuC/ZV1j/hIf2X/hvr%2B7d9u8BaPcbvXfZQt/Wu9rsoT9pQhPuk/vSf6nzeaYb6nmmIw/8lSpH/wGc4/%2B2hRRRWpwhRRRQAUUUUAFFFFABRRRQAUUUUAFFFFABRRRQAUUUUAFFFFABRRRQAUUUUAFFFFABRRRQAUUUUAFFFFABRRRQAV4z44/5SF/C/8A7Iz48/8ATt4Qr2avGfHH/KQv4X/9kZ8ef%2BnbwhQB7NRRRQAVzvxX%2BK/gH4I%2BAr34mfE3XG0/R7B4I5porOa5lklmmSCCCKCBHlnmlmljijijRpJJJERFZmAPRV5B%2B2v8N/H3xD%2BE%2BkX3wy8MtruseE/H/h3xPD4dS7hgfVotP1O3uJ7aOSd0iWYwpIYvNdIzKsYd0Ul1ANuy/at%2BAl98C7r9pFPHTQ%2BELGSeG%2BvbzSLu3uba5huTaSWkllLEt0l0LlTB9laITGXEYQuQpz5P21P2dYvhmvxXk8Vautg%2BvnQk0pvBmrDW21TaZPsI0j7L/aBufKBm8n7Pv8kedjy/nryPwr8CfHfif9nb4oeHvjJ%2Bz94ztrvx343vPHGn6B4c1/Rl1LS7hL%2BCTTreGdr37MupRGwtb0lnNoJZNnnSgNnyOH9hH9os29r8evG2k/FXxBfah8fbzxnr/g2z8faXpni2XTJfCEXh2Ldf6fdWVjDciW0gnaO0uYI1tpXhWRyjJKAfffhLxRpfjbwvp/i/RIr6Oz1OzjubaPU9LuLG5VHUMBLb3KRzQOAeY5EV1OQyggivKv2D/wDkiGuf9lm%2BI/8A6mut1f8A2fvAXx8/4ZI8O%2BAPjT8StY0jx4dCEOpeItOnsrzUbF95Me6W4gmtri4SLy45JWidJJFdwDuBrC/4J06Tf6D%2BzdfaJqvie%2B1u5s/i38Q4bjWNTjgS5vnXxnrQM0q28UUIdyNxEcaJknaqjAAB7pRRRQAUUUUAFFFFABXkP7XH7aXwk/Y/8L2d74yF5rPiTXZxa%2BEfBGgw%2Bfqmu3RIVY4IhztyRukPyrkDliqt5x/wUd/4KY%2BD/wBinRbX4d%2BAdE/4TH4teJFWPwp4JsY3nkVnO1Li4SL5xHu4WNfnlYbVwAzp8v8A7K/7GX/BVn4h%2BO9Q/aI%2BIl54b%2BH3jbxGrJf/ABI8bW8eteILG1bIW30vT0P2XToQpKlHIk5PzBTtHzmY51UjiHg8DFzq/aaXMoeuqjzPonJJby00fv5XU4VyyLxmeSnWcUnDCULutWb29pP4MNQ6yqVJe0mrqhSlf2sfUfiF8JPiL8ftHj%2BN/wDwV7%2BNejfDL4ZwzCfSvgppfiRbW1kIO5Bql4GV72bgfuYjjIBXYSyHpPDf/BRN/G2g23wr/wCCW37FuueONJ02L7Jp3iO408eHfClii8fu5ZlVpQpyTEqIx7Ek12fwp/4JQfs1%2BF/FMfxS%2BPF5rnxl8bjDP4m%2BJ%2BoHURG2c4htW/cRIDyqlWKYGGr6ZtbW1sbaOysbaOGGFAkUMSBVRQMBQBwAB2pYTLMwTc3L2bl8UtKlWXrNpQiu0YRaXTueXxDxVxnxhGnQryp4LB07%2Bzw9CK5ad92r%2B5ztfFVkq1aX2qn2V8gp%2BwP%2B1j%2B0641X9v79sHUP7LlO5/hl8IjJpGkKP%2Bec90f9Iu09mwQRkNXrnwU/4J4fsSfs8iKX4Ufs0eFbG7hA8vVLzTxfXq/S5uTJKPwavZqK9OjlOAoz9o4c0/5p%2B/L75Xt8lFeR89h8jyzD1Paunz1P55%2B/P/wKV7ekVFdkIqqihEUAAYAA4ApaKK9E9YKKKKACiiigAooooAKKKKACiiigAooooAKKKKACiiigAooooAKKKKACiiigArxn9l//AJLf%2B0d/2Wax/wDUK8L17NXjP7L/APyW/wDaO/7LNY/%2BoV4XoA9mooooAKKKKACiiigAooooAKKKKACiiigAooooAKKKKACiiigAooooA8//AGq/grdftGfs3eNvgdp2vR6VeeJ/Dl1Y6dqc0JljtLpkJgmdAQXRZQjMgILKCMjOa8r8Kfs%2BftW63D8XfF/jnU/CPhDxf8WdBOlW9/4P8R3eox%2BFFtdMNtYXELXFjbm9lNzPdXD7lgEa%2BTGPNKs5%2BlKKAPmb/gn/APsceLf2W/EXi3XdQ%2BGPw5%2BHmka9oOg6fbeA/hZqFxc6Y19Yi8FzrUrzWdpi7u0uLaJwImbZp8RkmmYjZwn7cvwZ8N6f8bvE2raRqHiGe98XfspfFVb6DVPF2o39pEwm8Mqv2W1uZ5ILIfOcrbpGGwu4HauPtSvnX9pzR/8AhIf2rfDOgbN3279nX4lW%2B31333hNcfrWGKh7TDVId4yX3xa/U9TI8R9TzzCYj%2BSrSl/4DVpy/wDbTo/%2BCdGsf25%2BwR8Gr4vuK/DTRoCfeKziiP8A6BXs9fN//BIbWP7c/wCCbXwlvd%2B7Z4ce3z/1yuZosf8AjlfSFc%2BVT9pldCXeEP8A0mJ7HHuH%2BqcdZrQ/lxWIX/ler/mFFFFd58mFFFFABRRRQAUUUUAFFFFABRRRQAUUUUAFFFFABRRRQAUUUUAFFFFABRRRQAUUUUAFFFFABRRRQAUUUUAFFFFABXjPjj/lIX8L/wDsjPjz/wBO3hCvZq8Z8cf8pC/hf/2Rnx5/6dvCFAHs1FFFABRRRQAUUUUAFeM/sH/8kQ1z/ss3xH/9TXW69mrxn9g//kiGuf8AZZviP/6mut0AezUUUUAFFFY3xE%2BIfgn4TeB9U%2BJXxI8S2uj6Fotm91qepXsm2OCJRkk9yewUZLEgAEkCplKMIuUnZImc4U4OUnZLVt7JLqS%2BN/G/hD4beEdR8e%2BP/Elno%2Bi6Tatc6lqeoTiKG3iUZLMx4A/mcAcmvz9%2BKX/BZH4q/tOfFGP9l3/gll8Ip9e1/UUYP8QPE1m0Nlp9vwGvUt3GREoYESzgAthRDKWCnxX9qj47/tG/8FWfjT4d%2BCPww8OXGmeGtXkF/wCCfBmpJgPYK2P%2BEn11RkLbgHNtaNkSEqxDqVW4/SL9jb9i34R/sV/DY%2BDPh7by32rai63HinxZqXz3%2Bt3eDummc5IUEtsjB2oCepLM3yax2YZ/ipUsFL2eHjpKpb3peUL7adbXSaejcUezh8ig8hhnGa1J0qddXw1GHu1q8LtfWKkmm6GFbTVLlh7fEtSlB0qK9rPjf2Iv%2BCcXw7/ZTubv4tePNdn8ffF3xAWm8UfEbXsy3LyOMNFahyTBCB8vHzuPvHaERPpCiivpsLhMPgqCpUI8sV%2BL6tvdt9W22zwqGHoYaHLSioq99Ore7bbbbfVttvq2FFFFdBsFFFFABRRRQAUUUUAFFFFABRRRQAUUUUAFFFFABRRRQAUUUUAFFFFABRRRQAUUUUAFFFFABXjP7L//ACW/9o7/ALLNY/8AqFeF69mrxn9l/wD5Lf8AtHf9lmsf/UK8L0AezUUUUAFFFFABRRRQAUUUUAFFFFABRRRQAUUUUAFFFFABRRRQAUUUUAFFZvjPxj4V%2BHfg/VviB451%2B10rRNC02fUNY1S9lCQ2drDG0ks0jHhURFZiewBrmvgv%2B0X8JPj/AOHtT8S/DbXb5odFvvsetWmveH77R73T5vIjuAs9pqEMNxDuhmilUvGA8ciupKkGgDt68W%2BIEEVz/wAFBPhlbTpuST4LePVdT3B1bwgCK6/4H/tH/Cn9ozTbrXPhJe63e6dbLDJFqmo%2BENT020v4ZQxinsp7y3ijv4HCFlmtmljKlSGw6k8n44/5SF/C/wD7Iz48/wDTt4QoGm07o80/4Ihzyr/wTW8CaHcvum0i/wBbspSfVNXvCB%2BTCvrGvkv/AII2f6B%2BzH4p8J9P7B%2BL/ifT9v8Ad23pfH/kSvrSvKyL/kS4ddoJfddfoffeKyX/ABEvOJr7eIqT/wDBjjU/9yBRRRXqnwAUUUUAFFFFABRRRQAUUUUAFFFFABRRRQAUUUUAFFFFABRRRQAUUUUAFFFFABRRRQAUUUUAFFFFABRRRQAUUUUAFeM%2BOP8AlIX8L/8AsjPjz/07eEK9mrxnxx/ykL%2BF/wD2Rnx5/wCnbwhQB7NRRRQAVzvxX%2BK/gH4I%2BAr34mfE3XG0/R7B4I5porOa5lklmmSCCCKCBHlnmlmljijijRpJJJERFZmAPRV5B%2B2v8N/H3xD%2BE%2BkX3wy8MtruseE/H/h3xPD4dS7hgfVotP1O3uJ7aOSd0iWYwpIYvNdIzKsYd0Ul1ANuy/at%2BAl98C7r9pFPHTQ%2BELGSeG%2BvbzSLu3uba5huTaSWkllLEt0l0LlTB9laITGXEYQuQprj9sD9nmP4G%2BIP2jNS8cXGm%2BFfCnnr4km1nw/f2N7pssIUtbzWFxAl4k5Dx7IDD5svnReWr%2BYm7xvwr8CfHfif9nb4oeHvjJ%2Bz94ztrvx343vPHGn6B4c1/Rl1LS7hL%2BCTTreGdr37MupRGwtb0lnNoJZNnnSgNnzCD/gnv%2B2H45%2BFHjfxZ/wtqTStb8W/EnUPGcnhL4saDaa/eajKnhzT9F09b1tH1CxsYLiNrBrqNYGktoXktTtZ7VXoA%2B7fBni/w78QvB%2Bk%2BPvCGo/bNJ1zTINQ0u78l4/Ptpo1kjfa4DLlGU4YAjOCAeK8r/YP/wCSIa5/2Wb4j/8Aqa63V39nP4VfF3w3%2Bxb4G%2BDfxE8dy%2BH/ABjpngTTdM1PW/CmnWqSafcxW8aEQx3ZvoGdAuws/mo5DMAAwAxP%2BCdOk3%2Bg/s3X2iar4nvtbubP4t/EOG41jU44Eub518Z60DNKtvFFCHcjcRHGiZJ2qowAAe6UUUUAVtY1jSfD2kXWv69qUFlY2Ns9xe3l1KI4oIkUs8js2AqqoJJPAAzX5U/tmftY%2BJ/25fFWi3Hhfwhdaz8OpvETad8GPh1IjRyfE7XYm2tql5GSpXR7RvmIbaHI2sVzIYPTv%2BCn37Wfh/4yat4n/Zx03xNdWPwo%2BHEUV58ePEmlTbZtTnL/AOi%2BF7Nx1uLiUBZCOEAbcQI5Eb1z/gnH%2ByB4k8Myn9sH9ovw1aWXxB8SaNDZeGvC9tDttPAfh5VH2bSLWMj924Tb5pwDklTyZGf4/McRWzvGf2fhnamvjl0dnZ%2BqTVktpzTveFOXN7fDGTZbmlKrn%2Bdw58sws%2BSFK7X17FRSl7C6s/q1H3Z4qa%2BL3aEXzTdu/wD2FP2L9P8A2TvA19rPi/XR4k%2BJPjCdb/4g%2BMZUG%2B9uscQRcDy7aEEpHGAoAGdq52j3aiivqcNhqODoRo0laK/q7fVt6tvVttmGdZzmPEOaVcwx8%2BerUd27JJJJKMYxVoxhCKjGEIpRhCMYxSS1KKKK3PLCiiigAooooAKKKKACiiigAooooAKKKKACiiigAooooAKKKKACiiigAooooAKKKKACiiigAooooAK8Z/Zf/wCS3/tHf9lmsf8A1CvC9ezV4z%2By/wD8lv8A2jv%2ByzWP/qFeF6APZqKKKACiiigAooooAKKKKACiiigAooooAKKKKACiiigAooooAKKKKAPMP21PhD4q%2BPn7JnxD%2BDvgV7Ua34g8KXlro8d9KUt5roxkxRSsASsTuFR2wcKzHBxg%2BReHPhD8cvjUPjxq/jf4Oa98O5PjT4YHh/R7bU9V0u6m0RLbSHtlvbw2N5Mm%2BWe7mEawNMRHaI0hiLhB9WUUAfL3/BO/4V/tH/DHUNX0/wCJ/hrxr4e8Lw%2BC/D9ha6J488dQa9PN4gtxdrqd/ZPDdXItbCWNrFY4N0KgwuVtbYZ8zav/AAX4k8Pf8FNvBfiLVvi54h12z1b4PeOHsNB1W205LTRQureEspbNbWkU7h9wz9olnPyDaV%2BbP0PXjPjj/lIX8L/%2ByM%2BPP/Tt4QoA8x/4JQ/8S1f2ivCbcf2Z%2B094qEK%2BkMn2Z0/rX1pXyX/wTo/4lX7TH7VXhPp5PxhTUNv/AF9WaPn8dtfWleTkmmWQj2c191SofoHij73HGJq/8/IYef8A4HhMI/0YUUUV6x%2BfhRRRQAUUUUAFFFFABRRRQAUUUUAFFFFABRRRQAUUUUAFFFFABRRRQAUUUUAFFFFABRRRQAUUUUAFFFFABRRRQAV4z44/5SF/C/8A7Iz48/8ATt4Qr2avGfHH/KQv4X/9kZ8ef%2BnbwhQB7NRRRQAUUUUAFFFFABXjP7B//JENc/7LN8R//U11uvZq8Z/YP/5Ihrn/AGWb4j/%2BprrdAHs1fOn/AAUU/ai8ZfBfwJo/wV%2BAMKX3xd%2BKV82i%2BAbAHm0JH%2BkalJwdsVvGd5YggNtJBUPj3nxl4u8P%2BAPCGq%2BO/FuopZ6Voumz3%2Bp3cn3YbeGNpJHPsFUn8K/LrxZ4y%2BLfxQ8E3f7Yt5ZvD8Xf2nL0eBPgD4flky3hPwrI5E17x9x2hLSySr90zI4IWRlHg57j5YXD%2Bypt80k22t1FWTa/vSbUIf3pX%2Byx4LKcw4pz/CcO5fPkrYqVpVHtRox1rVpPooU1Np9039k679hX9lfwR8efivpXhvws7ap8EvgRrbzLrFyC3/CxfHhAN3q8pJPnQwMcR5LDGwBmVnUfpTXGfs8fA3wX%2BzV8EvDPwL%2BH1osWleGtKis4X8sK1w4GZJ3A43ySF5GPdnNdnXTk%2BXRy7CKLS55WcrbXtZRX92K91fNvWTZ9TxVm%2BX47EUcBlMHTy/Bw9jhodVTi23Un3q153rVXvzTUb2pxCiiivVPlQooooAKKKKACiiigAooooAKKKKACiiigAooooAKKKKACiiigAooooAKKKKACiiigAooooAKKKKACiiigArxn9l//AJLf%2B0d/2Wax/wDUK8L17NXjP7L/APyW/wDaO/7LNY/%2BoV4XoA9mooooAKKKKACiiigAooooAKKKKACiiigAooooAKKKKACiiigAooooAKKzfGfjHwr8O/B%2BrfEDxzr9rpWiaFps%2Boaxql7KEhs7WGNpJZpGPCoiKzE9gDXOfBD9oT4VftEaJqGu/C3WNRmXSNQFjq1hrfh2%2B0i%2BsbgwxTqk9nfww3EW6GaGVC8YDpKjqSrA0AdrXivju7to/wDgop8K7J5lEsvwW8fNHGTywXVvB%2BSPpuH512vwk/aJ%2BDXx21vxh4e%2BE3jaPWbrwD4mk8PeKxBaTollqUcUckluJJEVJiqyKGaIuquGQsHR1X5N/wCCjvxgvPgP/wAFP/2O/iBJO6aTeReM/D%2BukfcWDUZfD1ujyH%2BFEnMLknjKiufFYiGFoOrLZWv82l%2BFzlxuKhgsM609la/o5Rjf5c1zs/2NP%2BJT/wAFLf2ufDJ4Vr7wZqEI/vedpEhc/wDfQAr60r5L%2BBX/ABJv%2BCwPx403p/bXw68L6hj%2B95KyQZ/XFfWlcOTaYWce1Sqv/Kjf6n6V4k%2B/nmGrfz4PAy/8tKcH%2BNNhRRRXrH5%2BFFFFABRRRQAUUUUAFFFFABRRRQAUUUUAFFFFABRRRQAUUUUAFFFFABRRRQAUUUUAFFFFABRRRQAUUUUAFFFFABXjPjj/AJSF/C//ALIz48/9O3hCvZq8Z8cf8pC/hf8A9kZ8ef8Ap28IUAezUUUUAFc78V/iv4B%2BCPgK9%2BJnxN1xtP0eweCOaaKzmuZZJZpkgggiggR5Z5pZpY4o4o0aSSSRERWZgD0VeQftr/Dfx98Q/hPpF98MvDLa7rHhPx/4d8Tw%2BHUu4YH1aLT9Tt7ie2jkndIlmMKSGLzXSMyrGHdFJdQDbsv2rfgJffAu6/aRTx00PhCxknhvr280i7t7m2uYbk2klpJZSxLdJdC5UwfZWiExlxGELkKcqX9tv9n9PAMXxGtbvxhe2UmrzaXNp2mfDDX7vVbK7iQSSRXWmw2LXtoVjKOTPCg2SRtnEiFvKPCvwJ8d%2BJ/2dvih4e%2BMn7P3jO2u/Hfje88cafoHhzX9GXUtLuEv4JNOt4Z2vfsy6lEbC1vSWc2glk2edKA2eF8PfDf9vj4E/BPx9rHwz%2BGXxA8QeMvjd8XhqmsajqWv%2BGJvEHg7Rl0TTtMe%2BkQ3Vppc9%2By6WDDBbMbeE3MO8SrbukoB9q%2BBfHHhH4m%2BCtI%2BI/w/8Q2ur6Fr%2BmQajo2q2MoeG8tZo1kimRh1VkZWB9DXl37B/wDyRDXP%2ByzfEf8A9TXW66L4W/Cqy8N/sweG/gz8NbXxL8MrXS/CdlpejW4l0%2B71XQYoYUjjjZ5PttpNMioFZz56McnLZ3Vx/wDwTp0m/wBB/ZuvtE1XxPfa3c2fxb%2BIcNxrGpxwJc3zr4z1oGaVbeKKEO5G4iONEyTtVRgAA8//AOCsvijXfGvw/wDBf7DvgDUnt/EPxz8WQ6LPLAf3lpokBW41K5A7hYgqsO6yPXN/sQ%2BF9C/ac/a%2B8S/tY6Pp0cfw5%2BE1gfhz8EbRBmDZAoS/1CL1DcQpIPvRkqeUrxD9qX49eIfHPxx%2BNP7TvgXdeX2gm3%2BBnwLhhbm48Q37/wDEzuoewliDuFcZDLtBr9Cf2W/gL4d/Zf8A2efCHwD8LhDbeGNEhtJZ402i5uMbp5yPWSZpJD7ua%2BQwv/Ctnc6r1hBp%2BvK5Rpr5y9pU%2BUPI%2Bp4Tf9i8HZhxI9K%2BYzlgsO%2BscLRs8VUj/wBfajjQTX2faK%2BrO%2Booor68%2BWCiiigAooooAKKKKACiiigAooooAKKKKACiiigAooooAKKKKACiiigAooooAKKKKACiiigAooooAKKKKACiiigArxn9l/8A5Lf%2B0d/2Wax/9QrwvXs1eM/sv/8AJb/2jv8Ass1j/wCoV4XoA9mooooAKKKKACiiigAooooAKKKKACiiigAooooAKKKKACiiigAooooA8w/bU%2BEPir4%2BfsmfEP4O%2BBXtRrfiDwpeWujx30pS3mujGTFFKwBKxO4VHbBwrMcHGD5h8NfAn7S3jnxL8ZviLN8P9d%2BEWtfFTSbfS/Cl9qcmkarP4XksdLMMWp3cNpfvFM73VzKY4YpJA0dmhlaEybV%2BnqKAPlv/AIJ1fsq/tB/steOPizo3xV1jwhdeGdT1nQx4Mk8LeFp9NF1Da6DYWUk5WfVb%2BUDdb%2BUVlIkeSGWYuyzKq%2BRf8FSf2X/F/wAW/idqGmp8WPEmu3d18A/HOt%2BEtEv7bTkh0K80/WPCF3HHZPa2kNwTKYwhNxLMRkbSuWz%2BgNeMeO0ST/goR8MI5EDK3wY8eBlYZBH9reEOKwxWHhi8NOhPaSafzTX/AAfkc2NwtPHYOph6m04uL%2Baa/Df5HzH8M/j9Fp37YnwP/bk8QGI%2BE/2ifhNZ%2BDr%2B/T5U0nxJFJ9oSGQ9MSyCS3Uf3kY8Ba/QOvzr/Z8/Zn0/4xfsw/tB/wDBLnVLwWOq/C34iXVx8PbwuVfS7e7Y6jo9yCPmT955u4r/AASMAea%2Bo/8Agnn%2B03qX7Uv7NOmeKfGlsbPxp4fupvD3xB0uRQslnrVmRHcBlH3d/wAsoXsJQOxr5/IsTUhL2VX/AJeJzX%2BOPuVo/KUVNeUn2PvJ4iXGHhvl2e/8xGCjDB4lLtB1Fh6tuilatQk9ueFN7zPcaKKK%2BnPjAooooAKKKKACiiigAooooAKKKKACiiigAooooAKKKKACiiigAooooAKKKKACiiigAooooAKKKKACiiigAooooAK8Z8cf8pC/hf8A9kZ8ef8Ap28IV7NXjPjj/lIX8L/%2ByM%2BPP/Tt4QoA9mooooAKKKKACiiigAr5v%2BAnxEh%2BEP7EfxN%2BK9w6qnhnx98VtVYt0/0fxbr0v/slfSFfnp%2B1f49uPA3/AAR4%2BLdrpswW/wDEfxj8daDYIWx5jXfxB1WKRc/9cTKfwrjzHEfVMvq1/wCWMn80nb8bHDmmJlg8trV47xhJr1s7fe3E84/4JUfDZvjd8UfhL4WuoTceHPgX4F/4S3X7iT5hqHi7xCz3UDSn/lo0Nm6MGJLI8e3jNfqlXyH/AMEQfhZY%2BBv2CdB%2BIM9oE1n4hale%2BINalx1LztDAi55Ea28MO1eg3NjrX15XmcM4X6vlFOcvimlJ%2Blkor5RS%2BbZ%2Bg8b06eVZhQ4cofwsrpQwkeznSX%2B0VPWpiZV5X6xjAKKKK98%2BMCiiigAooooAKKKKACiiigAooooAKKKKACiiigAooooAKKKKACiiigAooooAKKKKACiiigAooooAKKKKACiiigArxn9l/wD5Lf8AtHf9lmsf/UK8L17NXjP7L/8AyW/9o7/ss1j/AOoV4XoA9mooooAKKKKACiiigAooooAKKKKACiiigAooooAKKKKACiiigAooooAKKjvb2z06zl1DULuKC3giaSeeaQKkaKMszMeAAASSelcz4B%2BOnwR%2BK3gKf4qfC74x%2BFfEnhe2MwufEmgeIba8sIvJGZd1xC7RrsHLZb5R1xQB1VeM%2BOP%2BUhfwv/7Iz48/9O3hCu%2B%2BE/xw%2BC3x60CbxX8DPi/4X8aaXb3RtrjUvCfiC21G3imCqxiaS3d1VwrKdpOcMD3FcD44/wCUhfwv/wCyM%2BPP/Tt4QoA8p/a9%2BGnxx/Zh/aFn/wCCjP7NHhyTxVbXGh2%2Bl/F34dwxj7Tqum25Jjv7JhybqBDjYc7kXA7g8I/i7xL8PPFuof8ABUj/AIJ9wR/Ej4Y/Ea3t7j4sfDnTo9moxzW6FG1CzTPy3cakia3YAsdx%2BbeHj%2B96%2BSvin%2Bwp8avgl8Tta/aS/wCCcHxF07wzrGu3AvPFvwv8QwbvDniOcZ3SqEw1lcN3dMBjjJQFifm8xy6tSm6tDmcebmtG3NCfWcE9JJ7TpvSS1Wt0acPZ7mPA2aVsVhqCxWDxKccThpbTi2pNws00%2BaKmuWSnCpGNSk788Knv/wCz7%2B0R8If2o/hfYfF/4JeMLfWdFv1x5kZ2y20oA3wTRn5opVyMo3PIIyCCe2r8tX8feDLX4633iz4c%2BMb79kT9oi%2BkEniPwF47UN4O8aSg/wCs80DyJA7EgXCbXLMxVHZjJX0t8MP%2BCo2i%2BD/Elp8Hf2//AIdT/BvxlORHZ6tfuZvDWt9MTWeojMaqR822RgEyFLlsiqwWf0JrkxLUXtzL4G%2BzvrTl/cqKLvtKSsfbx4YyvizDzzDgmu8XTWs8M9MZh%2BrjOjZSrRjqva0YyuknUo03c%2BtKKh0/UdP1ewh1TSr6G6tbmJZLe5t5Q8cqMMhlYZDAjkEcGpq%2BiTTR8LKMotpqzQUUUUCCiiigAooooAKKKKACiiigAooooAKKKKACiiigAooooAKKKKACiiigAooooAKKKKACiiigAooooAK8Z8cf8pC/hf8A9kZ8ef8Ap28IV7NXjPjj/lIX8L/%2ByM%2BPP/Tt4QoA9mooooAK534r/FfwD8EfAV78TPibrjafo9g8Ec00VnNcyySzTJBBBFBAjyzzSzSxxRxRo0kkkiIiszAHoq8g/bX%2BG/j74h/CfSL74ZeGW13WPCfj/wAO%2BJ4fDqXcMD6tFp%2Bp29xPbRyTukSzGFJDF5rpGZVjDuikuoBt2X7VvwEvvgXdftIp46aHwhYyTw317eaRd29zbXMNybSS0kspYlukuhcqYPsrRCYy4jCFyFOPf/ty/s16b8OrX4m3XinXfsl54ifQbfR4vAmsya42qJC9w9mdIW0OoLMtvG9wUNuCIF844j%2BevK/CvwJ8d%2BJ/2dvih4e%2BMn7P3jO2u/Hfje88cafoHhzX9GXUtLuEv4JNOt4Z2vfsy6lEbC1vSWc2glk2edKA2fPvhZ%2By7%2B1N8HPGNt%2B11qfw48a%2BOtb1H4yar4k1fwRrPiHQP%2BEjTTrnwrZaFFM8sU1tpP2pZNMhkaGCVIo7e6ZEZ3i2yAH254F8b%2BEfiZ4K0j4jeAPEFtq2ha9pkGo6NqlnJuiu7WaNZIpUPdWRlYexr8lv%2BCoHj02f7Efhf4TQaibafVv2ifixrysjYLDS/EniB1B9R5lzF%2BIFfoz%2By18BfiH8Mf2K/CfwL8SeM7rwz4otfDqpqWqeGTa3D6TeSuZpY7Y3cE0EqxPI0StJCysqA7BkAfkR%2B1fZal8SPHmmfs43virUddm0XxN4u0hdb1BYEurnVdV%2BKOpxO0i20UUSyy2tszsI40TkhUUYFfM8X1ZU8hqwjvPlivm/%2BAerw5l9LOOMMoy6r8FfGYWMv8Ea0K1TTsqeHm35Xvofsh%2Bxh4E/4Vj%2ByJ8MPADw%2BXLpPgHSbe5XGP3wtIvMP1L7j%2BNemUy3t4LS3S1tolSOJAkaKMBVAwAPwp9fQ0KUaFCNNbRSX3JL9DDNMdVzTM6%2BNqfFVnOb9ZznN/jMKKKK1OEKKKKACiiigAooooAKKKKACiiigAooooAKKKKACiiigAooooAKKKKACiiigAooooAKKKKACiiigAooooAKKKKACvGf2X/%2BS3/tHf8AZZrH/wBQrwvXs1eM/sv/APJb/wBo7/ss1j/6hXhegD2aiiigAooooAKKKKACiiigAooooAKKKKACiiigAooooAKKKKACiiigDyL9vv4feNPit%2BxR8U/hx8PNGl1PWdZ8Daja2WkQOFfUy0DbrNSxCgzruhG4hf3nJAya84/Z38a6VN8UvjX8cZvhD4703wZ4vjsJdH0bVPhjq1rd6q%2BmaPHHfXBsJbVZkaRGt7OJJUR7k2JWFZFVCfqSigD5j/4J5eI9Q%2BMfiT4h/tQ%2BN/Afi3wn4p8cS6XHc%2BEPEvw/1bQ/7C0q0juE0%2B0aTULWBb%2B8xLcSXMsBkjjeZIVZo4opJdW/034r2n/BTbwXeeNvGnh7UNCuPg944PhrTtK8MT2d3YINW8JeYtzcyXsyXZOUwUhtwu05Dbht%2Bh68Z8cf8pC/hf8A9kZ8ef8Ap28IUAezUUUUAct8Xfgj8IPj74Sl8CfGn4baN4n0mXJNlrFikyo2Mb0LDMbjs6kMOxFfJnxB/wCCSvjLwT4YvPCn7Hv7Rtxp/hW6yZfhJ8VNOXxJ4YlHaOMXAaa0XPO9N8mejDt9uUVwYvLMDjnzVYe9a3MtJW7XWrXk%2BZeRxVsBhquJhio3hWhZxqQlKnUi1qnGpBxkrPVateR%2BQVz4G/4KN/8ABPi8n1X4Z/Cbxt4I02KVpbnT/As7eM/BN2Scs4sJ2%2B26XGTy0m%2BR8fdUcV6v8AP%2BDiD4bXk8Xhj9qX4Ztpl0srQyeJPA0j3tm7L9%2BSSynCXtqgORgpIePQ1%2Bk1ecfGj9kD9lz9ohJP8AhdnwC8K%2BI55F2m/1DR4jdqMY%2BW4UCVP%2BAsK8JZDmmXu%2BW4qy/kmuaP4Wt8lH0PspcacQ42HJnlOjmS/5%2BV4ujil/3OYZRlUf/YTQrt9ZvVknwK/az/Zq/aZ0tdV%2BA/xs8PeJQY972thqC/aoV/6aW74mi%2Bjoteh18GfE3/g3m/Yo8SakPEfwg8UeNvh7qUL77J9F103MMDjoQLlXl47YlWjw5%2Bxb/wAFiv2bmitvgJ/wUK8P/ELSLZsrovxX0abMiDpH54FxP7fLLGPp266WYZ3h9MXhOb%2B9SkpL/wABlyy%2B5s%2BfxuOyptyoYevT/uv2VdfKdJ0pvy5qKfex950V8Qy/t2/8FSfglYKf2jP%2BCXNx4kiE5WTW/hR4nS8VkH8S2Ki4mHrl3Squjf8ABwR%2BxRbau3hv4teCviT4C1OEgXdp4m8JjMR91glkkx9UB9q2/wBYcpg7Vpum%2B04yh/6VG33SZ5yxtJwc3Cait26VWy83JU5RS824rzPuiivm7wT/AMFev%2BCbXj4J/Yv7Wnhy2L9BrcdxpuPr9rijAr1nwh%2B05%2Bzb8QAh8B/tB%2BB9b8z7n9k%2BK7O53fTy5DXfRzDL8R/CrQl6Si/1/QihmuV4r%2BDXhL0nF/8At1/wO4opI5I5o1likVlYZVlOQR6ilrsO8KKKKACiiigAooooAKKKKACiiigAooooAKKKKACiiigAooooAKKKKACiiigArxnxx/ykL%2BF//ZGfHn/p28IV7NXjPjj/AJSF/C//ALIz48/9O3hCgD2aiiigAooooAKKKKACvxG/Z28IXXxE/wCClup2V8DPHqn7bviR9ORhkRx%2BHb/V7%2BdR7b9QjYj1xX7c1%2BXP7B3w2hH/AAVFTT0Mcj6V4q%2BMnju48vkRS3/jXUNFXJ/vGK0j/CvneIsO8RDDx6e1h%2BL/AMkz7HgDCuXFKzF7YPD42v6SWDrUab/8DxKP1Gooor6I%2BOCiiigAooooAKKKKACiiigAooooAKKKKACiiigAooooAKKKKACiiigAooooAKKKKACiiigAooooAKKKKACiiigAooooAK8Z/Zf/AOS3/tHf9lmsf/UK8L17NXjP7L//ACW/9o7/ALLNY/8AqFeF6APZqKKKACiiigAooooAKKKKACiiigAooooAKKKKACiiigAooooAKKKKACiiigArxnxx/wApC/hf/wBkZ8ef%2BnbwhXs1eM%2BOP%2BUhfwv/AOyM%2BPP/AE7eEKAPZqKKKACiiigAooooAKKKKACsTx18M/hx8UNJOg/Ez4f6J4isSDmy13SobuI56/JKrD9K26KmUYzjyyV156/ma0a9fDVVVozcZLVOLcWn3Ti00/Ro%2BVvih/wRY/4JyfE6SW8HwCi8OXsoI%2B2eEdVuNP2Z9IUfyPzjNfP/AI4/4NvfhKlvJD8F/wBonUtLQsWWDxd4Q0/V8852%2Bai28ijtkHIr9KaK8XEcNZDineeHjfulyv8A8lt%2BR9L/AK6cRVVy4ypDEx7YmjQxK/8ALihVl/5UPyVl/wCCJX7Wnwicy/Dnw58N9dtkJPm%2BG/HviPQNSkPqA88lsmfpgH2pB8E/23/hP/yNfw1/bN0COLo3w/8AjtYeKLZgP4ltfIRv%2BAls1%2BtdFcH%2BqGX0/wCBOUPmmv8A21/iZ/2nwZiv9%2B4bwUn3orEYOX/ltiVC/wD3Ct5H5Kr%2B1L4x8AkL4v8A%2BCmH7SHwtKfeHxZ/Z/ivfK/39gkzXdeCf2uPjN4i2DwV/wAF4Pg1rJb/AFa%2BNPhrZ6IX9AQzxkH2r9MCAwKsAQRyDXC%2BNv2Xv2afiVvPxE/Z68D66ZPvtq/hSzuWJ9cyRk596P7BzCl/Dr39XVj/AOk1ZL8Bf2f4Q4r4sDj8M/8Apzj/AGsV6RxFJP75nzJ4Q8X/APBWbxOqv8Lv2ov2UvG4IyhKaj84/wC3N2/Sug/4S/8A4LbaR/yEfg/%2BzvrGOv8AZOv6vb7vp54OK6Dxf/wR9/4Js%2BNmaTVf2UtCtXJyH0W8u9P2n1AtZowK5/8A4c4/s8aJ/wAkr%2BOHxq8C4/1f/CJfFC7h8v6ecJKPqOdU%2Bsn/AIa7/KpRf5h/qj4ZYj/d8%2BzCh5VaEKiXzo1W3/4CA%2BPv/BX7S/8AkIfsAeANVx1/sz4qxwbvp5yHFH/DYH/BUTTuNX/4JFGZR1m0746aO%2BfohizSn/gnP%2B0z4Z/5Jj/wVV%2BMNpt/1f8AwlUNnrePr5qpuo/4Zv8A%2BCtvhb/kXv8AgpB4T8TKv3E8T/CK1tMj0LWkhP40WzaHxe3Xo6E/0i/wD/iHOS1v904up%2BlWlWpv/wAmwlWK%2BchP%2BG8v25rL/kN/8ElPHEeOv2Hx3plz%2BW0DNL/w8d/aOtP%2BQv8A8ErPjOmOv2JbO4/9BcZo8r/gt94Z%2B5c/s1%2BJ4F6%2BYmt2Vy/5ZjFH/C%2B/%2BCvvhz/kM/sB%2BAPEm3r/AMI98U47Pf8AT7Uhx%2BNH1jGR%2BKrXXrQg/wD0m4f8Qqz6f%2B68QYOr/wBzOFi/uq0qFvmxP%2BHoPxEtf%2BQp/wAEwP2kEx1%2ByeCop/5TjNH/AA9flg41H/gmv%2B1ZF6snwj3qPxFzS/8ADdX7e2iD/iuP%2BCSPi6DH3/7B%2BI2l6n%2BXlquaP%2BHonjrRv%2BR0/wCCZH7SNtj77aP4Gi1BV98pOvHvR9fmt8ZKP%2BLD2/8AbQ/4hB4ly/gYmlV/wVcuqfljIif8PcvCEX/H9%2Bwp%2B03a%2Bvn/AAikGPynNH/D3/4Tx/8AH3%2Byb%2B0JB6%2Bd8J5xj8pDS/8AD4b4Gaf/AMjh%2Bzr8dfD2Pvf218LLlNv12M9KP%2BC3P/BO6yO3xV8UNf0I9xq/gLVk2/XZbNR/acFvmMF604r83EP%2BIOeMz/h4WtP/AAYanU/9NV6n4Df%2BHxPwJX/X/s7fHWL/AK6fCu5/o1H/AA%2BP/Z4H%2Bs%2BB3xrX/e%2BF13/jWzpX/BZT/gmbrOPsf7V2kJnp9r0m/g/9G2610ml/8FQP%2BCemr4%2ByftheBEz0%2B1a5HB/6M21rDHOfw5jSf/btP/5YcFfwv8XsL/GweIj64Gr%2BiZwX/D5D9nP/AKIr8af/AA193/jR/wAPkP2dT0%2BCXxqP0%2BF13/jXr2m/t4fsQavgab%2B2J8Lpif4F8fadu/Lzs1vaf%2B09%2BzVq%2BP7K/aG8DXWen2fxbZvn8pDXRGeMn8OOpv0hD/5aeRW4Q8QcN/GhVj64OovzijwT/h8d%2Bz12%2BBnxsP0%2BF13/AI0n/D479ngct8DvjWPXPwuu/wDGvpiw%2BKXwy1XH9l/EXQrnPT7Pq8L5/Jq17TULC/XfY3sMy%2BsUoYfpW8aOaS%2BHFRf/AHDj/wDJnl1cr4mofxMRy%2BtC35yR8of8Pk/2bF/1vwf%2BMsf%2B/wDDC8o/4fM/ssL/AK74dfFqP/f%2BGV9/hX1rRVfVs4/6CY/%2BCl/8mY/VM%2B/6C4/%2BCV/8sPko/wDBZ/8AZGX/AFvhT4oJ7N8Nb/8A%2BIo/4fRfsed9B%2BJY/wC6bah/8RX1rRR9Xzj/AKCI/wDgr/7cPquf/wDQVD/wSv8A5YfJX/D6H9j8/c8O/E1vYfDbUP8A4iqnwT/bP%2BEv7Xn/AAUK8Fn4W6N4ptB4e%2BDPjL7cfEvhqfTt/n6t4V2eV5wHmY8l92Pu5XPUV9gV4z44/wCUhfwv/wCyM%2BPP/Tt4QrWhRzKFVOrWjKPVKFvx5nb7jfDYfN4VlKviIyj1Sp8rfz53b7j2aiiivQPUCud%2BK/xX8A/BHwFe/Ez4m642n6PYPBHNNFZzXMsks0yQQQRQQI8s80s0scUcUaNJJJIiIrMwB6KvIP21/hv4%2B%2BIfwn0i%2B%2BGXhltd1jwn4/8ADvieHw6l3DA%2BrRafqdvcT20ck7pEsxhSQxea6RmVYw7opLqAbll%2B1Z8Bb/4FXf7SSeOXi8Iae1xHf3t5pF3Bc21xBcNay2sllJEt0l0twpg%2BzNEJvNxGELEKedf9vz9l5PCcXixPFPiKVpvEc2gDw9bfDvXJddTUorUXktu%2BkJZHUI2W2ZLgloABFJHJnZIjHxfXvgD%2B0R41/ZB%2BLvge7%2BA97Z678S/G1x4rHhq91rTN9vYSanbK%2Bmx3MV08cGqtYWjTpOpNvBdXMbLcMYi486P7F/xwTSbfVtV/Zs%2BJd14O/wCFxav4gs/CWmfFq3g%2BIdnaXHhy1sI55/EA1iN5t14l6XT%2B1JJfsslnEXeOE2ygH318PvH3g34q%2BBNG%2BJvw78RW%2Br6B4h0uDUdF1S0YmK7tZoxJFKpODhlYHnB55r8//wDgkTbT%2BMv2/v2o/GlzEdng/wAa654bs5G6Fbnxbrt/Iq/RtufqK%2Buf2ZPg58U/BP7EfgT4GeNvFjeFfFej%2BBNO0q%2B1PwhbWBbTJ4YETFusts9oxQKEz9nMRIJVFBAHzx/wQ%2B%2BG%2Bo%2BEdI/aR8T67r17q9/qH7U/jawk1nU44EudRjstUmjFxKLeOKIO8jzFhHGiA52oowo83HU3VxOGXRTcn8oSt%2BLPtOF8ZTwGSZ1N/FPDQpR/7iYmhzffCm0/Jn3NRRRXpHxYUUUUAFFFFABRRRQAUUUUAFFFFABRRRQAUUUUAFFFFABRRRQAUUUUAFFFFABRRRQAUUUUAFFFFABRRRQAUUUUAFFFFABXjP7L/wDyW/8AaO/7LNY/%2BoV4Xr2avGf2X/8Akt/7R3/ZZrH/ANQrwvQB7NRRRQAUUUUAFFFFABRRRQAUUUUAFFFFABRRRQAUUUUAFFFFABRRRQB49/wUHPjkfsOfFg/Df%2B0/7Y/4QLU/s/8AYm/7ds%2Bzv5v2by/n8/yvM8vZ8%2B/bt%2BbFfNnwi8S/DzTvhj%2B094a/4Jya/wCGoPDupeFpn%2BCth4FurdbC68SxeHc3h0lIT5bhJX00ymAFVuWl34lMtfelFAHxv/wTLP7Ph%2BMfj3/hi06R/wAKn/4Vv4K8z/hHNv2H/hKt%2Bs/2l5mzj%2B0fsf8AZH2vd%2B93eT5n7zfXoN/qXxXu/wDgpt4Ls/G3gvw9p%2BhW/wAHvHA8NajpXiee8u79Dq3hLzGubaSyhS0IwmAk1wG3HJXaN30PXzh%2B0fq/xr0f9vD4Tz/A74f%2BFvEWpN8I/Ha3dp4r8YXOiwRwf2p4SJdJbfT71nfdtGwxqMEnfkBSAfR9FeM/8Jx/wUL/AOjX/gz/AOH41b/5l6P%2BE4/4KF/9Gv8AwZ/8Pxq3/wAy9AHs1FeM/wDCcf8ABQv/AKNf%2BDP/AIfjVv8A5l6P%2BE4/4KF/9Gv/AAZ/8Pxq3/zL0AezUV846T%2B0d%2B3brHxn1/4HW/7KHwkXVPDvhfSNdvLl/jrqnkSQajc6lbwohHhjcXVtLnLAqAA8eCxLBeo/4Tj/AIKF/wDRr/wZ/wDD8at/8y9AHs1FeM/8Jx/wUL/6Nf8Agz/4fjVv/mXo/wCE4/4KF/8ARr/wZ/8AD8at/wDMvQB7NRXjP/Ccf8FC/wDo1/4M/wDh%2BNW/%2BZeuX8A/tHft2/ETxX438IaP%2Byh8JIbjwH4oi0LVZLn466oEnnk0rT9TDxbfDBJTydRhUlgp3o4xgBmAPo6ivGf%2BE4/4KF/9Gv8AwZ/8Pxq3/wAy9H/Ccf8ABQv/AKNf%2BDP/AIfjVv8A5l6APZqK8Z/4Tj/goX/0a/8ABn/w/Grf/MvR/wAJx/wUL/6Nf%2BDP/h%2BNW/8AmXoA9mor5x%2BEX7R37dvxl8KXfi/w5%2Byh8JLa3s/FGt6FJHe/HXVFcz6Xqt1pk7jb4YYbGmtJGQ5yUZSQpyo6j/hOP%2BChf/Rr/wAGf/D8at/8y9AHs1FeM/8ACcf8FC/%2BjX/gz/4fjVv/AJl6P%2BE4/wCChf8A0a/8Gf8Aw/Grf/MvQB7NRXjP/Ccf8FC/%2BjX/AIM/%2BH41b/5l65f4I/tHft2/Hj4MeEPjj4V/ZQ%2BElrpfjPwvp%2Bu6bbah8ddUWeGC7to7iNJAnhhlDhZAGCswyDgkc0AfR1FeM/8ACcf8FC/%2BjX/gz/4fjVv/AJl6P%2BE4/wCChf8A0a/8Gf8Aw/Grf/MvQB7NRXjP/Ccf8FC/%2BjX/AIM/%2BH41b/5l65f43ftHft2/Af4MeL/jj4q/ZQ%2BEl1pfgzwvqGu6lbaf8ddUaeaC0tpLiRIw/hhVLlYyFDMoyRkgc0AfR1BAIwRkHqK8Z/4Tj/goX/0a/wDBn/w/Grf/ADL0f8Jx/wAFC/8Ao1/4M/8Ah%2BNW/wDmXoA9O1b4eeANez/bngbR73d1%2B16ZFJn/AL6U1zeqfssfsxa5n%2B2v2cvAd5nr9q8IWUmf%2B%2BojXK/8Jx/wUL/6Nf8Agz/4fjVv/mXo/wCE4/4KF/8ARr/wZ/8AD8at/wDMvWU6FCp8UE/VJ/mmd9DNc1wv8DEVIf4alSP/AKTOJZ1L9gD9hXVsm%2B/Y1%2BFzMerp4D09GP4rCDWDqP8AwS5/4J46pn7T%2Bx/4HXP/AD76OsP/AKLxWZ8Xf2jv27fg14UtPF/iP9lD4SXNveeKNE0KOOy%2BOuqM4n1TVbXTIHO7wwo2LNdxs5zkIrEBjhT1H/Ccf8FC/wDo1/4M/wDh%2BNW/%2BZeueWW5bP4qEH/25H/5E9ejxrxph/4WZ4mPpiK//wAuZx9//wAEeP8AgmnqWftH7J2hLn/n3vryL/0CcVj3f/BEH/gl9dv5v/DMKRP2e38X6xHj/vm8Ar0j/hOP%2BChf/Rr/AMGf/D8at/8AMvR/wnH/AAUL/wCjX/gz/wCH41b/AOZesJZJk0t8NT/8Aj/kepS8UPEqj/DzrFr/ALma3/ybPMv%2BHJP/AAT3g40n4d%2BJdP8AQWfj/Vlx/wB9XBoP/BGL9kOE/wDEr8S/E2x9BafEm/GPzc16b/wnH/BQv/o1/wCDP/h%2BNW/%2BZeuX8fftHft2/DvxX4I8Iax%2Byh8JJrjx54ol0LSpLb466oUgnj0rUNTLy7vDAITydOmUFQx3ugxglln%2Bwsl6YeHyVvyaNv8AiK3iY/izjEP/ABVHL/0qMjmv%2BHPHwGhOdN/aC%2BOVljp9l%2BKd0MfmppP%2BHRXgCL/kH/tp/tI2noLb4tyjH5wmvTv%2BE4/4KF/9Gv8AwZ/8Pxq3/wAy9H/Ccf8ABQv/AKNf%2BDP/AIfjVv8A5l6P7Cyj/nyvvkvymg/4ip4idcxm/WNGX/pWGkeY/wDDpu0i/wCPH/goz%2B1Xb%2Bgi%2BMBx%2BttVP4K/sq3n7Mn/AAUL8FrdftMfFP4irrfwZ8ZbB8TPFQ1M6f5OreFc/ZyI08vzPNG/ru8qPpt59a/4Tj/goX/0a/8ABn/w/Grf/MvVDwP4H/as8Y/tWeHPjd8bvhx8PfDOjeGfh74h0OGHwr8Q77Wrq7utSvtEuEZkuNIsUijRNLlBYO7FpUAXGSNqGVZfhqqqUoWkv703%2BDm1%2BB5%2BacfcX53gZ4PHYrnpztdezw6vZpr3oYanNapbTXZ3V0/daKKK9A%2BPCiiigAooooAK8G/4J2eFNL8MfBXxdPpobfqvx5%2BJV9ds2PmlbxnrCduwVFH4V7zXyV%2ByV4s/bO0/4e%2BKLP4Y/AP4YavoSfGn4i/2fqOvfF3UdNu5l/4TPWSxktotAuUiIbcABM%2BQAcgnaE4ptN9C41KkISgnpK113s7r7nqfWtFeM/8ACcf8FC/%2BjX/gz/4fjVv/AJl6P%2BE4/wCChf8A0a/8Gf8Aw/Grf/MvTIPZqK8Z/wCE4/4KF/8ARr/wZ/8AD8at/wDMvR/wnH/BQv8A6Nf%2BDP8A4fjVv/mXoA9mor5x%2BCP7R37dvx4%2BDHhD44%2BFf2UPhJa6X4z8L6frum22ofHXVFnhgu7aO4jSQJ4YZQ4WQBgrMMg4JHNdR/wnH/BQv/o1/wCDP/h%2BNW/%2BZegD2aivGf8AhOP%2BChf/AEa/8Gf/AA/Grf8AzL0f8Jx/wUL/AOjX/gz/AOH41b/5l6APZqK%2Bcfjd%2B0d%2B3b8B/gx4v%2BOPir9lD4SXWl%2BDPC%2Boa7qVtp/x11Rp5oLS2kuJEjD%2BGFUuVjIUMyjJGSBzXUf8Jx/wUL/6Nf8Agz/4fjVv/mXoA9morxn/AITj/goX/wBGv/Bn/wAPxq3/AMy9H/Ccf8FC/wDo1/4M/wDh%2BNW/%2BZegD2aivGf%2BE4/4KF/9Gv8AwZ/8Pxq3/wAy9cv8Xf2jv27fg14UtPF/iP8AZQ%2BElzb3nijRNCjjsvjrqjOJ9U1W10yBzu8MKNizXcbOc5CKxAY4UgH0dRXjP/Ccf8FC/wDo1/4M/wDh%2BNW/%2BZej/hOP%2BChf/Rr/AMGf/D8at/8AMvQB7NRXjP8AwnH/AAUL/wCjX/gz/wCH41b/AOZej/hOP%2BChf/Rr/wAGf/D8at/8y9AHs1FfOPj79o79u34d%2BK/BHhDWP2UPhJNcePPFEuhaVJbfHXVCkE8elahqZeXd4YBCeTp0ygqGO90GMEsvUf8ACcf8FC/%2BjX/gz/4fjVv/AJl6APZqK8Z/4Tj/AIKF/wDRr/wZ/wDD8at/8y9H/Ccf8FC/%2BjX/AIM/%2BH41b/5l6APZqK8Z/wCE4/4KF/8ARr/wZ/8AD8at/wDMvXL6t%2B0d%2B3bo/wAZ9A%2BB1x%2Byh8JG1TxF4X1fXbO5T466p5EcGnXOm28yOT4Y3B2bVICoCkEJJkqQoYA%2BjqK8Z/4Tj/goX/0a/wDBn/w/Grf/ADL0f8Jx/wAFC/8Ao1/4M/8Ah%2BNW/wDmXoA9morxn/hOP%2BChf/Rr/wAGf/D8at/8y9H/AAnH/BQv/o1/4M/%2BH41b/wCZegD2aivnHSf2jv27dY%2BM%2Bv8AwOt/2UPhIuqeHfC%2Bka7eXL/HXVPIkg1G51K3hRCPDG4uraXOWBUAB48FiWC9R/wnH/BQv/o1/wCDP/h%2BNW/%2BZegD2aivGf8AhOP%2BChf/AEa/8Gf/AA/Grf8AzL0f8Jx/wUL/AOjX/gz/AOH41b/5l6APZqK8Z/4Tj/goX/0a/wDBn/w/Grf/ADL1y/gH9o79u34ieK/G/hDR/wBlD4SQ3HgPxRFoWqyXPx11QJPPJpWn6mHi2%2BGCSnk6jCpLBTvRxjADMAfR1FeM/wDCcf8ABQv/AKNf%2BDP/AIfjVv8A5l6P%2BE4/4KF/9Gv/AAZ/8Pxq3/zL0AezV4z%2By/8A8lv/AGjv%2ByzWP/qFeF6P%2BE4/4KF/9Gv/AAZ/8Pxq3/zL1b/ZW%2BHPxp8H6x8UPHfx00DwvpOqePviFFrlnpXhPxLc6tb2trFoOj6YqvcXFlZs0jSadK5URbQsiDcxzgA9booooAKKKKACiiigAooooAKKKKACiiigAooooAKKKKACiiigAooooAKKKKACvlf9p79rT4ufDD4x%2BLNa8A%2BHfB8nhj4P%2BH/D9741OtaRcTarqlvq9/KlzBYXEdxGll5FtZx3GZIpxcyFIyIfL80/VFeM/Gf9iH4cfG74pH4ma5458VaXFqNrpFr4v8NaNdWqad4pg0u9kvbGK%2BWW3kmCxzTS5%2BzywGWOQxTGWMKgAPZqKKKACiiigD5j8OftK/EyH9v/AMUfB/4jax4e8J%2BG18QWmieDItR%2BEWspdeMYBoEGo4g8RtdrpzSx3dzqAFoIXk8u0mAUFmkX6cryvxZ%2By1B4/wDjJpHxT8e/G/xrq%2BleHtdj1rQPAFwdMi0ax1CO3eCOcNDZJey7PMkkVJrqSMSPu2fIgX1SgAooooA8X/4KC/F344fs/fsj%2BNPj18Ar3wpHrHgnQrvXLqDxhotzfW13aWttLM9uiW11bMkrsiKJC5VAWJR%2BBXn/AI8/a0%2BLngv48eLdT8KeHfCEXw88IfGPwj8PvGVnNpFwdb1XVddg0VI9Qhu0uFhjjg/tzSYzFJbyvIkM%2BJY9qCvYf2sf2cbL9rT4Ea9%2Bz7rXxV8U%2BEdJ8T2Utjrl/wCEF077Xc2UsTxTW26/tLqNEdX5ZEWQFRtdec8XB%2BwD4On%2BItn8RfFXxx8fa6x1nSdc8TaNqEulRWPifXNMSNLHVr2O2sImW4iEFphbZoIGNjbF4mMeSAe90UUUAFeL/tk/F344fBK18A%2BMfhZe%2BFP7G1D4meHPD3i%2Bx8QaLc3N1c2uq6zY6aDZyw3UKW0ka3Msm%2BRJ1JRF2ck17RXlX7V37Lb/ALVXhvQvC8/x98b%2BBrfQvElhrqN4Lh0dnu72xvILyzaU6lp94NsVxbxuFjCBuVk3qdoAPOP2ef2lfiZrf7VXi34I/FDV/D3hPTofFOt2/gnwlJ8ItZ0y5162hdJTf2%2BtXF39g1B2Mk0ssVtAX5LsVwxP05Xkuk/soh/jJovxl%2BI/7QHjvxrN4Xu7y78J6F4hGkw2Gj3VzbyWslxEthp9tLK/2eaeFfPklVFnfaASCPWqACiiigDw/wDbu%2BLnx4/Z%2B%2BDWr/HX4UeMfAtjp/hbRbm8vdF8WeGb2/ufEN7lFs9Ms5La9g%2BzzXEpFujeVdM0s8QWFj8ref8AwR/a%2B%2BM%2BufEvwV/a3gzwlpHw08b/ABP8UfDbwr4a07S5o9X0S/0CHVt889yLhreaCRvD%2BposMdvEY1a2PmSZYD0/9pX9kGD9pLx54I%2BIE37QPjvwhc%2BAbu5vdFsfDEWjT2cl7KgjW8mg1PTrxHnhj8xYZAFMYnlI%2BZsir4D/AGGvh74D%2BMtv8XYfiL4u1KDTtd1PXtE8Ialc2X9k6VreoxvHqGqQJFapP584nuyyvM8KNfXJjij8zgA9rooooAK%2BX/2ufjx%2B0v8ABb4iaf4U0qHwB410fxzDrVtovw5i8H30msJa2mh3V3Jf3E4vXiurYXUVvbSQi1iB%2B3woJjIyJJ9QV4dN%2BxNcR/tH%2BK/2mtE/ar%2BJenav4t02HTrnS4YPD89pp9nDA0cNtZtc6TLc28Syu91sWba87l3Dg7aAGfsIftB%2BN/j38Pby6%2BK/j7Rr7xdpws21/wAN2Xwu1fwjeaA89ssogubLV7qe4cFt/l3ACRyKh2htpNe6V5v8Dv2btO%2BDPifxJ8Q9Y%2BKXinxx4q8VxWNvrHifxc1gty9pZib7LapFp9ra20cUbXNy42whma4kLM2Rj0igAooooA%2BOf%2BCgn7cfxU/Yw8c/2nrmi6B4x8Ivo2o63b%2BFZfhzqdlLbppujX2pJJ/wkU10%2BmT3f2vTRssVgS6EcyygbYWkb179mj4u/HPVvip43/Z6/aOufCmoeJ/COk6HrUeteCtIubCxubHVBeRpEYLm5uXWWK4067Uv5uJEMTbIySorfHX9hLwR%2B05rV1a/H/4t%2BNfFHgu5kuJF%2BGV5JpsOixSTWM1kzb7eyjvpAI7iZgkt06B33bfkQL0/7Pn7M2kfAO817xFd/FDxZ448R%2BJDZx6t4q8a3Fm99LbWkRitbUfY7a3hWKIPKwxHvZ55XdnZyaAPSqKKKACviP8Aan/bK/az%2BDfxq8QfCjwd4b8OeNdTsNFuNd8MBPgf4gjk0UDUdMtUMLfbnHiaQWOqXHnf2X5TwtCVlEYmEdfbleH69%2BxbqfiXx6fidrX7XPxRm1vT4LyLwbeFNAA8KrdTQyT/AGSMaTsnZo4Ft916t0yxM4Uq7s5AOq/ZY%2BLD/GT4RweLL34maN4qv4dRurLVL7RvBl94dFtcRSsrWs2m6hcT3VnPGMK8czh8/NtUMBXo1cN8A/gL4e%2BAHhnU9G0rxTrfiDUdf1641vxJ4k8RzQNe6rfzBEaeUW8UMCYjihiVIYo41SJAFGCT3NABRRRQAUUUUAFFFFABRRRQBR8UeIbDwl4a1HxXqoc2umWM13ciJct5caF2wO5wpr5z/Ym/aT%2BNfj/xTo/gz42eHvBlmPHXwtsviN4Zh8GaVcWg0yO8uCbvT7szXEou5o3ubZ/tiCATtLMTBHtBf6Wu7S1v7WWxvbdJoZo2jmilUMrqRgqQeCCOMV5D%2BzN%2BxX4C/Zg1V9X0D4g%2BLfEstt4YsfDPh0eLL21mGgaFZvI9vptqbe3hLRqZPmlnM1xII4vMmfy1wAexUUUUAFcL%2B1B48%2BIvws/Zo%2BInxO%2BD/hRde8W%2BHPAur6p4W0NrGa6Go6jb2csttbGGBllmEkqInlxsHbdhSCQa7qs7xbol/wCJfDGoeH9L8V6joVze2kkNvrWkLA11YuykCaIXEUsRdTyBJG6ZHzKwyCAeXfsU/Fqf4ofDO%2BstW%2BIXh/WdT8O6qunXmmaJ8MNT8HPoaC2gkis7jStUuZ7mFwjiRXby0eKWLYmBvf2KvPPgP%2BztpPwOvPEviO5%2BIniTxj4k8X6jDeeIvFPit7MXd0YbdLeCIR2NtbW0UUcaAKscKZLOzFmZmPodABRRRQB8uftUftY/FD9nD4veOLL4laN4S8RfC%2Bw/Z38X%2BPbbQrfRLhNVdtEGlrPbXFzJcvbzRTrfTgILZCoRMu%2BWFdv%2BzP8AF/4%2Bap8XPGX7Ov7Sz%2BErzxR4Y8MeHvEseq%2BCtJubGykstWfUrdbYw3NzcuZYbjSLsGUSBZEeJvLjO5ag%2BMf7Cvh346fHVvjL48%2BO3jmXTZvBWp%2BEb74ewwaL/Yl3o2pLbfb7SQvprXpE7WkDs4ug6lCEZEZkPSfs7/su6H%2Bz7fa14jn%2BKHi3xv4h1%2B1sLK/8T%2BNrm0kvTYWKSLZ2Y%2ByW1vH5URnuHBKGR3uZXd3Zs0Aen0UUUAFfInxr/aX/AGtvBmu/tAeBLfwr4M8WXvgLw/4U8SfDax0n4f6nfzrHqOq6lCEvLWK8eXUZ4F02OdTbC3JckKvyq1fXdeFy/sUeIYvjp42%2BP%2BhftofFbStW8b6RY6Zc2NlZ%2BGGtNNtrK4uZ7NLYS6K8n7o3l0oMzyl1nIk8wqhUA6v9lT4tzfGX4UjxNqPxO0bxTqNrqtzY6tdaP4Iv/DZs7iJvmtZ9M1G4nurSdFK7kmYMQyttVWFek1wnwD%2BAegfAHQtZsdP8W654j1XxN4gl1zxP4m8SS27Xuq38kMMHmyC2hhgjCwW9vCqRRRoqQoAuck93QAUUUUAfG37S37Xf7S37PHxmg%2BG2sp8M/Gt9rcEE3hGHTvC17aS%2BC7zUvEOmeHtIm1OV76YXUU7avOC0S2cjixuljDL5hi9x/ZV%2BL/xI%2BIw8f/D74xHRJ/FXw08eN4a1nVfDWnTWdhqfmaXp2rW9xDbzTzyW%2BbXVLdHjaaXEkcmGIIxwtt/wTV8JNdfEN/EP7S/xO1m3%2BJOvHXNYt9SOheZZ6lFcQz6fc211FpaXSmwe3txaRvNJFEsKBkfnPrHwD%2BAuh/APw9q2m2Xi/XPEmreItem1rxP4o8SvbG/1e%2Bkjih86YWsEEC7IILeBEiijRY4I1C8EkA7qiiigBlz9p%2BzSfY9nnbD5Xm527scZxzjNfEHxW/a5/bT%2BGnxE1z4bW9t4D8Z694YvfDVvq3jrwR8Fdf1aPw5b6s1497YS6VZ6lPd3M0cNlY3RMU6fu7qFpYEBiaT7eu4ZLi1lt4bqSB5I2VZ4gpeMkYDLuBXI6jII9Qa%2Be/gx%2BwF4g%2BAnw2uPhp8O/wBur4xRR3WrPqc2s3ll4Tn1CW7leWS5nmmfQj9pkneXdJJOJHzGmwoBggHrPwE%2BIdl8Vvg74f8AiFYfEDRvFSanp4kfX/D%2BkzWFpdyAlZClrPNNLbFXVkaGSR3jZWVjuUgdfXJfAv4L%2BEv2ffhfp3wp8FXN/cWVhLdXE19qtyJrq%2Bu7q5lurq6mcKoaWa4nmlfaqrukO1VXCjraACqPieHxJc%2BG9Qt/Bup2Nlq8llKul3mp2D3VtBcFCI5JYY5YmmjVsFkWSMsAQHUncL1ZvjHQb/xR4Wv/AA7pfi3UtBuby1eKDWtHEBurFyOJohcRSxF1PIEkbocfMrDIoA%2BHvhv%2B3Z%2B1r8YPinrfwS%2BFmm/D5PGem2uu30njPxX8Lta0NdU0zSLXRZUsZdEvL5NQ0%2BV7vxDsSaeZ4/KhkuEhdZ0B%2BxvgF8WtN%2BPnwJ8FfHXRtNls7Pxr4S03XrSzmfc8EV5ax3CxsQBkqJACfUV4tq//AATI8D61rl98Rbv9pT4pp8QNWS8tda%2BJNte6RDq1/pl1bWttNphRNNFnDbFLK0YeRbRSrJAsqyhyzH6D8F%2BD/DXw88HaT4A8GaTFp%2Bj6HpkGn6TYQ52W1tDGscUa55wqKqj6UAadFFFAHL/GnUfHGjfC3Wtb%2BHPiGx0vVrCzN1Dfah4PvfECJHGQ8oGnWM8FzeSNErqkUMgcuy4Vz8jfFvwl/wCCiPx%2B8SeNND1PxvceEfAngzUp518QeOLz4GeIprbWL%2BHX7rSES5lW%2BjTwzPJa2lr%2B41RpJYHlWN87AlfbfxM8Ga7498JTeHPDfxS1/wAG3kksbxa/4ZisXu4NrAlVW/trmBgwBUh4m4Jxg4I8Vuv%2BCc3hTUPB9x8NtW/aQ%2BJt34Y1zUJr/wAeaBNcaOIvGF3PeNdXE19Kumi4i80ssLR2ctrEIYkjVFG7cAfRNFFFABRRRQAUUUUAFFFFABRRRQAUUUUAFFFFABRRRQAUUUUAFFFFABRRRQAUUUUAFFFFABRRRQAUUUUAFFFFABRRRQAUUUUAFFFFABRRRQAUUUUAFFFFABRRRQAUUUUAFFFFABRRRQAUUUUAFFFFABRRRQAUUUUAFFFFABRRRQAUUUUAFFFFABRRRQAUUUUAFFFFABRRRQAUUUUAFFFFABRRRQAUUUUAFFFFABRRRQAUUUUAFFFFABRRRQAUUUUAFFFFABRRRQAUUUUAFFFFABRRRQAUUUUAFFFFABRRRQAUUUUAFFFFABRRRQAUUUUAFFFFAH//2Q%3D%3D\">"
            ]
          },
          "metadata": {
            "tags": []
          }
        }
      ]
    },
    {
      "cell_type": "markdown",
      "metadata": {
        "id": "SlnmCBKXIQeD"
      },
      "source": [
        "# Submit the MLP with 2 hidden layers\n",
        "Run these cells after training the MLP with 2 hidden layers"
      ]
    },
    {
      "cell_type": "code",
      "metadata": {
        "id": "GIB3xidpIQeD"
      },
      "source": [
        "## GRADED PART, DO NOT CHANGE!\n",
        "# Validation loss for MLP\n",
        "grader.set_answer(\"i8bgs\", s.run(loss, {input_X: X_val_flat, input_y: y_val_oh}))\n",
        "# Validation accuracy for MLP\n",
        "grader.set_answer(\"rE763\", accuracy_score(y_val, s.run(classes, {input_X: X_val_flat})))"
      ],
      "execution_count": 29,
      "outputs": []
    },
    {
      "cell_type": "code",
      "metadata": {
        "id": "OA07ZPF1IQeD",
        "colab": {
          "base_uri": "https://localhost:8080/"
        },
        "outputId": "bb6d6ef9-dbc3-4896-a319-b8668af3eed2"
      },
      "source": [
        "# you can make submission with answers so far to check yourself at this stage\n",
        "#grader.submit(COURSERA_EMAIL, COURSERA_TOKEN)\n",
        "grader.submit('roniemartinez_13@hotmail.com', 'YzDUi6R8P7IPljOj')"
      ],
      "execution_count": 31,
      "outputs": [
        {
          "output_type": "stream",
          "text": [
            "Submitted to Coursera platform. See results on assignment page!\n"
          ],
          "name": "stdout"
        }
      ]
    }
  ]
}